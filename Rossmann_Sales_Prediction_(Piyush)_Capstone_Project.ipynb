{
  "cells": [
    {
      "cell_type": "markdown",
      "metadata": {
        "id": "view-in-github",
        "colab_type": "text"
      },
      "source": [
        "<a href=\"https://colab.research.google.com/github/pi-mishra/Rossmann-Sales-Prediction/blob/main/Rossmann_Sales_Prediction_(Piyush)_Capstone_Project.ipynb\" target=\"_parent\"><img src=\"https://colab.research.google.com/assets/colab-badge.svg\" alt=\"Open In Colab\"/></a>"
      ]
    },
    {
      "cell_type": "markdown",
      "metadata": {
        "id": "tOGC-qoyhJeX"
      },
      "source": [
        "# <b><u> Project Title : Sales Prediction : Predicting sales of a major store chain Rossmann</u></b>"
      ]
    },
    {
      "cell_type": "markdown",
      "metadata": {
        "id": "Y06xIdG26kRF"
      },
      "source": [
        "## <b> Problem Description </b>\n",
        "\n",
        "### Rossmann operates over 3,000 drug stores in 7 European countries. Currently, Rossmann store managers are tasked with predicting their daily sales for up to six weeks in advance. Store sales are influenced by many factors, including promotions, competition, school and state holidays, seasonality, and locality. With thousands of individual managers predicting sales based on their unique circumstances, the accuracy of results can be quite varied.\n",
        "\n",
        "### You are provided with historical sales data for 1,115 Rossmann stores. The task is to forecast the \"Sales\" column for the test set. Note that some stores in the dataset were temporarily closed for refurbishment."
      ]
    },
    {
      "cell_type": "markdown",
      "metadata": {
        "id": "WWeU1f9bwqQq"
      },
      "source": [
        "## <b> Data Description </b>\n",
        "\n",
        "### <b>Rossmann Stores Data.csv </b> - historical data including Sales\n",
        "### <b>store.csv </b> - supplemental information about the stores\n",
        "\n",
        "\n",
        "### <b><u>Data fields</u></b>\n",
        "### Most of the fields are self-explanatory. The following are descriptions for those that aren't.\n",
        "\n",
        "* #### Id - an Id that represents a (Store, Date) duple within the test set\n",
        "* #### Store - a unique Id for each store\n",
        "* #### Sales - the turnover for any given day (this is what you are predicting)\n",
        "* #### Customers - the number of customers on a given day\n",
        "* #### Open - an indicator for whether the store was open: 0 = closed, 1 = open\n",
        "* #### StateHoliday - indicates a state holiday. Normally all stores, with few exceptions, are closed on state holidays. Note that all schools are closed on public holidays and weekends. a = public holiday, b = Easter holiday, c = Christmas, 0 = None\n",
        "* #### SchoolHoliday - indicates if the (Store, Date) was affected by the closure of public schools\n",
        "* #### StoreType - differentiates between 4 different store models: a, b, c, d\n",
        "* #### Assortment - describes an assortment level: a = basic, b = extra, c = extended\n",
        "* #### CompetitionDistance - distance in meters to the nearest competitor store\n",
        "* #### CompetitionOpenSince[Month/Year] - gives the approximate year and month of the time the nearest competitor was opened\n",
        "* #### Promo - indicates whether a store is running a promo on that day\n",
        "* #### Promo2 - Promo2 is a continuing and consecutive promotion for some stores: 0 = store is not participating, 1 = store is participating\n",
        "* #### Promo2Since[Year/Week] - describes the year and calendar week when the store started participating in Promo2\n",
        "* #### PromoInterval - describes the consecutive intervals Promo2 is started, naming the months the promotion is started anew. E.g. \"Feb,May,Aug,Nov\" means each round starts in February, May, August, November of any given year for that store"
      ]
    },
    {
      "cell_type": "markdown",
      "metadata": {
        "id": "lBgCrwTEYSZ9"
      },
      "source": [
        "**Table of content-**\n",
        "1. Importing packages"
      ]
    },
    {
      "cell_type": "markdown",
      "metadata": {
        "id": "FeiG9MANYsTI"
      },
      "source": [
        "# 1. Importing packages "
      ]
    },
    {
      "cell_type": "code",
      "execution_count": 53,
      "metadata": {
        "id": "vgHSoK_Gr7GK"
      },
      "outputs": [],
      "source": [
        "import numpy as np\n",
        "import pandas as pd\n",
        "from numpy import math\n",
        "\n",
        "from sklearn.preprocessing import MinMaxScaler\n",
        "from sklearn.model_selection import train_test_split\n",
        "from sklearn.linear_model import LinearRegression\n",
        "from sklearn.metrics import r2_score\n",
        "from sklearn.metrics import mean_squared_error\n",
        "\n",
        "import matplotlib.pyplot as plt\n",
        "import seaborn as sns\n",
        "import warnings\n",
        "warnings.filterwarnings(\"ignore\")\n"
      ]
    },
    {
      "cell_type": "code",
      "execution_count": 54,
      "metadata": {
        "colab": {
          "base_uri": "https://localhost:8080/"
        },
        "id": "KgxUFLZIv7A2",
        "outputId": "a6161b09-cc93-45ed-f2cf-aac7548f7060"
      },
      "outputs": [
        {
          "output_type": "stream",
          "name": "stdout",
          "text": [
            "Drive already mounted at /content/drive; to attempt to forcibly remount, call drive.mount(\"/content/drive\", force_remount=True).\n"
          ]
        }
      ],
      "source": [
        "#mounting drive\n",
        "from google.colab import drive\n",
        "drive.mount('/content/drive')"
      ]
    },
    {
      "cell_type": "markdown",
      "metadata": {
        "id": "5MYPdME-apo6"
      },
      "source": [
        "# 2. Data preparation"
      ]
    },
    {
      "cell_type": "code",
      "execution_count": 55,
      "metadata": {
        "id": "2TJz--q0ZL_X"
      },
      "outputs": [],
      "source": [
        "#reading the datasets\n",
        "\n",
        "r_stores = pd.read_csv('/content/drive/MyDrive/Copy of Rossmann Stores Data.csv')"
      ]
    },
    {
      "cell_type": "code",
      "execution_count": 56,
      "metadata": {
        "id": "CFTyo9WrwdjH"
      },
      "outputs": [],
      "source": [
        "stores= pd.read_csv('/content/drive/MyDrive/Copy of store.csv')"
      ]
    },
    {
      "cell_type": "code",
      "execution_count": 57,
      "metadata": {
        "colab": {
          "base_uri": "https://localhost:8080/",
          "height": 357
        },
        "id": "WX2TdrY5wpgn",
        "outputId": "496f3815-bd54-43d5-b85b-99a9133b09c4"
      },
      "outputs": [
        {
          "output_type": "execute_result",
          "data": {
            "text/plain": [
              "   Store  DayOfWeek        Date  Sales  Customers  Open  Promo StateHoliday  \\\n",
              "0      1          5  2015-07-31   5263        555     1      1            0   \n",
              "1      2          5  2015-07-31   6064        625     1      1            0   \n",
              "2      3          5  2015-07-31   8314        821     1      1            0   \n",
              "3      4          5  2015-07-31  13995       1498     1      1            0   \n",
              "4      5          5  2015-07-31   4822        559     1      1            0   \n",
              "\n",
              "   SchoolHoliday  \n",
              "0              1  \n",
              "1              1  \n",
              "2              1  \n",
              "3              1  \n",
              "4              1  "
            ],
            "text/html": [
              "\n",
              "  <div id=\"df-7b19a3d4-ea89-4f17-8d95-e4ca75fef1a2\">\n",
              "    <div class=\"colab-df-container\">\n",
              "      <div>\n",
              "<style scoped>\n",
              "    .dataframe tbody tr th:only-of-type {\n",
              "        vertical-align: middle;\n",
              "    }\n",
              "\n",
              "    .dataframe tbody tr th {\n",
              "        vertical-align: top;\n",
              "    }\n",
              "\n",
              "    .dataframe thead th {\n",
              "        text-align: right;\n",
              "    }\n",
              "</style>\n",
              "<table border=\"1\" class=\"dataframe\">\n",
              "  <thead>\n",
              "    <tr style=\"text-align: right;\">\n",
              "      <th></th>\n",
              "      <th>Store</th>\n",
              "      <th>DayOfWeek</th>\n",
              "      <th>Date</th>\n",
              "      <th>Sales</th>\n",
              "      <th>Customers</th>\n",
              "      <th>Open</th>\n",
              "      <th>Promo</th>\n",
              "      <th>StateHoliday</th>\n",
              "      <th>SchoolHoliday</th>\n",
              "    </tr>\n",
              "  </thead>\n",
              "  <tbody>\n",
              "    <tr>\n",
              "      <th>0</th>\n",
              "      <td>1</td>\n",
              "      <td>5</td>\n",
              "      <td>2015-07-31</td>\n",
              "      <td>5263</td>\n",
              "      <td>555</td>\n",
              "      <td>1</td>\n",
              "      <td>1</td>\n",
              "      <td>0</td>\n",
              "      <td>1</td>\n",
              "    </tr>\n",
              "    <tr>\n",
              "      <th>1</th>\n",
              "      <td>2</td>\n",
              "      <td>5</td>\n",
              "      <td>2015-07-31</td>\n",
              "      <td>6064</td>\n",
              "      <td>625</td>\n",
              "      <td>1</td>\n",
              "      <td>1</td>\n",
              "      <td>0</td>\n",
              "      <td>1</td>\n",
              "    </tr>\n",
              "    <tr>\n",
              "      <th>2</th>\n",
              "      <td>3</td>\n",
              "      <td>5</td>\n",
              "      <td>2015-07-31</td>\n",
              "      <td>8314</td>\n",
              "      <td>821</td>\n",
              "      <td>1</td>\n",
              "      <td>1</td>\n",
              "      <td>0</td>\n",
              "      <td>1</td>\n",
              "    </tr>\n",
              "    <tr>\n",
              "      <th>3</th>\n",
              "      <td>4</td>\n",
              "      <td>5</td>\n",
              "      <td>2015-07-31</td>\n",
              "      <td>13995</td>\n",
              "      <td>1498</td>\n",
              "      <td>1</td>\n",
              "      <td>1</td>\n",
              "      <td>0</td>\n",
              "      <td>1</td>\n",
              "    </tr>\n",
              "    <tr>\n",
              "      <th>4</th>\n",
              "      <td>5</td>\n",
              "      <td>5</td>\n",
              "      <td>2015-07-31</td>\n",
              "      <td>4822</td>\n",
              "      <td>559</td>\n",
              "      <td>1</td>\n",
              "      <td>1</td>\n",
              "      <td>0</td>\n",
              "      <td>1</td>\n",
              "    </tr>\n",
              "  </tbody>\n",
              "</table>\n",
              "</div>\n",
              "      <button class=\"colab-df-convert\" onclick=\"convertToInteractive('df-7b19a3d4-ea89-4f17-8d95-e4ca75fef1a2')\"\n",
              "              title=\"Convert this dataframe to an interactive table.\"\n",
              "              style=\"display:none;\">\n",
              "        \n",
              "  <svg xmlns=\"http://www.w3.org/2000/svg\" height=\"24px\"viewBox=\"0 0 24 24\"\n",
              "       width=\"24px\">\n",
              "    <path d=\"M0 0h24v24H0V0z\" fill=\"none\"/>\n",
              "    <path d=\"M18.56 5.44l.94 2.06.94-2.06 2.06-.94-2.06-.94-.94-2.06-.94 2.06-2.06.94zm-11 1L8.5 8.5l.94-2.06 2.06-.94-2.06-.94L8.5 2.5l-.94 2.06-2.06.94zm10 10l.94 2.06.94-2.06 2.06-.94-2.06-.94-.94-2.06-.94 2.06-2.06.94z\"/><path d=\"M17.41 7.96l-1.37-1.37c-.4-.4-.92-.59-1.43-.59-.52 0-1.04.2-1.43.59L10.3 9.45l-7.72 7.72c-.78.78-.78 2.05 0 2.83L4 21.41c.39.39.9.59 1.41.59.51 0 1.02-.2 1.41-.59l7.78-7.78 2.81-2.81c.8-.78.8-2.07 0-2.86zM5.41 20L4 18.59l7.72-7.72 1.47 1.35L5.41 20z\"/>\n",
              "  </svg>\n",
              "      </button>\n",
              "      \n",
              "  <style>\n",
              "    .colab-df-container {\n",
              "      display:flex;\n",
              "      flex-wrap:wrap;\n",
              "      gap: 12px;\n",
              "    }\n",
              "\n",
              "    .colab-df-convert {\n",
              "      background-color: #E8F0FE;\n",
              "      border: none;\n",
              "      border-radius: 50%;\n",
              "      cursor: pointer;\n",
              "      display: none;\n",
              "      fill: #1967D2;\n",
              "      height: 32px;\n",
              "      padding: 0 0 0 0;\n",
              "      width: 32px;\n",
              "    }\n",
              "\n",
              "    .colab-df-convert:hover {\n",
              "      background-color: #E2EBFA;\n",
              "      box-shadow: 0px 1px 2px rgba(60, 64, 67, 0.3), 0px 1px 3px 1px rgba(60, 64, 67, 0.15);\n",
              "      fill: #174EA6;\n",
              "    }\n",
              "\n",
              "    [theme=dark] .colab-df-convert {\n",
              "      background-color: #3B4455;\n",
              "      fill: #D2E3FC;\n",
              "    }\n",
              "\n",
              "    [theme=dark] .colab-df-convert:hover {\n",
              "      background-color: #434B5C;\n",
              "      box-shadow: 0px 1px 3px 1px rgba(0, 0, 0, 0.15);\n",
              "      filter: drop-shadow(0px 1px 2px rgba(0, 0, 0, 0.3));\n",
              "      fill: #FFFFFF;\n",
              "    }\n",
              "  </style>\n",
              "\n",
              "      <script>\n",
              "        const buttonEl =\n",
              "          document.querySelector('#df-7b19a3d4-ea89-4f17-8d95-e4ca75fef1a2 button.colab-df-convert');\n",
              "        buttonEl.style.display =\n",
              "          google.colab.kernel.accessAllowed ? 'block' : 'none';\n",
              "\n",
              "        async function convertToInteractive(key) {\n",
              "          const element = document.querySelector('#df-7b19a3d4-ea89-4f17-8d95-e4ca75fef1a2');\n",
              "          const dataTable =\n",
              "            await google.colab.kernel.invokeFunction('convertToInteractive',\n",
              "                                                     [key], {});\n",
              "          if (!dataTable) return;\n",
              "\n",
              "          const docLinkHtml = 'Like what you see? Visit the ' +\n",
              "            '<a target=\"_blank\" href=https://colab.research.google.com/notebooks/data_table.ipynb>data table notebook</a>'\n",
              "            + ' to learn more about interactive tables.';\n",
              "          element.innerHTML = '';\n",
              "          dataTable['output_type'] = 'display_data';\n",
              "          await google.colab.output.renderOutput(dataTable, element);\n",
              "          const docLink = document.createElement('div');\n",
              "          docLink.innerHTML = docLinkHtml;\n",
              "          element.appendChild(docLink);\n",
              "        }\n",
              "      </script>\n",
              "    </div>\n",
              "  </div>\n",
              "  "
            ]
          },
          "metadata": {},
          "execution_count": 57
        }
      ],
      "source": [
        "r_stores.head()"
      ]
    },
    {
      "cell_type": "code",
      "execution_count": 58,
      "metadata": {
        "colab": {
          "base_uri": "https://localhost:8080/",
          "height": 270
        },
        "id": "trIDQiJpwxr9",
        "outputId": "ad0db30b-ceda-4330-d4cb-fffa8a6b05d9"
      },
      "outputs": [
        {
          "output_type": "execute_result",
          "data": {
            "text/plain": [
              "   Store StoreType Assortment  CompetitionDistance  CompetitionOpenSinceMonth  \\\n",
              "0      1         c          a               1270.0                        9.0   \n",
              "1      2         a          a                570.0                       11.0   \n",
              "2      3         a          a              14130.0                       12.0   \n",
              "3      4         c          c                620.0                        9.0   \n",
              "4      5         a          a              29910.0                        4.0   \n",
              "\n",
              "   CompetitionOpenSinceYear  Promo2  Promo2SinceWeek  Promo2SinceYear  \\\n",
              "0                    2008.0       0              NaN              NaN   \n",
              "1                    2007.0       1             13.0           2010.0   \n",
              "2                    2006.0       1             14.0           2011.0   \n",
              "3                    2009.0       0              NaN              NaN   \n",
              "4                    2015.0       0              NaN              NaN   \n",
              "\n",
              "     PromoInterval  \n",
              "0              NaN  \n",
              "1  Jan,Apr,Jul,Oct  \n",
              "2  Jan,Apr,Jul,Oct  \n",
              "3              NaN  \n",
              "4              NaN  "
            ],
            "text/html": [
              "\n",
              "  <div id=\"df-bca19da6-4a34-4866-95ab-d7e594166256\">\n",
              "    <div class=\"colab-df-container\">\n",
              "      <div>\n",
              "<style scoped>\n",
              "    .dataframe tbody tr th:only-of-type {\n",
              "        vertical-align: middle;\n",
              "    }\n",
              "\n",
              "    .dataframe tbody tr th {\n",
              "        vertical-align: top;\n",
              "    }\n",
              "\n",
              "    .dataframe thead th {\n",
              "        text-align: right;\n",
              "    }\n",
              "</style>\n",
              "<table border=\"1\" class=\"dataframe\">\n",
              "  <thead>\n",
              "    <tr style=\"text-align: right;\">\n",
              "      <th></th>\n",
              "      <th>Store</th>\n",
              "      <th>StoreType</th>\n",
              "      <th>Assortment</th>\n",
              "      <th>CompetitionDistance</th>\n",
              "      <th>CompetitionOpenSinceMonth</th>\n",
              "      <th>CompetitionOpenSinceYear</th>\n",
              "      <th>Promo2</th>\n",
              "      <th>Promo2SinceWeek</th>\n",
              "      <th>Promo2SinceYear</th>\n",
              "      <th>PromoInterval</th>\n",
              "    </tr>\n",
              "  </thead>\n",
              "  <tbody>\n",
              "    <tr>\n",
              "      <th>0</th>\n",
              "      <td>1</td>\n",
              "      <td>c</td>\n",
              "      <td>a</td>\n",
              "      <td>1270.0</td>\n",
              "      <td>9.0</td>\n",
              "      <td>2008.0</td>\n",
              "      <td>0</td>\n",
              "      <td>NaN</td>\n",
              "      <td>NaN</td>\n",
              "      <td>NaN</td>\n",
              "    </tr>\n",
              "    <tr>\n",
              "      <th>1</th>\n",
              "      <td>2</td>\n",
              "      <td>a</td>\n",
              "      <td>a</td>\n",
              "      <td>570.0</td>\n",
              "      <td>11.0</td>\n",
              "      <td>2007.0</td>\n",
              "      <td>1</td>\n",
              "      <td>13.0</td>\n",
              "      <td>2010.0</td>\n",
              "      <td>Jan,Apr,Jul,Oct</td>\n",
              "    </tr>\n",
              "    <tr>\n",
              "      <th>2</th>\n",
              "      <td>3</td>\n",
              "      <td>a</td>\n",
              "      <td>a</td>\n",
              "      <td>14130.0</td>\n",
              "      <td>12.0</td>\n",
              "      <td>2006.0</td>\n",
              "      <td>1</td>\n",
              "      <td>14.0</td>\n",
              "      <td>2011.0</td>\n",
              "      <td>Jan,Apr,Jul,Oct</td>\n",
              "    </tr>\n",
              "    <tr>\n",
              "      <th>3</th>\n",
              "      <td>4</td>\n",
              "      <td>c</td>\n",
              "      <td>c</td>\n",
              "      <td>620.0</td>\n",
              "      <td>9.0</td>\n",
              "      <td>2009.0</td>\n",
              "      <td>0</td>\n",
              "      <td>NaN</td>\n",
              "      <td>NaN</td>\n",
              "      <td>NaN</td>\n",
              "    </tr>\n",
              "    <tr>\n",
              "      <th>4</th>\n",
              "      <td>5</td>\n",
              "      <td>a</td>\n",
              "      <td>a</td>\n",
              "      <td>29910.0</td>\n",
              "      <td>4.0</td>\n",
              "      <td>2015.0</td>\n",
              "      <td>0</td>\n",
              "      <td>NaN</td>\n",
              "      <td>NaN</td>\n",
              "      <td>NaN</td>\n",
              "    </tr>\n",
              "  </tbody>\n",
              "</table>\n",
              "</div>\n",
              "      <button class=\"colab-df-convert\" onclick=\"convertToInteractive('df-bca19da6-4a34-4866-95ab-d7e594166256')\"\n",
              "              title=\"Convert this dataframe to an interactive table.\"\n",
              "              style=\"display:none;\">\n",
              "        \n",
              "  <svg xmlns=\"http://www.w3.org/2000/svg\" height=\"24px\"viewBox=\"0 0 24 24\"\n",
              "       width=\"24px\">\n",
              "    <path d=\"M0 0h24v24H0V0z\" fill=\"none\"/>\n",
              "    <path d=\"M18.56 5.44l.94 2.06.94-2.06 2.06-.94-2.06-.94-.94-2.06-.94 2.06-2.06.94zm-11 1L8.5 8.5l.94-2.06 2.06-.94-2.06-.94L8.5 2.5l-.94 2.06-2.06.94zm10 10l.94 2.06.94-2.06 2.06-.94-2.06-.94-.94-2.06-.94 2.06-2.06.94z\"/><path d=\"M17.41 7.96l-1.37-1.37c-.4-.4-.92-.59-1.43-.59-.52 0-1.04.2-1.43.59L10.3 9.45l-7.72 7.72c-.78.78-.78 2.05 0 2.83L4 21.41c.39.39.9.59 1.41.59.51 0 1.02-.2 1.41-.59l7.78-7.78 2.81-2.81c.8-.78.8-2.07 0-2.86zM5.41 20L4 18.59l7.72-7.72 1.47 1.35L5.41 20z\"/>\n",
              "  </svg>\n",
              "      </button>\n",
              "      \n",
              "  <style>\n",
              "    .colab-df-container {\n",
              "      display:flex;\n",
              "      flex-wrap:wrap;\n",
              "      gap: 12px;\n",
              "    }\n",
              "\n",
              "    .colab-df-convert {\n",
              "      background-color: #E8F0FE;\n",
              "      border: none;\n",
              "      border-radius: 50%;\n",
              "      cursor: pointer;\n",
              "      display: none;\n",
              "      fill: #1967D2;\n",
              "      height: 32px;\n",
              "      padding: 0 0 0 0;\n",
              "      width: 32px;\n",
              "    }\n",
              "\n",
              "    .colab-df-convert:hover {\n",
              "      background-color: #E2EBFA;\n",
              "      box-shadow: 0px 1px 2px rgba(60, 64, 67, 0.3), 0px 1px 3px 1px rgba(60, 64, 67, 0.15);\n",
              "      fill: #174EA6;\n",
              "    }\n",
              "\n",
              "    [theme=dark] .colab-df-convert {\n",
              "      background-color: #3B4455;\n",
              "      fill: #D2E3FC;\n",
              "    }\n",
              "\n",
              "    [theme=dark] .colab-df-convert:hover {\n",
              "      background-color: #434B5C;\n",
              "      box-shadow: 0px 1px 3px 1px rgba(0, 0, 0, 0.15);\n",
              "      filter: drop-shadow(0px 1px 2px rgba(0, 0, 0, 0.3));\n",
              "      fill: #FFFFFF;\n",
              "    }\n",
              "  </style>\n",
              "\n",
              "      <script>\n",
              "        const buttonEl =\n",
              "          document.querySelector('#df-bca19da6-4a34-4866-95ab-d7e594166256 button.colab-df-convert');\n",
              "        buttonEl.style.display =\n",
              "          google.colab.kernel.accessAllowed ? 'block' : 'none';\n",
              "\n",
              "        async function convertToInteractive(key) {\n",
              "          const element = document.querySelector('#df-bca19da6-4a34-4866-95ab-d7e594166256');\n",
              "          const dataTable =\n",
              "            await google.colab.kernel.invokeFunction('convertToInteractive',\n",
              "                                                     [key], {});\n",
              "          if (!dataTable) return;\n",
              "\n",
              "          const docLinkHtml = 'Like what you see? Visit the ' +\n",
              "            '<a target=\"_blank\" href=https://colab.research.google.com/notebooks/data_table.ipynb>data table notebook</a>'\n",
              "            + ' to learn more about interactive tables.';\n",
              "          element.innerHTML = '';\n",
              "          dataTable['output_type'] = 'display_data';\n",
              "          await google.colab.output.renderOutput(dataTable, element);\n",
              "          const docLink = document.createElement('div');\n",
              "          docLink.innerHTML = docLinkHtml;\n",
              "          element.appendChild(docLink);\n",
              "        }\n",
              "      </script>\n",
              "    </div>\n",
              "  </div>\n",
              "  "
            ]
          },
          "metadata": {},
          "execution_count": 58
        }
      ],
      "source": [
        "stores.head()"
      ]
    },
    {
      "cell_type": "code",
      "execution_count": 59,
      "metadata": {
        "id": "0YRxPk0rxA3F"
      },
      "outputs": [],
      "source": [
        "#mearging the 2 data sets\n",
        "\n",
        "all_store = pd.merge(r_stores, stores, on ='Store')"
      ]
    },
    {
      "cell_type": "code",
      "execution_count": 60,
      "metadata": {
        "colab": {
          "base_uri": "https://localhost:8080/",
          "height": 357
        },
        "id": "-B50EsAwxvqt",
        "outputId": "7eeea9d5-8e44-4415-8eec-6c8e667aeb6b"
      },
      "outputs": [
        {
          "output_type": "execute_result",
          "data": {
            "text/plain": [
              "   Store  DayOfWeek        Date  Sales  Customers  Open  Promo StateHoliday  \\\n",
              "0      1          5  2015-07-31   5263        555     1      1            0   \n",
              "1      1          4  2015-07-30   5020        546     1      1            0   \n",
              "2      1          3  2015-07-29   4782        523     1      1            0   \n",
              "3      1          2  2015-07-28   5011        560     1      1            0   \n",
              "4      1          1  2015-07-27   6102        612     1      1            0   \n",
              "\n",
              "   SchoolHoliday StoreType Assortment  CompetitionDistance  \\\n",
              "0              1         c          a               1270.0   \n",
              "1              1         c          a               1270.0   \n",
              "2              1         c          a               1270.0   \n",
              "3              1         c          a               1270.0   \n",
              "4              1         c          a               1270.0   \n",
              "\n",
              "   CompetitionOpenSinceMonth  CompetitionOpenSinceYear  Promo2  \\\n",
              "0                        9.0                    2008.0       0   \n",
              "1                        9.0                    2008.0       0   \n",
              "2                        9.0                    2008.0       0   \n",
              "3                        9.0                    2008.0       0   \n",
              "4                        9.0                    2008.0       0   \n",
              "\n",
              "   Promo2SinceWeek  Promo2SinceYear PromoInterval  \n",
              "0              NaN              NaN           NaN  \n",
              "1              NaN              NaN           NaN  \n",
              "2              NaN              NaN           NaN  \n",
              "3              NaN              NaN           NaN  \n",
              "4              NaN              NaN           NaN  "
            ],
            "text/html": [
              "\n",
              "  <div id=\"df-f237b9fc-63e8-4d54-8335-38723f25072e\">\n",
              "    <div class=\"colab-df-container\">\n",
              "      <div>\n",
              "<style scoped>\n",
              "    .dataframe tbody tr th:only-of-type {\n",
              "        vertical-align: middle;\n",
              "    }\n",
              "\n",
              "    .dataframe tbody tr th {\n",
              "        vertical-align: top;\n",
              "    }\n",
              "\n",
              "    .dataframe thead th {\n",
              "        text-align: right;\n",
              "    }\n",
              "</style>\n",
              "<table border=\"1\" class=\"dataframe\">\n",
              "  <thead>\n",
              "    <tr style=\"text-align: right;\">\n",
              "      <th></th>\n",
              "      <th>Store</th>\n",
              "      <th>DayOfWeek</th>\n",
              "      <th>Date</th>\n",
              "      <th>Sales</th>\n",
              "      <th>Customers</th>\n",
              "      <th>Open</th>\n",
              "      <th>Promo</th>\n",
              "      <th>StateHoliday</th>\n",
              "      <th>SchoolHoliday</th>\n",
              "      <th>StoreType</th>\n",
              "      <th>Assortment</th>\n",
              "      <th>CompetitionDistance</th>\n",
              "      <th>CompetitionOpenSinceMonth</th>\n",
              "      <th>CompetitionOpenSinceYear</th>\n",
              "      <th>Promo2</th>\n",
              "      <th>Promo2SinceWeek</th>\n",
              "      <th>Promo2SinceYear</th>\n",
              "      <th>PromoInterval</th>\n",
              "    </tr>\n",
              "  </thead>\n",
              "  <tbody>\n",
              "    <tr>\n",
              "      <th>0</th>\n",
              "      <td>1</td>\n",
              "      <td>5</td>\n",
              "      <td>2015-07-31</td>\n",
              "      <td>5263</td>\n",
              "      <td>555</td>\n",
              "      <td>1</td>\n",
              "      <td>1</td>\n",
              "      <td>0</td>\n",
              "      <td>1</td>\n",
              "      <td>c</td>\n",
              "      <td>a</td>\n",
              "      <td>1270.0</td>\n",
              "      <td>9.0</td>\n",
              "      <td>2008.0</td>\n",
              "      <td>0</td>\n",
              "      <td>NaN</td>\n",
              "      <td>NaN</td>\n",
              "      <td>NaN</td>\n",
              "    </tr>\n",
              "    <tr>\n",
              "      <th>1</th>\n",
              "      <td>1</td>\n",
              "      <td>4</td>\n",
              "      <td>2015-07-30</td>\n",
              "      <td>5020</td>\n",
              "      <td>546</td>\n",
              "      <td>1</td>\n",
              "      <td>1</td>\n",
              "      <td>0</td>\n",
              "      <td>1</td>\n",
              "      <td>c</td>\n",
              "      <td>a</td>\n",
              "      <td>1270.0</td>\n",
              "      <td>9.0</td>\n",
              "      <td>2008.0</td>\n",
              "      <td>0</td>\n",
              "      <td>NaN</td>\n",
              "      <td>NaN</td>\n",
              "      <td>NaN</td>\n",
              "    </tr>\n",
              "    <tr>\n",
              "      <th>2</th>\n",
              "      <td>1</td>\n",
              "      <td>3</td>\n",
              "      <td>2015-07-29</td>\n",
              "      <td>4782</td>\n",
              "      <td>523</td>\n",
              "      <td>1</td>\n",
              "      <td>1</td>\n",
              "      <td>0</td>\n",
              "      <td>1</td>\n",
              "      <td>c</td>\n",
              "      <td>a</td>\n",
              "      <td>1270.0</td>\n",
              "      <td>9.0</td>\n",
              "      <td>2008.0</td>\n",
              "      <td>0</td>\n",
              "      <td>NaN</td>\n",
              "      <td>NaN</td>\n",
              "      <td>NaN</td>\n",
              "    </tr>\n",
              "    <tr>\n",
              "      <th>3</th>\n",
              "      <td>1</td>\n",
              "      <td>2</td>\n",
              "      <td>2015-07-28</td>\n",
              "      <td>5011</td>\n",
              "      <td>560</td>\n",
              "      <td>1</td>\n",
              "      <td>1</td>\n",
              "      <td>0</td>\n",
              "      <td>1</td>\n",
              "      <td>c</td>\n",
              "      <td>a</td>\n",
              "      <td>1270.0</td>\n",
              "      <td>9.0</td>\n",
              "      <td>2008.0</td>\n",
              "      <td>0</td>\n",
              "      <td>NaN</td>\n",
              "      <td>NaN</td>\n",
              "      <td>NaN</td>\n",
              "    </tr>\n",
              "    <tr>\n",
              "      <th>4</th>\n",
              "      <td>1</td>\n",
              "      <td>1</td>\n",
              "      <td>2015-07-27</td>\n",
              "      <td>6102</td>\n",
              "      <td>612</td>\n",
              "      <td>1</td>\n",
              "      <td>1</td>\n",
              "      <td>0</td>\n",
              "      <td>1</td>\n",
              "      <td>c</td>\n",
              "      <td>a</td>\n",
              "      <td>1270.0</td>\n",
              "      <td>9.0</td>\n",
              "      <td>2008.0</td>\n",
              "      <td>0</td>\n",
              "      <td>NaN</td>\n",
              "      <td>NaN</td>\n",
              "      <td>NaN</td>\n",
              "    </tr>\n",
              "  </tbody>\n",
              "</table>\n",
              "</div>\n",
              "      <button class=\"colab-df-convert\" onclick=\"convertToInteractive('df-f237b9fc-63e8-4d54-8335-38723f25072e')\"\n",
              "              title=\"Convert this dataframe to an interactive table.\"\n",
              "              style=\"display:none;\">\n",
              "        \n",
              "  <svg xmlns=\"http://www.w3.org/2000/svg\" height=\"24px\"viewBox=\"0 0 24 24\"\n",
              "       width=\"24px\">\n",
              "    <path d=\"M0 0h24v24H0V0z\" fill=\"none\"/>\n",
              "    <path d=\"M18.56 5.44l.94 2.06.94-2.06 2.06-.94-2.06-.94-.94-2.06-.94 2.06-2.06.94zm-11 1L8.5 8.5l.94-2.06 2.06-.94-2.06-.94L8.5 2.5l-.94 2.06-2.06.94zm10 10l.94 2.06.94-2.06 2.06-.94-2.06-.94-.94-2.06-.94 2.06-2.06.94z\"/><path d=\"M17.41 7.96l-1.37-1.37c-.4-.4-.92-.59-1.43-.59-.52 0-1.04.2-1.43.59L10.3 9.45l-7.72 7.72c-.78.78-.78 2.05 0 2.83L4 21.41c.39.39.9.59 1.41.59.51 0 1.02-.2 1.41-.59l7.78-7.78 2.81-2.81c.8-.78.8-2.07 0-2.86zM5.41 20L4 18.59l7.72-7.72 1.47 1.35L5.41 20z\"/>\n",
              "  </svg>\n",
              "      </button>\n",
              "      \n",
              "  <style>\n",
              "    .colab-df-container {\n",
              "      display:flex;\n",
              "      flex-wrap:wrap;\n",
              "      gap: 12px;\n",
              "    }\n",
              "\n",
              "    .colab-df-convert {\n",
              "      background-color: #E8F0FE;\n",
              "      border: none;\n",
              "      border-radius: 50%;\n",
              "      cursor: pointer;\n",
              "      display: none;\n",
              "      fill: #1967D2;\n",
              "      height: 32px;\n",
              "      padding: 0 0 0 0;\n",
              "      width: 32px;\n",
              "    }\n",
              "\n",
              "    .colab-df-convert:hover {\n",
              "      background-color: #E2EBFA;\n",
              "      box-shadow: 0px 1px 2px rgba(60, 64, 67, 0.3), 0px 1px 3px 1px rgba(60, 64, 67, 0.15);\n",
              "      fill: #174EA6;\n",
              "    }\n",
              "\n",
              "    [theme=dark] .colab-df-convert {\n",
              "      background-color: #3B4455;\n",
              "      fill: #D2E3FC;\n",
              "    }\n",
              "\n",
              "    [theme=dark] .colab-df-convert:hover {\n",
              "      background-color: #434B5C;\n",
              "      box-shadow: 0px 1px 3px 1px rgba(0, 0, 0, 0.15);\n",
              "      filter: drop-shadow(0px 1px 2px rgba(0, 0, 0, 0.3));\n",
              "      fill: #FFFFFF;\n",
              "    }\n",
              "  </style>\n",
              "\n",
              "      <script>\n",
              "        const buttonEl =\n",
              "          document.querySelector('#df-f237b9fc-63e8-4d54-8335-38723f25072e button.colab-df-convert');\n",
              "        buttonEl.style.display =\n",
              "          google.colab.kernel.accessAllowed ? 'block' : 'none';\n",
              "\n",
              "        async function convertToInteractive(key) {\n",
              "          const element = document.querySelector('#df-f237b9fc-63e8-4d54-8335-38723f25072e');\n",
              "          const dataTable =\n",
              "            await google.colab.kernel.invokeFunction('convertToInteractive',\n",
              "                                                     [key], {});\n",
              "          if (!dataTable) return;\n",
              "\n",
              "          const docLinkHtml = 'Like what you see? Visit the ' +\n",
              "            '<a target=\"_blank\" href=https://colab.research.google.com/notebooks/data_table.ipynb>data table notebook</a>'\n",
              "            + ' to learn more about interactive tables.';\n",
              "          element.innerHTML = '';\n",
              "          dataTable['output_type'] = 'display_data';\n",
              "          await google.colab.output.renderOutput(dataTable, element);\n",
              "          const docLink = document.createElement('div');\n",
              "          docLink.innerHTML = docLinkHtml;\n",
              "          element.appendChild(docLink);\n",
              "        }\n",
              "      </script>\n",
              "    </div>\n",
              "  </div>\n",
              "  "
            ]
          },
          "metadata": {},
          "execution_count": 60
        }
      ],
      "source": [
        "all_store.head()"
      ]
    },
    {
      "cell_type": "code",
      "execution_count": 61,
      "metadata": {
        "colab": {
          "base_uri": "https://localhost:8080/"
        },
        "id": "9bI7CMuFx1v0",
        "outputId": "982651cf-c4fd-4e77-8c07-075cb34b356f"
      },
      "outputs": [
        {
          "output_type": "stream",
          "name": "stdout",
          "text": [
            "<class 'pandas.core.frame.DataFrame'>\n",
            "Int64Index: 1017209 entries, 0 to 1017208\n",
            "Data columns (total 18 columns):\n",
            " #   Column                     Non-Null Count    Dtype  \n",
            "---  ------                     --------------    -----  \n",
            " 0   Store                      1017209 non-null  int64  \n",
            " 1   DayOfWeek                  1017209 non-null  int64  \n",
            " 2   Date                       1017209 non-null  object \n",
            " 3   Sales                      1017209 non-null  int64  \n",
            " 4   Customers                  1017209 non-null  int64  \n",
            " 5   Open                       1017209 non-null  int64  \n",
            " 6   Promo                      1017209 non-null  int64  \n",
            " 7   StateHoliday               1017209 non-null  object \n",
            " 8   SchoolHoliday              1017209 non-null  int64  \n",
            " 9   StoreType                  1017209 non-null  object \n",
            " 10  Assortment                 1017209 non-null  object \n",
            " 11  CompetitionDistance        1014567 non-null  float64\n",
            " 12  CompetitionOpenSinceMonth  693861 non-null   float64\n",
            " 13  CompetitionOpenSinceYear   693861 non-null   float64\n",
            " 14  Promo2                     1017209 non-null  int64  \n",
            " 15  Promo2SinceWeek            509178 non-null   float64\n",
            " 16  Promo2SinceYear            509178 non-null   float64\n",
            " 17  PromoInterval              509178 non-null   object \n",
            "dtypes: float64(5), int64(8), object(5)\n",
            "memory usage: 147.5+ MB\n"
          ]
        }
      ],
      "source": [
        "all_store.info()"
      ]
    },
    {
      "cell_type": "code",
      "source": [
        "all_store['Date']= pd.to_datetime(all_store['Date'])"
      ],
      "metadata": {
        "id": "wdoUu50IJQ4n"
      },
      "execution_count": 62,
      "outputs": []
    },
    {
      "cell_type": "code",
      "source": [
        "all_store['year'] = pd.DatetimeIndex(all_store['Date']).year\n",
        "\n",
        "all_store['month'] = pd.DatetimeIndex(all_store['Date']).month\n",
        "\n",
        "all_store['day'] = pd.DatetimeIndex(all_store['Date']).day"
      ],
      "metadata": {
        "id": "t3HtiZgFP6wB"
      },
      "execution_count": 63,
      "outputs": []
    },
    {
      "cell_type": "code",
      "source": [
        "all_store.head()"
      ],
      "metadata": {
        "colab": {
          "base_uri": "https://localhost:8080/",
          "height": 386
        },
        "id": "qa2RwtuOQju3",
        "outputId": "56166b01-29b5-45e6-df55-eec940d36085"
      },
      "execution_count": 64,
      "outputs": [
        {
          "output_type": "execute_result",
          "data": {
            "text/plain": [
              "   Store  DayOfWeek       Date  Sales  Customers  Open  Promo StateHoliday  \\\n",
              "0      1          5 2015-07-31   5263        555     1      1            0   \n",
              "1      1          4 2015-07-30   5020        546     1      1            0   \n",
              "2      1          3 2015-07-29   4782        523     1      1            0   \n",
              "3      1          2 2015-07-28   5011        560     1      1            0   \n",
              "4      1          1 2015-07-27   6102        612     1      1            0   \n",
              "\n",
              "   SchoolHoliday StoreType  ... CompetitionDistance  \\\n",
              "0              1         c  ...              1270.0   \n",
              "1              1         c  ...              1270.0   \n",
              "2              1         c  ...              1270.0   \n",
              "3              1         c  ...              1270.0   \n",
              "4              1         c  ...              1270.0   \n",
              "\n",
              "   CompetitionOpenSinceMonth  CompetitionOpenSinceYear  Promo2  \\\n",
              "0                        9.0                    2008.0       0   \n",
              "1                        9.0                    2008.0       0   \n",
              "2                        9.0                    2008.0       0   \n",
              "3                        9.0                    2008.0       0   \n",
              "4                        9.0                    2008.0       0   \n",
              "\n",
              "   Promo2SinceWeek  Promo2SinceYear  PromoInterval  year  month  day  \n",
              "0              NaN              NaN            NaN  2015      7   31  \n",
              "1              NaN              NaN            NaN  2015      7   30  \n",
              "2              NaN              NaN            NaN  2015      7   29  \n",
              "3              NaN              NaN            NaN  2015      7   28  \n",
              "4              NaN              NaN            NaN  2015      7   27  \n",
              "\n",
              "[5 rows x 21 columns]"
            ],
            "text/html": [
              "\n",
              "  <div id=\"df-bd741f05-c22b-42a3-81bf-6d0deaf2a9b5\">\n",
              "    <div class=\"colab-df-container\">\n",
              "      <div>\n",
              "<style scoped>\n",
              "    .dataframe tbody tr th:only-of-type {\n",
              "        vertical-align: middle;\n",
              "    }\n",
              "\n",
              "    .dataframe tbody tr th {\n",
              "        vertical-align: top;\n",
              "    }\n",
              "\n",
              "    .dataframe thead th {\n",
              "        text-align: right;\n",
              "    }\n",
              "</style>\n",
              "<table border=\"1\" class=\"dataframe\">\n",
              "  <thead>\n",
              "    <tr style=\"text-align: right;\">\n",
              "      <th></th>\n",
              "      <th>Store</th>\n",
              "      <th>DayOfWeek</th>\n",
              "      <th>Date</th>\n",
              "      <th>Sales</th>\n",
              "      <th>Customers</th>\n",
              "      <th>Open</th>\n",
              "      <th>Promo</th>\n",
              "      <th>StateHoliday</th>\n",
              "      <th>SchoolHoliday</th>\n",
              "      <th>StoreType</th>\n",
              "      <th>...</th>\n",
              "      <th>CompetitionDistance</th>\n",
              "      <th>CompetitionOpenSinceMonth</th>\n",
              "      <th>CompetitionOpenSinceYear</th>\n",
              "      <th>Promo2</th>\n",
              "      <th>Promo2SinceWeek</th>\n",
              "      <th>Promo2SinceYear</th>\n",
              "      <th>PromoInterval</th>\n",
              "      <th>year</th>\n",
              "      <th>month</th>\n",
              "      <th>day</th>\n",
              "    </tr>\n",
              "  </thead>\n",
              "  <tbody>\n",
              "    <tr>\n",
              "      <th>0</th>\n",
              "      <td>1</td>\n",
              "      <td>5</td>\n",
              "      <td>2015-07-31</td>\n",
              "      <td>5263</td>\n",
              "      <td>555</td>\n",
              "      <td>1</td>\n",
              "      <td>1</td>\n",
              "      <td>0</td>\n",
              "      <td>1</td>\n",
              "      <td>c</td>\n",
              "      <td>...</td>\n",
              "      <td>1270.0</td>\n",
              "      <td>9.0</td>\n",
              "      <td>2008.0</td>\n",
              "      <td>0</td>\n",
              "      <td>NaN</td>\n",
              "      <td>NaN</td>\n",
              "      <td>NaN</td>\n",
              "      <td>2015</td>\n",
              "      <td>7</td>\n",
              "      <td>31</td>\n",
              "    </tr>\n",
              "    <tr>\n",
              "      <th>1</th>\n",
              "      <td>1</td>\n",
              "      <td>4</td>\n",
              "      <td>2015-07-30</td>\n",
              "      <td>5020</td>\n",
              "      <td>546</td>\n",
              "      <td>1</td>\n",
              "      <td>1</td>\n",
              "      <td>0</td>\n",
              "      <td>1</td>\n",
              "      <td>c</td>\n",
              "      <td>...</td>\n",
              "      <td>1270.0</td>\n",
              "      <td>9.0</td>\n",
              "      <td>2008.0</td>\n",
              "      <td>0</td>\n",
              "      <td>NaN</td>\n",
              "      <td>NaN</td>\n",
              "      <td>NaN</td>\n",
              "      <td>2015</td>\n",
              "      <td>7</td>\n",
              "      <td>30</td>\n",
              "    </tr>\n",
              "    <tr>\n",
              "      <th>2</th>\n",
              "      <td>1</td>\n",
              "      <td>3</td>\n",
              "      <td>2015-07-29</td>\n",
              "      <td>4782</td>\n",
              "      <td>523</td>\n",
              "      <td>1</td>\n",
              "      <td>1</td>\n",
              "      <td>0</td>\n",
              "      <td>1</td>\n",
              "      <td>c</td>\n",
              "      <td>...</td>\n",
              "      <td>1270.0</td>\n",
              "      <td>9.0</td>\n",
              "      <td>2008.0</td>\n",
              "      <td>0</td>\n",
              "      <td>NaN</td>\n",
              "      <td>NaN</td>\n",
              "      <td>NaN</td>\n",
              "      <td>2015</td>\n",
              "      <td>7</td>\n",
              "      <td>29</td>\n",
              "    </tr>\n",
              "    <tr>\n",
              "      <th>3</th>\n",
              "      <td>1</td>\n",
              "      <td>2</td>\n",
              "      <td>2015-07-28</td>\n",
              "      <td>5011</td>\n",
              "      <td>560</td>\n",
              "      <td>1</td>\n",
              "      <td>1</td>\n",
              "      <td>0</td>\n",
              "      <td>1</td>\n",
              "      <td>c</td>\n",
              "      <td>...</td>\n",
              "      <td>1270.0</td>\n",
              "      <td>9.0</td>\n",
              "      <td>2008.0</td>\n",
              "      <td>0</td>\n",
              "      <td>NaN</td>\n",
              "      <td>NaN</td>\n",
              "      <td>NaN</td>\n",
              "      <td>2015</td>\n",
              "      <td>7</td>\n",
              "      <td>28</td>\n",
              "    </tr>\n",
              "    <tr>\n",
              "      <th>4</th>\n",
              "      <td>1</td>\n",
              "      <td>1</td>\n",
              "      <td>2015-07-27</td>\n",
              "      <td>6102</td>\n",
              "      <td>612</td>\n",
              "      <td>1</td>\n",
              "      <td>1</td>\n",
              "      <td>0</td>\n",
              "      <td>1</td>\n",
              "      <td>c</td>\n",
              "      <td>...</td>\n",
              "      <td>1270.0</td>\n",
              "      <td>9.0</td>\n",
              "      <td>2008.0</td>\n",
              "      <td>0</td>\n",
              "      <td>NaN</td>\n",
              "      <td>NaN</td>\n",
              "      <td>NaN</td>\n",
              "      <td>2015</td>\n",
              "      <td>7</td>\n",
              "      <td>27</td>\n",
              "    </tr>\n",
              "  </tbody>\n",
              "</table>\n",
              "<p>5 rows × 21 columns</p>\n",
              "</div>\n",
              "      <button class=\"colab-df-convert\" onclick=\"convertToInteractive('df-bd741f05-c22b-42a3-81bf-6d0deaf2a9b5')\"\n",
              "              title=\"Convert this dataframe to an interactive table.\"\n",
              "              style=\"display:none;\">\n",
              "        \n",
              "  <svg xmlns=\"http://www.w3.org/2000/svg\" height=\"24px\"viewBox=\"0 0 24 24\"\n",
              "       width=\"24px\">\n",
              "    <path d=\"M0 0h24v24H0V0z\" fill=\"none\"/>\n",
              "    <path d=\"M18.56 5.44l.94 2.06.94-2.06 2.06-.94-2.06-.94-.94-2.06-.94 2.06-2.06.94zm-11 1L8.5 8.5l.94-2.06 2.06-.94-2.06-.94L8.5 2.5l-.94 2.06-2.06.94zm10 10l.94 2.06.94-2.06 2.06-.94-2.06-.94-.94-2.06-.94 2.06-2.06.94z\"/><path d=\"M17.41 7.96l-1.37-1.37c-.4-.4-.92-.59-1.43-.59-.52 0-1.04.2-1.43.59L10.3 9.45l-7.72 7.72c-.78.78-.78 2.05 0 2.83L4 21.41c.39.39.9.59 1.41.59.51 0 1.02-.2 1.41-.59l7.78-7.78 2.81-2.81c.8-.78.8-2.07 0-2.86zM5.41 20L4 18.59l7.72-7.72 1.47 1.35L5.41 20z\"/>\n",
              "  </svg>\n",
              "      </button>\n",
              "      \n",
              "  <style>\n",
              "    .colab-df-container {\n",
              "      display:flex;\n",
              "      flex-wrap:wrap;\n",
              "      gap: 12px;\n",
              "    }\n",
              "\n",
              "    .colab-df-convert {\n",
              "      background-color: #E8F0FE;\n",
              "      border: none;\n",
              "      border-radius: 50%;\n",
              "      cursor: pointer;\n",
              "      display: none;\n",
              "      fill: #1967D2;\n",
              "      height: 32px;\n",
              "      padding: 0 0 0 0;\n",
              "      width: 32px;\n",
              "    }\n",
              "\n",
              "    .colab-df-convert:hover {\n",
              "      background-color: #E2EBFA;\n",
              "      box-shadow: 0px 1px 2px rgba(60, 64, 67, 0.3), 0px 1px 3px 1px rgba(60, 64, 67, 0.15);\n",
              "      fill: #174EA6;\n",
              "    }\n",
              "\n",
              "    [theme=dark] .colab-df-convert {\n",
              "      background-color: #3B4455;\n",
              "      fill: #D2E3FC;\n",
              "    }\n",
              "\n",
              "    [theme=dark] .colab-df-convert:hover {\n",
              "      background-color: #434B5C;\n",
              "      box-shadow: 0px 1px 3px 1px rgba(0, 0, 0, 0.15);\n",
              "      filter: drop-shadow(0px 1px 2px rgba(0, 0, 0, 0.3));\n",
              "      fill: #FFFFFF;\n",
              "    }\n",
              "  </style>\n",
              "\n",
              "      <script>\n",
              "        const buttonEl =\n",
              "          document.querySelector('#df-bd741f05-c22b-42a3-81bf-6d0deaf2a9b5 button.colab-df-convert');\n",
              "        buttonEl.style.display =\n",
              "          google.colab.kernel.accessAllowed ? 'block' : 'none';\n",
              "\n",
              "        async function convertToInteractive(key) {\n",
              "          const element = document.querySelector('#df-bd741f05-c22b-42a3-81bf-6d0deaf2a9b5');\n",
              "          const dataTable =\n",
              "            await google.colab.kernel.invokeFunction('convertToInteractive',\n",
              "                                                     [key], {});\n",
              "          if (!dataTable) return;\n",
              "\n",
              "          const docLinkHtml = 'Like what you see? Visit the ' +\n",
              "            '<a target=\"_blank\" href=https://colab.research.google.com/notebooks/data_table.ipynb>data table notebook</a>'\n",
              "            + ' to learn more about interactive tables.';\n",
              "          element.innerHTML = '';\n",
              "          dataTable['output_type'] = 'display_data';\n",
              "          await google.colab.output.renderOutput(dataTable, element);\n",
              "          const docLink = document.createElement('div');\n",
              "          docLink.innerHTML = docLinkHtml;\n",
              "          element.appendChild(docLink);\n",
              "        }\n",
              "      </script>\n",
              "    </div>\n",
              "  </div>\n",
              "  "
            ]
          },
          "metadata": {},
          "execution_count": 64
        }
      ]
    },
    {
      "cell_type": "code",
      "source": [
        "all_store.drop(['Date'], axis=1, inplace = True)"
      ],
      "metadata": {
        "id": "Ipn8RISOReMv"
      },
      "execution_count": 65,
      "outputs": []
    },
    {
      "cell_type": "code",
      "source": [
        "all_store.dtypes"
      ],
      "metadata": {
        "colab": {
          "base_uri": "https://localhost:8080/"
        },
        "id": "zA0db8XaRP0t",
        "outputId": "b454476e-fe5a-4d13-9585-dd0a8a8c8633"
      },
      "execution_count": 66,
      "outputs": [
        {
          "output_type": "execute_result",
          "data": {
            "text/plain": [
              "Store                          int64\n",
              "DayOfWeek                      int64\n",
              "Sales                          int64\n",
              "Customers                      int64\n",
              "Open                           int64\n",
              "Promo                          int64\n",
              "StateHoliday                  object\n",
              "SchoolHoliday                  int64\n",
              "StoreType                     object\n",
              "Assortment                    object\n",
              "CompetitionDistance          float64\n",
              "CompetitionOpenSinceMonth    float64\n",
              "CompetitionOpenSinceYear     float64\n",
              "Promo2                         int64\n",
              "Promo2SinceWeek              float64\n",
              "Promo2SinceYear              float64\n",
              "PromoInterval                 object\n",
              "year                           int64\n",
              "month                          int64\n",
              "day                            int64\n",
              "dtype: object"
            ]
          },
          "metadata": {},
          "execution_count": 66
        }
      ]
    },
    {
      "cell_type": "code",
      "source": [
        "\"\"\" all_store['Year'] = all_store.index.year\n",
        "all_store['Month'] = all_store.index.month\n",
        "all_store['Day'] = all_store.index.day\n",
        "all_store['WeekOfYear'] = all_store.index.weekofyear\n",
        "all_store = all_store.reset_index()\"\"\"\n"
      ],
      "metadata": {
        "colab": {
          "base_uri": "https://localhost:8080/",
          "height": 70
        },
        "id": "GKaDq1ZrIsXt",
        "outputId": "4e571172-5c3c-4fd6-e47b-f846a17261c9"
      },
      "execution_count": 67,
      "outputs": [
        {
          "output_type": "execute_result",
          "data": {
            "text/plain": [
              "\" all_store['Year'] = all_store.index.year\\nall_store['Month'] = all_store.index.month\\nall_store['Day'] = all_store.index.day\\nall_store['WeekOfYear'] = all_store.index.weekofyear\\nall_store = all_store.reset_index()\""
            ],
            "application/vnd.google.colaboratory.intrinsic+json": {
              "type": "string"
            }
          },
          "metadata": {},
          "execution_count": 67
        }
      ]
    },
    {
      "cell_type": "code",
      "execution_count": 68,
      "metadata": {
        "colab": {
          "base_uri": "https://localhost:8080/"
        },
        "id": "sxVgiLVDDc2G",
        "outputId": "9176beb8-6333-4861-e3e8-7b5ea054f1ac"
      },
      "outputs": [
        {
          "output_type": "execute_result",
          "data": {
            "text/plain": [
              "Store                         1115\n",
              "DayOfWeek                        7\n",
              "Sales                        21734\n",
              "Customers                     4086\n",
              "Open                             2\n",
              "Promo                            2\n",
              "StateHoliday                     5\n",
              "SchoolHoliday                    2\n",
              "StoreType                        4\n",
              "Assortment                       3\n",
              "CompetitionDistance            654\n",
              "CompetitionOpenSinceMonth       12\n",
              "CompetitionOpenSinceYear        23\n",
              "Promo2                           2\n",
              "Promo2SinceWeek                 24\n",
              "Promo2SinceYear                  7\n",
              "PromoInterval                    3\n",
              "year                             3\n",
              "month                           12\n",
              "day                             31\n",
              "dtype: int64"
            ]
          },
          "metadata": {},
          "execution_count": 68
        }
      ],
      "source": [
        "all_store.nunique()"
      ]
    },
    {
      "cell_type": "code",
      "execution_count": 69,
      "metadata": {
        "colab": {
          "base_uri": "https://localhost:8080/"
        },
        "id": "-xHLuYYkywS0",
        "outputId": "4640cc5a-4763-4030-b436-750608c712dc"
      },
      "outputs": [
        {
          "output_type": "execute_result",
          "data": {
            "text/plain": [
              "Store                             0\n",
              "DayOfWeek                         0\n",
              "Sales                             0\n",
              "Customers                         0\n",
              "Open                              0\n",
              "Promo                             0\n",
              "StateHoliday                      0\n",
              "SchoolHoliday                     0\n",
              "StoreType                         0\n",
              "Assortment                        0\n",
              "CompetitionDistance            2642\n",
              "CompetitionOpenSinceMonth    323348\n",
              "CompetitionOpenSinceYear     323348\n",
              "Promo2                            0\n",
              "Promo2SinceWeek              508031\n",
              "Promo2SinceYear              508031\n",
              "PromoInterval                508031\n",
              "year                              0\n",
              "month                             0\n",
              "day                               0\n",
              "dtype: int64"
            ]
          },
          "metadata": {},
          "execution_count": 69
        }
      ],
      "source": [
        "all_store.isnull().sum()"
      ]
    },
    {
      "cell_type": "code",
      "execution_count": 70,
      "metadata": {
        "colab": {
          "base_uri": "https://localhost:8080/"
        },
        "id": "ZN5IRvXAzAL9",
        "outputId": "42e2757c-bfcd-4a59-964f-0f84147016c7"
      },
      "outputs": [
        {
          "output_type": "execute_result",
          "data": {
            "text/plain": [
              "Store                        0.000000\n",
              "DayOfWeek                    0.000000\n",
              "Sales                        0.000000\n",
              "Customers                    0.000000\n",
              "Open                         0.000000\n",
              "Promo                        0.000000\n",
              "StateHoliday                 0.000000\n",
              "SchoolHoliday                0.000000\n",
              "StoreType                    0.000000\n",
              "Assortment                   0.000000\n",
              "CompetitionDistance          0.002597\n",
              "CompetitionOpenSinceMonth    0.317878\n",
              "CompetitionOpenSinceYear     0.317878\n",
              "Promo2                       0.000000\n",
              "Promo2SinceWeek              0.499436\n",
              "Promo2SinceYear              0.499436\n",
              "PromoInterval                0.499436\n",
              "year                         0.000000\n",
              "month                        0.000000\n",
              "day                          0.000000\n",
              "dtype: float64"
            ]
          },
          "metadata": {},
          "execution_count": 70
        }
      ],
      "source": [
        "all_store.isnull().mean()"
      ]
    },
    {
      "cell_type": "code",
      "execution_count": 71,
      "metadata": {
        "id": "vMGMwtjMz5mP"
      },
      "outputs": [],
      "source": [
        "#considering there is not competation in the null areas, so adding 0 to the null values\n",
        "all_store['CompetitionDistance'] = all_store['CompetitionDistance'].fillna(0)\n"
      ]
    },
    {
      "cell_type": "code",
      "execution_count": 72,
      "metadata": {
        "colab": {
          "base_uri": "https://localhost:8080/"
        },
        "id": "7Cx1J3757g6F",
        "outputId": "f5291baf-94ad-47b1-d290-22e8ada83a20"
      },
      "outputs": [
        {
          "output_type": "execute_result",
          "data": {
            "text/plain": [
              "0"
            ]
          },
          "metadata": {},
          "execution_count": 72
        }
      ],
      "source": [
        "pd.isnull(all_store[\"CompetitionDistance\"]).sum()"
      ]
    },
    {
      "cell_type": "code",
      "execution_count": 73,
      "metadata": {
        "id": "BZT8PLHH1bHv"
      },
      "outputs": [],
      "source": [
        "all_store['CompetitionOpenSinceMonth'] = all_store['CompetitionOpenSinceMonth'].fillna(all_store['CompetitionOpenSinceMonth'].mean())"
      ]
    },
    {
      "cell_type": "code",
      "execution_count": 74,
      "metadata": {
        "id": "klZ08bQT_6rx"
      },
      "outputs": [],
      "source": [
        "all_store['CompetitionOpenSinceYear'] = all_store['CompetitionOpenSinceYear'].fillna(all_store['CompetitionOpenSinceYear'].mean())"
      ]
    },
    {
      "cell_type": "code",
      "execution_count": 75,
      "metadata": {
        "id": "-bLj6ZdcARp5"
      },
      "outputs": [],
      "source": [
        "#the cloumns in which promo2 was not done so their date and year is not available so filling the null values with 0\n",
        "all_store['Promo2SinceWeek'] = all_store['Promo2SinceWeek'].fillna(0)\n",
        "all_store['Promo2SinceYear'] = all_store['Promo2SinceYear'].fillna(0)\n",
        "all_store['PromoInterval'] = all_store['PromoInterval'].fillna(0)\n"
      ]
    },
    {
      "cell_type": "code",
      "execution_count": 76,
      "metadata": {
        "colab": {
          "base_uri": "https://localhost:8080/"
        },
        "id": "bpxBpHMQAFdM",
        "outputId": "aaaff3d5-4e4b-46a5-f989-e67375902463"
      },
      "outputs": [
        {
          "output_type": "execute_result",
          "data": {
            "text/plain": [
              "Store                        0.0\n",
              "DayOfWeek                    0.0\n",
              "Sales                        0.0\n",
              "Customers                    0.0\n",
              "Open                         0.0\n",
              "Promo                        0.0\n",
              "StateHoliday                 0.0\n",
              "SchoolHoliday                0.0\n",
              "StoreType                    0.0\n",
              "Assortment                   0.0\n",
              "CompetitionDistance          0.0\n",
              "CompetitionOpenSinceMonth    0.0\n",
              "CompetitionOpenSinceYear     0.0\n",
              "Promo2                       0.0\n",
              "Promo2SinceWeek              0.0\n",
              "Promo2SinceYear              0.0\n",
              "PromoInterval                0.0\n",
              "year                         0.0\n",
              "month                        0.0\n",
              "day                          0.0\n",
              "dtype: float64"
            ]
          },
          "metadata": {},
          "execution_count": 76
        }
      ],
      "source": [
        "all_store.isnull().mean()"
      ]
    },
    {
      "cell_type": "code",
      "execution_count": 77,
      "metadata": {
        "colab": {
          "base_uri": "https://localhost:8080/",
          "height": 364
        },
        "id": "lCGbTPOaCZuj",
        "outputId": "fe6d9acc-49f3-4f7a-d231-980eabea8e8c"
      },
      "outputs": [
        {
          "output_type": "execute_result",
          "data": {
            "text/plain": [
              "            Store  DayOfWeek       Sales   Customers        Open       Promo  \\\n",
              "count  1017209.00  1017209.0  1017209.00  1017209.00  1017209.00  1017209.00   \n",
              "mean       558.43        4.0     5773.82      633.15        0.83        0.38   \n",
              "std        321.91        2.0     3849.93      464.41        0.38        0.49   \n",
              "min          1.00        1.0        0.00        0.00        0.00        0.00   \n",
              "25%        280.00        2.0     3727.00      405.00        1.00        0.00   \n",
              "50%        558.00        4.0     5744.00      609.00        1.00        0.00   \n",
              "75%        838.00        6.0     7856.00      837.00        1.00        1.00   \n",
              "max       1115.00        7.0    41551.00     7388.00        1.00        1.00   \n",
              "\n",
              "       SchoolHoliday  CompetitionDistance  CompetitionOpenSinceMonth  \\\n",
              "count     1017209.00           1017209.00                 1017209.00   \n",
              "mean            0.18              5415.98                       7.22   \n",
              "std             0.38              7710.25                       2.65   \n",
              "min             0.00                 0.00                       1.00   \n",
              "25%             0.00               700.00                       6.00   \n",
              "50%             0.00              2320.00                       7.22   \n",
              "75%             0.00              6880.00                       9.00   \n",
              "max             1.00             75860.00                      12.00   \n",
              "\n",
              "       CompetitionOpenSinceYear     Promo2  Promo2SinceWeek  Promo2SinceYear  \\\n",
              "count                1017209.00  1017209.0       1017209.00       1017209.00   \n",
              "mean                    2008.69        0.5            11.65          1007.01   \n",
              "std                        4.95        0.5            15.32          1005.88   \n",
              "min                     1900.00        0.0             0.00             0.00   \n",
              "25%                     2008.00        0.0             0.00             0.00   \n",
              "50%                     2008.69        1.0             1.00          2009.00   \n",
              "75%                     2011.00        1.0            22.00          2012.00   \n",
              "max                     2015.00        1.0            50.00          2015.00   \n",
              "\n",
              "             year       month         day  \n",
              "count  1017209.00  1017209.00  1017209.00  \n",
              "mean      2013.83        5.85       15.70  \n",
              "std          0.78        3.33        8.79  \n",
              "min       2013.00        1.00        1.00  \n",
              "25%       2013.00        3.00        8.00  \n",
              "50%       2014.00        6.00       16.00  \n",
              "75%       2014.00        8.00       23.00  \n",
              "max       2015.00       12.00       31.00  "
            ],
            "text/html": [
              "\n",
              "  <div id=\"df-a0d596cb-33b3-4714-bb9c-3736bcfe4393\">\n",
              "    <div class=\"colab-df-container\">\n",
              "      <div>\n",
              "<style scoped>\n",
              "    .dataframe tbody tr th:only-of-type {\n",
              "        vertical-align: middle;\n",
              "    }\n",
              "\n",
              "    .dataframe tbody tr th {\n",
              "        vertical-align: top;\n",
              "    }\n",
              "\n",
              "    .dataframe thead th {\n",
              "        text-align: right;\n",
              "    }\n",
              "</style>\n",
              "<table border=\"1\" class=\"dataframe\">\n",
              "  <thead>\n",
              "    <tr style=\"text-align: right;\">\n",
              "      <th></th>\n",
              "      <th>Store</th>\n",
              "      <th>DayOfWeek</th>\n",
              "      <th>Sales</th>\n",
              "      <th>Customers</th>\n",
              "      <th>Open</th>\n",
              "      <th>Promo</th>\n",
              "      <th>SchoolHoliday</th>\n",
              "      <th>CompetitionDistance</th>\n",
              "      <th>CompetitionOpenSinceMonth</th>\n",
              "      <th>CompetitionOpenSinceYear</th>\n",
              "      <th>Promo2</th>\n",
              "      <th>Promo2SinceWeek</th>\n",
              "      <th>Promo2SinceYear</th>\n",
              "      <th>year</th>\n",
              "      <th>month</th>\n",
              "      <th>day</th>\n",
              "    </tr>\n",
              "  </thead>\n",
              "  <tbody>\n",
              "    <tr>\n",
              "      <th>count</th>\n",
              "      <td>1017209.00</td>\n",
              "      <td>1017209.0</td>\n",
              "      <td>1017209.00</td>\n",
              "      <td>1017209.00</td>\n",
              "      <td>1017209.00</td>\n",
              "      <td>1017209.00</td>\n",
              "      <td>1017209.00</td>\n",
              "      <td>1017209.00</td>\n",
              "      <td>1017209.00</td>\n",
              "      <td>1017209.00</td>\n",
              "      <td>1017209.0</td>\n",
              "      <td>1017209.00</td>\n",
              "      <td>1017209.00</td>\n",
              "      <td>1017209.00</td>\n",
              "      <td>1017209.00</td>\n",
              "      <td>1017209.00</td>\n",
              "    </tr>\n",
              "    <tr>\n",
              "      <th>mean</th>\n",
              "      <td>558.43</td>\n",
              "      <td>4.0</td>\n",
              "      <td>5773.82</td>\n",
              "      <td>633.15</td>\n",
              "      <td>0.83</td>\n",
              "      <td>0.38</td>\n",
              "      <td>0.18</td>\n",
              "      <td>5415.98</td>\n",
              "      <td>7.22</td>\n",
              "      <td>2008.69</td>\n",
              "      <td>0.5</td>\n",
              "      <td>11.65</td>\n",
              "      <td>1007.01</td>\n",
              "      <td>2013.83</td>\n",
              "      <td>5.85</td>\n",
              "      <td>15.70</td>\n",
              "    </tr>\n",
              "    <tr>\n",
              "      <th>std</th>\n",
              "      <td>321.91</td>\n",
              "      <td>2.0</td>\n",
              "      <td>3849.93</td>\n",
              "      <td>464.41</td>\n",
              "      <td>0.38</td>\n",
              "      <td>0.49</td>\n",
              "      <td>0.38</td>\n",
              "      <td>7710.25</td>\n",
              "      <td>2.65</td>\n",
              "      <td>4.95</td>\n",
              "      <td>0.5</td>\n",
              "      <td>15.32</td>\n",
              "      <td>1005.88</td>\n",
              "      <td>0.78</td>\n",
              "      <td>3.33</td>\n",
              "      <td>8.79</td>\n",
              "    </tr>\n",
              "    <tr>\n",
              "      <th>min</th>\n",
              "      <td>1.00</td>\n",
              "      <td>1.0</td>\n",
              "      <td>0.00</td>\n",
              "      <td>0.00</td>\n",
              "      <td>0.00</td>\n",
              "      <td>0.00</td>\n",
              "      <td>0.00</td>\n",
              "      <td>0.00</td>\n",
              "      <td>1.00</td>\n",
              "      <td>1900.00</td>\n",
              "      <td>0.0</td>\n",
              "      <td>0.00</td>\n",
              "      <td>0.00</td>\n",
              "      <td>2013.00</td>\n",
              "      <td>1.00</td>\n",
              "      <td>1.00</td>\n",
              "    </tr>\n",
              "    <tr>\n",
              "      <th>25%</th>\n",
              "      <td>280.00</td>\n",
              "      <td>2.0</td>\n",
              "      <td>3727.00</td>\n",
              "      <td>405.00</td>\n",
              "      <td>1.00</td>\n",
              "      <td>0.00</td>\n",
              "      <td>0.00</td>\n",
              "      <td>700.00</td>\n",
              "      <td>6.00</td>\n",
              "      <td>2008.00</td>\n",
              "      <td>0.0</td>\n",
              "      <td>0.00</td>\n",
              "      <td>0.00</td>\n",
              "      <td>2013.00</td>\n",
              "      <td>3.00</td>\n",
              "      <td>8.00</td>\n",
              "    </tr>\n",
              "    <tr>\n",
              "      <th>50%</th>\n",
              "      <td>558.00</td>\n",
              "      <td>4.0</td>\n",
              "      <td>5744.00</td>\n",
              "      <td>609.00</td>\n",
              "      <td>1.00</td>\n",
              "      <td>0.00</td>\n",
              "      <td>0.00</td>\n",
              "      <td>2320.00</td>\n",
              "      <td>7.22</td>\n",
              "      <td>2008.69</td>\n",
              "      <td>1.0</td>\n",
              "      <td>1.00</td>\n",
              "      <td>2009.00</td>\n",
              "      <td>2014.00</td>\n",
              "      <td>6.00</td>\n",
              "      <td>16.00</td>\n",
              "    </tr>\n",
              "    <tr>\n",
              "      <th>75%</th>\n",
              "      <td>838.00</td>\n",
              "      <td>6.0</td>\n",
              "      <td>7856.00</td>\n",
              "      <td>837.00</td>\n",
              "      <td>1.00</td>\n",
              "      <td>1.00</td>\n",
              "      <td>0.00</td>\n",
              "      <td>6880.00</td>\n",
              "      <td>9.00</td>\n",
              "      <td>2011.00</td>\n",
              "      <td>1.0</td>\n",
              "      <td>22.00</td>\n",
              "      <td>2012.00</td>\n",
              "      <td>2014.00</td>\n",
              "      <td>8.00</td>\n",
              "      <td>23.00</td>\n",
              "    </tr>\n",
              "    <tr>\n",
              "      <th>max</th>\n",
              "      <td>1115.00</td>\n",
              "      <td>7.0</td>\n",
              "      <td>41551.00</td>\n",
              "      <td>7388.00</td>\n",
              "      <td>1.00</td>\n",
              "      <td>1.00</td>\n",
              "      <td>1.00</td>\n",
              "      <td>75860.00</td>\n",
              "      <td>12.00</td>\n",
              "      <td>2015.00</td>\n",
              "      <td>1.0</td>\n",
              "      <td>50.00</td>\n",
              "      <td>2015.00</td>\n",
              "      <td>2015.00</td>\n",
              "      <td>12.00</td>\n",
              "      <td>31.00</td>\n",
              "    </tr>\n",
              "  </tbody>\n",
              "</table>\n",
              "</div>\n",
              "      <button class=\"colab-df-convert\" onclick=\"convertToInteractive('df-a0d596cb-33b3-4714-bb9c-3736bcfe4393')\"\n",
              "              title=\"Convert this dataframe to an interactive table.\"\n",
              "              style=\"display:none;\">\n",
              "        \n",
              "  <svg xmlns=\"http://www.w3.org/2000/svg\" height=\"24px\"viewBox=\"0 0 24 24\"\n",
              "       width=\"24px\">\n",
              "    <path d=\"M0 0h24v24H0V0z\" fill=\"none\"/>\n",
              "    <path d=\"M18.56 5.44l.94 2.06.94-2.06 2.06-.94-2.06-.94-.94-2.06-.94 2.06-2.06.94zm-11 1L8.5 8.5l.94-2.06 2.06-.94-2.06-.94L8.5 2.5l-.94 2.06-2.06.94zm10 10l.94 2.06.94-2.06 2.06-.94-2.06-.94-.94-2.06-.94 2.06-2.06.94z\"/><path d=\"M17.41 7.96l-1.37-1.37c-.4-.4-.92-.59-1.43-.59-.52 0-1.04.2-1.43.59L10.3 9.45l-7.72 7.72c-.78.78-.78 2.05 0 2.83L4 21.41c.39.39.9.59 1.41.59.51 0 1.02-.2 1.41-.59l7.78-7.78 2.81-2.81c.8-.78.8-2.07 0-2.86zM5.41 20L4 18.59l7.72-7.72 1.47 1.35L5.41 20z\"/>\n",
              "  </svg>\n",
              "      </button>\n",
              "      \n",
              "  <style>\n",
              "    .colab-df-container {\n",
              "      display:flex;\n",
              "      flex-wrap:wrap;\n",
              "      gap: 12px;\n",
              "    }\n",
              "\n",
              "    .colab-df-convert {\n",
              "      background-color: #E8F0FE;\n",
              "      border: none;\n",
              "      border-radius: 50%;\n",
              "      cursor: pointer;\n",
              "      display: none;\n",
              "      fill: #1967D2;\n",
              "      height: 32px;\n",
              "      padding: 0 0 0 0;\n",
              "      width: 32px;\n",
              "    }\n",
              "\n",
              "    .colab-df-convert:hover {\n",
              "      background-color: #E2EBFA;\n",
              "      box-shadow: 0px 1px 2px rgba(60, 64, 67, 0.3), 0px 1px 3px 1px rgba(60, 64, 67, 0.15);\n",
              "      fill: #174EA6;\n",
              "    }\n",
              "\n",
              "    [theme=dark] .colab-df-convert {\n",
              "      background-color: #3B4455;\n",
              "      fill: #D2E3FC;\n",
              "    }\n",
              "\n",
              "    [theme=dark] .colab-df-convert:hover {\n",
              "      background-color: #434B5C;\n",
              "      box-shadow: 0px 1px 3px 1px rgba(0, 0, 0, 0.15);\n",
              "      filter: drop-shadow(0px 1px 2px rgba(0, 0, 0, 0.3));\n",
              "      fill: #FFFFFF;\n",
              "    }\n",
              "  </style>\n",
              "\n",
              "      <script>\n",
              "        const buttonEl =\n",
              "          document.querySelector('#df-a0d596cb-33b3-4714-bb9c-3736bcfe4393 button.colab-df-convert');\n",
              "        buttonEl.style.display =\n",
              "          google.colab.kernel.accessAllowed ? 'block' : 'none';\n",
              "\n",
              "        async function convertToInteractive(key) {\n",
              "          const element = document.querySelector('#df-a0d596cb-33b3-4714-bb9c-3736bcfe4393');\n",
              "          const dataTable =\n",
              "            await google.colab.kernel.invokeFunction('convertToInteractive',\n",
              "                                                     [key], {});\n",
              "          if (!dataTable) return;\n",
              "\n",
              "          const docLinkHtml = 'Like what you see? Visit the ' +\n",
              "            '<a target=\"_blank\" href=https://colab.research.google.com/notebooks/data_table.ipynb>data table notebook</a>'\n",
              "            + ' to learn more about interactive tables.';\n",
              "          element.innerHTML = '';\n",
              "          dataTable['output_type'] = 'display_data';\n",
              "          await google.colab.output.renderOutput(dataTable, element);\n",
              "          const docLink = document.createElement('div');\n",
              "          docLink.innerHTML = docLinkHtml;\n",
              "          element.appendChild(docLink);\n",
              "        }\n",
              "      </script>\n",
              "    </div>\n",
              "  </div>\n",
              "  "
            ]
          },
          "metadata": {},
          "execution_count": 77
        }
      ],
      "source": [
        "round(all_store.describe(),2)"
      ]
    },
    {
      "cell_type": "code",
      "execution_count": 78,
      "metadata": {
        "colab": {
          "base_uri": "https://localhost:8080/",
          "height": 615
        },
        "id": "MDRwowJwy7mF",
        "outputId": "4ed948a8-0d0e-4230-f547-ae6d2f86147d"
      },
      "outputs": [
        {
          "output_type": "execute_result",
          "data": {
            "text/plain": [
              "                              Store  DayOfWeek     Sales  Customers      Open  \\\n",
              "Store                      1.000000  -0.000008  0.005126   0.024325 -0.000047   \n",
              "DayOfWeek                 -0.000008   1.000000 -0.462125  -0.386445 -0.528963   \n",
              "Sales                      0.005126  -0.462125  1.000000   0.894711  0.678472   \n",
              "Customers                  0.024325  -0.386445  0.894711   1.000000  0.616768   \n",
              "Open                      -0.000047  -0.528963  0.678472   0.616768  1.000000   \n",
              "Promo                      0.000058  -0.392925  0.452345   0.316169  0.295042   \n",
              "SchoolHoliday              0.000641  -0.205388  0.085124   0.071568  0.086171   \n",
              "CompetitionDistance       -0.026486  -0.000025 -0.018609  -0.102022  0.007989   \n",
              "CompetitionOpenSinceMonth -0.041990   0.000005 -0.023489  -0.025098  0.001144   \n",
              "CompetitionOpenSinceYear  -0.003800  -0.000021  0.010523   0.007241  0.002290   \n",
              "Promo2                     0.008488   0.000168 -0.091040  -0.150159 -0.008309   \n",
              "Promo2SinceWeek            0.011053   0.000208 -0.044143  -0.098323 -0.007436   \n",
              "Promo2SinceYear            0.008520   0.000168 -0.091056  -0.150138 -0.008308   \n",
              "year                       0.000290   0.001937  0.023519  -0.001212 -0.001009   \n",
              "month                      0.001467  -0.005362  0.048768   0.038179 -0.000681   \n",
              "day                        0.000023   0.005136 -0.011612  -0.004473  0.033428   \n",
              "\n",
              "                              Promo  SchoolHoliday  CompetitionDistance  \\\n",
              "Store                      0.000058       0.000641            -0.026486   \n",
              "DayOfWeek                 -0.392925      -0.205388            -0.000025   \n",
              "Sales                      0.452345       0.085124            -0.018609   \n",
              "Customers                  0.316169       0.071568            -0.102022   \n",
              "Open                       0.295042       0.086171             0.007989   \n",
              "Promo                      1.000000       0.067483             0.000141   \n",
              "SchoolHoliday              0.067483       1.000000            -0.003651   \n",
              "CompetitionDistance        0.000141      -0.003651             1.000000   \n",
              "CompetitionOpenSinceMonth -0.000019      -0.000434            -0.051704   \n",
              "CompetitionOpenSinceYear   0.000126       0.001254             0.021309   \n",
              "Promo2                    -0.000983      -0.006909            -0.138832   \n",
              "Promo2SinceWeek           -0.001210      -0.006679            -0.122348   \n",
              "Promo2SinceYear           -0.000983      -0.006912            -0.138896   \n",
              "year                       0.024300      -0.036535             0.000716   \n",
              "month                     -0.011747       0.103282             0.003643   \n",
              "day                       -0.108325       0.030538             0.000050   \n",
              "\n",
              "                           CompetitionOpenSinceMonth  \\\n",
              "Store                                      -0.041990   \n",
              "DayOfWeek                                   0.000005   \n",
              "Sales                                      -0.023489   \n",
              "Customers                                  -0.025098   \n",
              "Open                                        0.001144   \n",
              "Promo                                      -0.000019   \n",
              "SchoolHoliday                              -0.000434   \n",
              "CompetitionDistance                        -0.051704   \n",
              "CompetitionOpenSinceMonth                   1.000000   \n",
              "CompetitionOpenSinceYear                   -0.060594   \n",
              "Promo2                                     -0.007733   \n",
              "Promo2SinceWeek                            -0.018114   \n",
              "Promo2SinceYear                            -0.007701   \n",
              "year                                       -0.000100   \n",
              "month                                      -0.000515   \n",
              "day                                        -0.000005   \n",
              "\n",
              "                           CompetitionOpenSinceYear    Promo2  \\\n",
              "Store                                     -0.003800  0.008488   \n",
              "DayOfWeek                                 -0.000021  0.000168   \n",
              "Sales                                      0.010523 -0.091040   \n",
              "Customers                                  0.007241 -0.150159   \n",
              "Open                                       0.002290 -0.008309   \n",
              "Promo                                      0.000126 -0.000983   \n",
              "SchoolHoliday                              0.001254 -0.006909   \n",
              "CompetitionDistance                        0.021309 -0.138832   \n",
              "CompetitionOpenSinceMonth                 -0.060594 -0.007733   \n",
              "CompetitionOpenSinceYear                   1.000000 -0.063737   \n",
              "Promo2                                    -0.063737  1.000000   \n",
              "Promo2SinceWeek                           -0.079797  0.759240   \n",
              "Promo2SinceYear                           -0.063730  0.999999   \n",
              "year                                       0.000637 -0.004982   \n",
              "month                                      0.003234 -0.025323   \n",
              "day                                        0.000046 -0.000354   \n",
              "\n",
              "                           Promo2SinceWeek  Promo2SinceYear      year  \\\n",
              "Store                             0.011053         0.008520  0.000290   \n",
              "DayOfWeek                         0.000208         0.000168  0.001937   \n",
              "Sales                            -0.044143        -0.091056  0.023519   \n",
              "Customers                        -0.098323        -0.150138 -0.001212   \n",
              "Open                             -0.007436        -0.008308 -0.001009   \n",
              "Promo                            -0.001210        -0.000983  0.024300   \n",
              "SchoolHoliday                    -0.006679        -0.006912 -0.036535   \n",
              "CompetitionDistance              -0.122348        -0.138896  0.000716   \n",
              "CompetitionOpenSinceMonth        -0.018114        -0.007701 -0.000100   \n",
              "CompetitionOpenSinceYear         -0.079797        -0.063730  0.000637   \n",
              "Promo2                            0.759240         0.999999 -0.004982   \n",
              "Promo2SinceWeek                   1.000000         0.759054 -0.006135   \n",
              "Promo2SinceYear                   0.759054         1.000000 -0.004983   \n",
              "year                             -0.006135        -0.004983  1.000000   \n",
              "month                            -0.031188        -0.025329 -0.269382   \n",
              "day                              -0.000435        -0.000354 -0.002485   \n",
              "\n",
              "                              month       day  \n",
              "Store                      0.001467  0.000023  \n",
              "DayOfWeek                 -0.005362  0.005136  \n",
              "Sales                      0.048768 -0.011612  \n",
              "Customers                  0.038179 -0.004473  \n",
              "Open                      -0.000681  0.033428  \n",
              "Promo                     -0.011747 -0.108325  \n",
              "SchoolHoliday              0.103282  0.030538  \n",
              "CompetitionDistance        0.003643  0.000050  \n",
              "CompetitionOpenSinceMonth -0.000515 -0.000005  \n",
              "CompetitionOpenSinceYear   0.003234  0.000046  \n",
              "Promo2                    -0.025323 -0.000354  \n",
              "Promo2SinceWeek           -0.031188 -0.000435  \n",
              "Promo2SinceYear           -0.025329 -0.000354  \n",
              "year                      -0.269382 -0.002485  \n",
              "month                      1.000000  0.012442  \n",
              "day                        0.012442  1.000000  "
            ],
            "text/html": [
              "\n",
              "  <div id=\"df-28d476aa-a089-4313-b69d-832d714d0c17\">\n",
              "    <div class=\"colab-df-container\">\n",
              "      <div>\n",
              "<style scoped>\n",
              "    .dataframe tbody tr th:only-of-type {\n",
              "        vertical-align: middle;\n",
              "    }\n",
              "\n",
              "    .dataframe tbody tr th {\n",
              "        vertical-align: top;\n",
              "    }\n",
              "\n",
              "    .dataframe thead th {\n",
              "        text-align: right;\n",
              "    }\n",
              "</style>\n",
              "<table border=\"1\" class=\"dataframe\">\n",
              "  <thead>\n",
              "    <tr style=\"text-align: right;\">\n",
              "      <th></th>\n",
              "      <th>Store</th>\n",
              "      <th>DayOfWeek</th>\n",
              "      <th>Sales</th>\n",
              "      <th>Customers</th>\n",
              "      <th>Open</th>\n",
              "      <th>Promo</th>\n",
              "      <th>SchoolHoliday</th>\n",
              "      <th>CompetitionDistance</th>\n",
              "      <th>CompetitionOpenSinceMonth</th>\n",
              "      <th>CompetitionOpenSinceYear</th>\n",
              "      <th>Promo2</th>\n",
              "      <th>Promo2SinceWeek</th>\n",
              "      <th>Promo2SinceYear</th>\n",
              "      <th>year</th>\n",
              "      <th>month</th>\n",
              "      <th>day</th>\n",
              "    </tr>\n",
              "  </thead>\n",
              "  <tbody>\n",
              "    <tr>\n",
              "      <th>Store</th>\n",
              "      <td>1.000000</td>\n",
              "      <td>-0.000008</td>\n",
              "      <td>0.005126</td>\n",
              "      <td>0.024325</td>\n",
              "      <td>-0.000047</td>\n",
              "      <td>0.000058</td>\n",
              "      <td>0.000641</td>\n",
              "      <td>-0.026486</td>\n",
              "      <td>-0.041990</td>\n",
              "      <td>-0.003800</td>\n",
              "      <td>0.008488</td>\n",
              "      <td>0.011053</td>\n",
              "      <td>0.008520</td>\n",
              "      <td>0.000290</td>\n",
              "      <td>0.001467</td>\n",
              "      <td>0.000023</td>\n",
              "    </tr>\n",
              "    <tr>\n",
              "      <th>DayOfWeek</th>\n",
              "      <td>-0.000008</td>\n",
              "      <td>1.000000</td>\n",
              "      <td>-0.462125</td>\n",
              "      <td>-0.386445</td>\n",
              "      <td>-0.528963</td>\n",
              "      <td>-0.392925</td>\n",
              "      <td>-0.205388</td>\n",
              "      <td>-0.000025</td>\n",
              "      <td>0.000005</td>\n",
              "      <td>-0.000021</td>\n",
              "      <td>0.000168</td>\n",
              "      <td>0.000208</td>\n",
              "      <td>0.000168</td>\n",
              "      <td>0.001937</td>\n",
              "      <td>-0.005362</td>\n",
              "      <td>0.005136</td>\n",
              "    </tr>\n",
              "    <tr>\n",
              "      <th>Sales</th>\n",
              "      <td>0.005126</td>\n",
              "      <td>-0.462125</td>\n",
              "      <td>1.000000</td>\n",
              "      <td>0.894711</td>\n",
              "      <td>0.678472</td>\n",
              "      <td>0.452345</td>\n",
              "      <td>0.085124</td>\n",
              "      <td>-0.018609</td>\n",
              "      <td>-0.023489</td>\n",
              "      <td>0.010523</td>\n",
              "      <td>-0.091040</td>\n",
              "      <td>-0.044143</td>\n",
              "      <td>-0.091056</td>\n",
              "      <td>0.023519</td>\n",
              "      <td>0.048768</td>\n",
              "      <td>-0.011612</td>\n",
              "    </tr>\n",
              "    <tr>\n",
              "      <th>Customers</th>\n",
              "      <td>0.024325</td>\n",
              "      <td>-0.386445</td>\n",
              "      <td>0.894711</td>\n",
              "      <td>1.000000</td>\n",
              "      <td>0.616768</td>\n",
              "      <td>0.316169</td>\n",
              "      <td>0.071568</td>\n",
              "      <td>-0.102022</td>\n",
              "      <td>-0.025098</td>\n",
              "      <td>0.007241</td>\n",
              "      <td>-0.150159</td>\n",
              "      <td>-0.098323</td>\n",
              "      <td>-0.150138</td>\n",
              "      <td>-0.001212</td>\n",
              "      <td>0.038179</td>\n",
              "      <td>-0.004473</td>\n",
              "    </tr>\n",
              "    <tr>\n",
              "      <th>Open</th>\n",
              "      <td>-0.000047</td>\n",
              "      <td>-0.528963</td>\n",
              "      <td>0.678472</td>\n",
              "      <td>0.616768</td>\n",
              "      <td>1.000000</td>\n",
              "      <td>0.295042</td>\n",
              "      <td>0.086171</td>\n",
              "      <td>0.007989</td>\n",
              "      <td>0.001144</td>\n",
              "      <td>0.002290</td>\n",
              "      <td>-0.008309</td>\n",
              "      <td>-0.007436</td>\n",
              "      <td>-0.008308</td>\n",
              "      <td>-0.001009</td>\n",
              "      <td>-0.000681</td>\n",
              "      <td>0.033428</td>\n",
              "    </tr>\n",
              "    <tr>\n",
              "      <th>Promo</th>\n",
              "      <td>0.000058</td>\n",
              "      <td>-0.392925</td>\n",
              "      <td>0.452345</td>\n",
              "      <td>0.316169</td>\n",
              "      <td>0.295042</td>\n",
              "      <td>1.000000</td>\n",
              "      <td>0.067483</td>\n",
              "      <td>0.000141</td>\n",
              "      <td>-0.000019</td>\n",
              "      <td>0.000126</td>\n",
              "      <td>-0.000983</td>\n",
              "      <td>-0.001210</td>\n",
              "      <td>-0.000983</td>\n",
              "      <td>0.024300</td>\n",
              "      <td>-0.011747</td>\n",
              "      <td>-0.108325</td>\n",
              "    </tr>\n",
              "    <tr>\n",
              "      <th>SchoolHoliday</th>\n",
              "      <td>0.000641</td>\n",
              "      <td>-0.205388</td>\n",
              "      <td>0.085124</td>\n",
              "      <td>0.071568</td>\n",
              "      <td>0.086171</td>\n",
              "      <td>0.067483</td>\n",
              "      <td>1.000000</td>\n",
              "      <td>-0.003651</td>\n",
              "      <td>-0.000434</td>\n",
              "      <td>0.001254</td>\n",
              "      <td>-0.006909</td>\n",
              "      <td>-0.006679</td>\n",
              "      <td>-0.006912</td>\n",
              "      <td>-0.036535</td>\n",
              "      <td>0.103282</td>\n",
              "      <td>0.030538</td>\n",
              "    </tr>\n",
              "    <tr>\n",
              "      <th>CompetitionDistance</th>\n",
              "      <td>-0.026486</td>\n",
              "      <td>-0.000025</td>\n",
              "      <td>-0.018609</td>\n",
              "      <td>-0.102022</td>\n",
              "      <td>0.007989</td>\n",
              "      <td>0.000141</td>\n",
              "      <td>-0.003651</td>\n",
              "      <td>1.000000</td>\n",
              "      <td>-0.051704</td>\n",
              "      <td>0.021309</td>\n",
              "      <td>-0.138832</td>\n",
              "      <td>-0.122348</td>\n",
              "      <td>-0.138896</td>\n",
              "      <td>0.000716</td>\n",
              "      <td>0.003643</td>\n",
              "      <td>0.000050</td>\n",
              "    </tr>\n",
              "    <tr>\n",
              "      <th>CompetitionOpenSinceMonth</th>\n",
              "      <td>-0.041990</td>\n",
              "      <td>0.000005</td>\n",
              "      <td>-0.023489</td>\n",
              "      <td>-0.025098</td>\n",
              "      <td>0.001144</td>\n",
              "      <td>-0.000019</td>\n",
              "      <td>-0.000434</td>\n",
              "      <td>-0.051704</td>\n",
              "      <td>1.000000</td>\n",
              "      <td>-0.060594</td>\n",
              "      <td>-0.007733</td>\n",
              "      <td>-0.018114</td>\n",
              "      <td>-0.007701</td>\n",
              "      <td>-0.000100</td>\n",
              "      <td>-0.000515</td>\n",
              "      <td>-0.000005</td>\n",
              "    </tr>\n",
              "    <tr>\n",
              "      <th>CompetitionOpenSinceYear</th>\n",
              "      <td>-0.003800</td>\n",
              "      <td>-0.000021</td>\n",
              "      <td>0.010523</td>\n",
              "      <td>0.007241</td>\n",
              "      <td>0.002290</td>\n",
              "      <td>0.000126</td>\n",
              "      <td>0.001254</td>\n",
              "      <td>0.021309</td>\n",
              "      <td>-0.060594</td>\n",
              "      <td>1.000000</td>\n",
              "      <td>-0.063737</td>\n",
              "      <td>-0.079797</td>\n",
              "      <td>-0.063730</td>\n",
              "      <td>0.000637</td>\n",
              "      <td>0.003234</td>\n",
              "      <td>0.000046</td>\n",
              "    </tr>\n",
              "    <tr>\n",
              "      <th>Promo2</th>\n",
              "      <td>0.008488</td>\n",
              "      <td>0.000168</td>\n",
              "      <td>-0.091040</td>\n",
              "      <td>-0.150159</td>\n",
              "      <td>-0.008309</td>\n",
              "      <td>-0.000983</td>\n",
              "      <td>-0.006909</td>\n",
              "      <td>-0.138832</td>\n",
              "      <td>-0.007733</td>\n",
              "      <td>-0.063737</td>\n",
              "      <td>1.000000</td>\n",
              "      <td>0.759240</td>\n",
              "      <td>0.999999</td>\n",
              "      <td>-0.004982</td>\n",
              "      <td>-0.025323</td>\n",
              "      <td>-0.000354</td>\n",
              "    </tr>\n",
              "    <tr>\n",
              "      <th>Promo2SinceWeek</th>\n",
              "      <td>0.011053</td>\n",
              "      <td>0.000208</td>\n",
              "      <td>-0.044143</td>\n",
              "      <td>-0.098323</td>\n",
              "      <td>-0.007436</td>\n",
              "      <td>-0.001210</td>\n",
              "      <td>-0.006679</td>\n",
              "      <td>-0.122348</td>\n",
              "      <td>-0.018114</td>\n",
              "      <td>-0.079797</td>\n",
              "      <td>0.759240</td>\n",
              "      <td>1.000000</td>\n",
              "      <td>0.759054</td>\n",
              "      <td>-0.006135</td>\n",
              "      <td>-0.031188</td>\n",
              "      <td>-0.000435</td>\n",
              "    </tr>\n",
              "    <tr>\n",
              "      <th>Promo2SinceYear</th>\n",
              "      <td>0.008520</td>\n",
              "      <td>0.000168</td>\n",
              "      <td>-0.091056</td>\n",
              "      <td>-0.150138</td>\n",
              "      <td>-0.008308</td>\n",
              "      <td>-0.000983</td>\n",
              "      <td>-0.006912</td>\n",
              "      <td>-0.138896</td>\n",
              "      <td>-0.007701</td>\n",
              "      <td>-0.063730</td>\n",
              "      <td>0.999999</td>\n",
              "      <td>0.759054</td>\n",
              "      <td>1.000000</td>\n",
              "      <td>-0.004983</td>\n",
              "      <td>-0.025329</td>\n",
              "      <td>-0.000354</td>\n",
              "    </tr>\n",
              "    <tr>\n",
              "      <th>year</th>\n",
              "      <td>0.000290</td>\n",
              "      <td>0.001937</td>\n",
              "      <td>0.023519</td>\n",
              "      <td>-0.001212</td>\n",
              "      <td>-0.001009</td>\n",
              "      <td>0.024300</td>\n",
              "      <td>-0.036535</td>\n",
              "      <td>0.000716</td>\n",
              "      <td>-0.000100</td>\n",
              "      <td>0.000637</td>\n",
              "      <td>-0.004982</td>\n",
              "      <td>-0.006135</td>\n",
              "      <td>-0.004983</td>\n",
              "      <td>1.000000</td>\n",
              "      <td>-0.269382</td>\n",
              "      <td>-0.002485</td>\n",
              "    </tr>\n",
              "    <tr>\n",
              "      <th>month</th>\n",
              "      <td>0.001467</td>\n",
              "      <td>-0.005362</td>\n",
              "      <td>0.048768</td>\n",
              "      <td>0.038179</td>\n",
              "      <td>-0.000681</td>\n",
              "      <td>-0.011747</td>\n",
              "      <td>0.103282</td>\n",
              "      <td>0.003643</td>\n",
              "      <td>-0.000515</td>\n",
              "      <td>0.003234</td>\n",
              "      <td>-0.025323</td>\n",
              "      <td>-0.031188</td>\n",
              "      <td>-0.025329</td>\n",
              "      <td>-0.269382</td>\n",
              "      <td>1.000000</td>\n",
              "      <td>0.012442</td>\n",
              "    </tr>\n",
              "    <tr>\n",
              "      <th>day</th>\n",
              "      <td>0.000023</td>\n",
              "      <td>0.005136</td>\n",
              "      <td>-0.011612</td>\n",
              "      <td>-0.004473</td>\n",
              "      <td>0.033428</td>\n",
              "      <td>-0.108325</td>\n",
              "      <td>0.030538</td>\n",
              "      <td>0.000050</td>\n",
              "      <td>-0.000005</td>\n",
              "      <td>0.000046</td>\n",
              "      <td>-0.000354</td>\n",
              "      <td>-0.000435</td>\n",
              "      <td>-0.000354</td>\n",
              "      <td>-0.002485</td>\n",
              "      <td>0.012442</td>\n",
              "      <td>1.000000</td>\n",
              "    </tr>\n",
              "  </tbody>\n",
              "</table>\n",
              "</div>\n",
              "      <button class=\"colab-df-convert\" onclick=\"convertToInteractive('df-28d476aa-a089-4313-b69d-832d714d0c17')\"\n",
              "              title=\"Convert this dataframe to an interactive table.\"\n",
              "              style=\"display:none;\">\n",
              "        \n",
              "  <svg xmlns=\"http://www.w3.org/2000/svg\" height=\"24px\"viewBox=\"0 0 24 24\"\n",
              "       width=\"24px\">\n",
              "    <path d=\"M0 0h24v24H0V0z\" fill=\"none\"/>\n",
              "    <path d=\"M18.56 5.44l.94 2.06.94-2.06 2.06-.94-2.06-.94-.94-2.06-.94 2.06-2.06.94zm-11 1L8.5 8.5l.94-2.06 2.06-.94-2.06-.94L8.5 2.5l-.94 2.06-2.06.94zm10 10l.94 2.06.94-2.06 2.06-.94-2.06-.94-.94-2.06-.94 2.06-2.06.94z\"/><path d=\"M17.41 7.96l-1.37-1.37c-.4-.4-.92-.59-1.43-.59-.52 0-1.04.2-1.43.59L10.3 9.45l-7.72 7.72c-.78.78-.78 2.05 0 2.83L4 21.41c.39.39.9.59 1.41.59.51 0 1.02-.2 1.41-.59l7.78-7.78 2.81-2.81c.8-.78.8-2.07 0-2.86zM5.41 20L4 18.59l7.72-7.72 1.47 1.35L5.41 20z\"/>\n",
              "  </svg>\n",
              "      </button>\n",
              "      \n",
              "  <style>\n",
              "    .colab-df-container {\n",
              "      display:flex;\n",
              "      flex-wrap:wrap;\n",
              "      gap: 12px;\n",
              "    }\n",
              "\n",
              "    .colab-df-convert {\n",
              "      background-color: #E8F0FE;\n",
              "      border: none;\n",
              "      border-radius: 50%;\n",
              "      cursor: pointer;\n",
              "      display: none;\n",
              "      fill: #1967D2;\n",
              "      height: 32px;\n",
              "      padding: 0 0 0 0;\n",
              "      width: 32px;\n",
              "    }\n",
              "\n",
              "    .colab-df-convert:hover {\n",
              "      background-color: #E2EBFA;\n",
              "      box-shadow: 0px 1px 2px rgba(60, 64, 67, 0.3), 0px 1px 3px 1px rgba(60, 64, 67, 0.15);\n",
              "      fill: #174EA6;\n",
              "    }\n",
              "\n",
              "    [theme=dark] .colab-df-convert {\n",
              "      background-color: #3B4455;\n",
              "      fill: #D2E3FC;\n",
              "    }\n",
              "\n",
              "    [theme=dark] .colab-df-convert:hover {\n",
              "      background-color: #434B5C;\n",
              "      box-shadow: 0px 1px 3px 1px rgba(0, 0, 0, 0.15);\n",
              "      filter: drop-shadow(0px 1px 2px rgba(0, 0, 0, 0.3));\n",
              "      fill: #FFFFFF;\n",
              "    }\n",
              "  </style>\n",
              "\n",
              "      <script>\n",
              "        const buttonEl =\n",
              "          document.querySelector('#df-28d476aa-a089-4313-b69d-832d714d0c17 button.colab-df-convert');\n",
              "        buttonEl.style.display =\n",
              "          google.colab.kernel.accessAllowed ? 'block' : 'none';\n",
              "\n",
              "        async function convertToInteractive(key) {\n",
              "          const element = document.querySelector('#df-28d476aa-a089-4313-b69d-832d714d0c17');\n",
              "          const dataTable =\n",
              "            await google.colab.kernel.invokeFunction('convertToInteractive',\n",
              "                                                     [key], {});\n",
              "          if (!dataTable) return;\n",
              "\n",
              "          const docLinkHtml = 'Like what you see? Visit the ' +\n",
              "            '<a target=\"_blank\" href=https://colab.research.google.com/notebooks/data_table.ipynb>data table notebook</a>'\n",
              "            + ' to learn more about interactive tables.';\n",
              "          element.innerHTML = '';\n",
              "          dataTable['output_type'] = 'display_data';\n",
              "          await google.colab.output.renderOutput(dataTable, element);\n",
              "          const docLink = document.createElement('div');\n",
              "          docLink.innerHTML = docLinkHtml;\n",
              "          element.appendChild(docLink);\n",
              "        }\n",
              "      </script>\n",
              "    </div>\n",
              "  </div>\n",
              "  "
            ]
          },
          "metadata": {},
          "execution_count": 78
        }
      ],
      "source": [
        "all_store.corr()\n"
      ]
    },
    {
      "cell_type": "code",
      "execution_count": 79,
      "metadata": {
        "colab": {
          "base_uri": "https://localhost:8080/",
          "height": 422
        },
        "id": "rmxkipdM-uTe",
        "outputId": "80b8f0b1-f592-48b6-eb4e-bfcd78ef0218"
      },
      "outputs": [
        {
          "output_type": "execute_result",
          "data": {
            "text/plain": [
              "<matplotlib.axes._subplots.AxesSubplot at 0x7fdf8d42ee10>"
            ]
          },
          "metadata": {},
          "execution_count": 79
        },
        {
          "output_type": "display_data",
          "data": {
            "text/plain": [
              "<Figure size 432x288 with 2 Axes>"
            ],
            "image/png": "[encoded data removed]"
          },
          "metadata": {
            "needs_background": "light"
          }
        }
      ],
      "source": [
        "sns.heatmap(all_store.corr())"
      ]
    },
    {
      "cell_type": "code",
      "execution_count": 80,
      "metadata": {
        "colab": {
          "base_uri": "https://localhost:8080/",
          "height": 279
        },
        "id": "uDVZKbhv4raU",
        "outputId": "92620fa3-fed9-44ec-8de5-55a64b2eebf9"
      },
      "outputs": [
        {
          "output_type": "display_data",
          "data": {
            "text/plain": [
              "<Figure size 432x288 with 1 Axes>"
            ],
            "image/png": "[encoded data removed]"
          },
          "metadata": {
            "needs_background": "light"
          }
        }
      ],
      "source": [
        "ax = sns.countplot(x='Open', hue='DayOfWeek', data=all_store, palette='Set1')\n"
      ]
    },
    {
      "cell_type": "code",
      "execution_count": 81,
      "metadata": {
        "colab": {
          "base_uri": "https://localhost:8080/",
          "height": 376
        },
        "id": "YEdnwiY1Fimi",
        "outputId": "c38d61dd-3748-4f81-b4dd-6220047fa144"
      },
      "outputs": [
        {
          "output_type": "execute_result",
          "data": {
            "text/plain": [
              "Text(0, 0.5, 'Sales')"
            ]
          },
          "metadata": {},
          "execution_count": 81
        },
        {
          "output_type": "display_data",
          "data": {
            "text/plain": [
              "<Figure size 720x360 with 1 Axes>"
            ],
            "image/png": "[encoded data removed]"
          },
          "metadata": {
            "needs_background": "light"
          }
        }
      ],
      "source": [
        "# Create the figure object \n",
        "ax = all_store.groupby(['StoreType'])['Sales'].mean().plot.bar(\n",
        "    figsize = (10,5),\n",
        "    fontsize = 14\n",
        ")\n",
        "\n",
        "# Set the title\n",
        "ax.set_title(\"Average sales for different store types\", fontsize = 20)\n",
        "\n",
        "# Set x and y-labels\n",
        "ax.set_xlabel(\"Store type\", fontsize = 15)\n",
        "ax.set_ylabel(\"Sales\", fontsize = 15)"
      ]
    },
    {
      "cell_type": "code",
      "execution_count": 82,
      "metadata": {
        "colab": {
          "base_uri": "https://localhost:8080/"
        },
        "id": "rvuAJ7shyPym",
        "outputId": "63eb58e0-716e-489f-95ca-e1ae00772e74"
      },
      "outputs": [
        {
          "output_type": "execute_result",
          "data": {
            "text/plain": [
              "a    551627\n",
              "d    312912\n",
              "c    136840\n",
              "b     15830\n",
              "Name: StoreType, dtype: int64"
            ]
          },
          "metadata": {},
          "execution_count": 82
        }
      ],
      "source": [
        "all_store.StoreType.value_counts()"
      ]
    },
    {
      "cell_type": "code",
      "source": [
        "#all_store.to_csv(\"all_store.csv\")"
      ],
      "metadata": {
        "id": "2Wr1dgHgweLe"
      },
      "execution_count": 83,
      "outputs": []
    },
    {
      "cell_type": "code",
      "source": [
        "all_store['StoreType'].replace(['a', 'b', 'c','d'],[0, 1,2,3], inplace=True)"
      ],
      "metadata": {
        "id": "cdXIKhOewBq6"
      },
      "execution_count": 84,
      "outputs": []
    },
    {
      "cell_type": "code",
      "source": [
        "all_store['Assortment'].replace(['a', 'b', 'c'],[0, 1,2], inplace=True)"
      ],
      "metadata": {
        "id": "nyYEznpkf-0x"
      },
      "execution_count": 85,
      "outputs": []
    },
    {
      "cell_type": "code",
      "source": [
        "all_store.StateHoliday.unique()"
      ],
      "metadata": {
        "colab": {
          "base_uri": "https://localhost:8080/"
        },
        "id": "G3zeQaR5d_RR",
        "outputId": "e3d9ed43-d848-4930-dbf1-fe07fd92dcdf"
      },
      "execution_count": 86,
      "outputs": [
        {
          "output_type": "execute_result",
          "data": {
            "text/plain": [
              "array(['0', 'a', 'b', 'c', 0], dtype=object)"
            ]
          },
          "metadata": {},
          "execution_count": 86
        }
      ]
    },
    {
      "cell_type": "code",
      "source": [
        "all_store['StateHoliday'].replace(['0', 'a', 'b', 'c'],[0, 1,2,3], inplace=True)"
      ],
      "metadata": {
        "id": "8SeosmeJeEyn"
      },
      "execution_count": 87,
      "outputs": []
    },
    {
      "cell_type": "code",
      "source": [
        "all_store.info()"
      ],
      "metadata": {
        "colab": {
          "base_uri": "https://localhost:8080/"
        },
        "id": "ZVXNOO_JjM1q",
        "outputId": "efc00904-3919-4c90-da36-e67a24a4807c"
      },
      "execution_count": 88,
      "outputs": [
        {
          "output_type": "stream",
          "name": "stdout",
          "text": [
            "<class 'pandas.core.frame.DataFrame'>\n",
            "Int64Index: 1017209 entries, 0 to 1017208\n",
            "Data columns (total 20 columns):\n",
            " #   Column                     Non-Null Count    Dtype  \n",
            "---  ------                     --------------    -----  \n",
            " 0   Store                      1017209 non-null  int64  \n",
            " 1   DayOfWeek                  1017209 non-null  int64  \n",
            " 2   Sales                      1017209 non-null  int64  \n",
            " 3   Customers                  1017209 non-null  int64  \n",
            " 4   Open                       1017209 non-null  int64  \n",
            " 5   Promo                      1017209 non-null  int64  \n",
            " 6   StateHoliday               1017209 non-null  int64  \n",
            " 7   SchoolHoliday              1017209 non-null  int64  \n",
            " 8   StoreType                  1017209 non-null  int64  \n",
            " 9   Assortment                 1017209 non-null  int64  \n",
            " 10  CompetitionDistance        1017209 non-null  float64\n",
            " 11  CompetitionOpenSinceMonth  1017209 non-null  float64\n",
            " 12  CompetitionOpenSinceYear   1017209 non-null  float64\n",
            " 13  Promo2                     1017209 non-null  int64  \n",
            " 14  Promo2SinceWeek            1017209 non-null  float64\n",
            " 15  Promo2SinceYear            1017209 non-null  float64\n",
            " 16  PromoInterval              1017209 non-null  object \n",
            " 17  year                       1017209 non-null  int64  \n",
            " 18  month                      1017209 non-null  int64  \n",
            " 19  day                        1017209 non-null  int64  \n",
            "dtypes: float64(5), int64(14), object(1)\n",
            "memory usage: 163.0+ MB\n"
          ]
        }
      ]
    },
    {
      "cell_type": "code",
      "source": [
        "all_store.PromoInterval.unique()"
      ],
      "metadata": {
        "colab": {
          "base_uri": "https://localhost:8080/"
        },
        "id": "pnQOBKIljRrH",
        "outputId": "5ae989bc-2477-4b00-85a5-d8209a5f3184"
      },
      "execution_count": 89,
      "outputs": [
        {
          "output_type": "execute_result",
          "data": {
            "text/plain": [
              "array([0, 'Jan,Apr,Jul,Oct', 'Feb,May,Aug,Nov', 'Mar,Jun,Sept,Dec'],\n",
              "      dtype=object)"
            ]
          },
          "metadata": {},
          "execution_count": 89
        }
      ]
    },
    {
      "cell_type": "code",
      "source": [
        "all_store['PromoInterval'].replace(['Jan,Apr,Jul,Oct', 'Feb,May,Aug,Nov', 'Mar,Jun,Sept,Dec'],[1,2,3], inplace= True)"
      ],
      "metadata": {
        "id": "bn5OuivKjxzF"
      },
      "execution_count": 90,
      "outputs": []
    },
    {
      "cell_type": "code",
      "source": [
        "all_store.info()"
      ],
      "metadata": {
        "colab": {
          "base_uri": "https://localhost:8080/"
        },
        "id": "z_SWZn-tkp-b",
        "outputId": "a9c38b56-368a-4401-e369-9635889f3d60"
      },
      "execution_count": 91,
      "outputs": [
        {
          "output_type": "stream",
          "name": "stdout",
          "text": [
            "<class 'pandas.core.frame.DataFrame'>\n",
            "Int64Index: 1017209 entries, 0 to 1017208\n",
            "Data columns (total 20 columns):\n",
            " #   Column                     Non-Null Count    Dtype  \n",
            "---  ------                     --------------    -----  \n",
            " 0   Store                      1017209 non-null  int64  \n",
            " 1   DayOfWeek                  1017209 non-null  int64  \n",
            " 2   Sales                      1017209 non-null  int64  \n",
            " 3   Customers                  1017209 non-null  int64  \n",
            " 4   Open                       1017209 non-null  int64  \n",
            " 5   Promo                      1017209 non-null  int64  \n",
            " 6   StateHoliday               1017209 non-null  int64  \n",
            " 7   SchoolHoliday              1017209 non-null  int64  \n",
            " 8   StoreType                  1017209 non-null  int64  \n",
            " 9   Assortment                 1017209 non-null  int64  \n",
            " 10  CompetitionDistance        1017209 non-null  float64\n",
            " 11  CompetitionOpenSinceMonth  1017209 non-null  float64\n",
            " 12  CompetitionOpenSinceYear   1017209 non-null  float64\n",
            " 13  Promo2                     1017209 non-null  int64  \n",
            " 14  Promo2SinceWeek            1017209 non-null  float64\n",
            " 15  Promo2SinceYear            1017209 non-null  float64\n",
            " 16  PromoInterval              1017209 non-null  int64  \n",
            " 17  year                       1017209 non-null  int64  \n",
            " 18  month                      1017209 non-null  int64  \n",
            " 19  day                        1017209 non-null  int64  \n",
            "dtypes: float64(5), int64(15)\n",
            "memory usage: 163.0 MB\n"
          ]
        }
      ]
    },
    {
      "cell_type": "code",
      "source": [
        "x= all_store.drop(['Sales'],axis=1).values"
      ],
      "metadata": {
        "id": "tUlA14EQqwE4"
      },
      "execution_count": 92,
      "outputs": []
    },
    {
      "cell_type": "code",
      "source": [
        "y= all_store['Sales'].values"
      ],
      "metadata": {
        "id": "XENjqrfk_hrL"
      },
      "execution_count": 93,
      "outputs": []
    },
    {
      "cell_type": "code",
      "source": [
        "from sklearn.model_selection import train_test_split\n",
        "x_train, x_test, y_train, y_test = train_test_split(\n",
        "  x, y, test_size= 0.30, random_state=42)"
      ],
      "metadata": {
        "id": "R7snfnsGBcas"
      },
      "execution_count": 94,
      "outputs": []
    },
    {
      "cell_type": "code",
      "source": [
        "reg = LinearRegression()\n",
        "reg.fit(x_train,y_train)"
      ],
      "metadata": {
        "colab": {
          "base_uri": "https://localhost:8080/"
        },
        "id": "Sju4JYw-V7dO",
        "outputId": "cbada958-8c03-46d2-b5ae-869de6f96770"
      },
      "execution_count": 95,
      "outputs": [
        {
          "output_type": "execute_result",
          "data": {
            "text/plain": [
              "LinearRegression()"
            ]
          },
          "metadata": {},
          "execution_count": 95
        }
      ]
    },
    {
      "cell_type": "code",
      "source": [
        "y_pred = reg.predict(x_test)"
      ],
      "metadata": {
        "id": "UfQfEaLzV-cj"
      },
      "execution_count": 96,
      "outputs": []
    },
    {
      "cell_type": "code",
      "source": [
        "from sklearn.metrics import r2_score"
      ],
      "metadata": {
        "id": "Ee0zSI-_WB33"
      },
      "execution_count": 97,
      "outputs": []
    },
    {
      "cell_type": "code",
      "source": [
        "r2_score(y_pred,y_test)"
      ],
      "metadata": {
        "colab": {
          "base_uri": "https://localhost:8080/"
        },
        "id": "TNYuIMYFWFfN",
        "outputId": "5d2a2885-df03-4bd5-f60f-37d23e6865c8"
      },
      "execution_count": 98,
      "outputs": [
        {
          "output_type": "execute_result",
          "data": {
            "text/plain": [
              "0.8493885806989396"
            ]
          },
          "metadata": {},
          "execution_count": 98
        }
      ]
    },
    {
      "cell_type": "code",
      "source": [
        "#from sklearn.preprocessing import StandardScaler\n",
        "#scaler = StandardScaler()"
      ],
      "metadata": {
        "id": "05q3-aS2BjQx"
      },
      "execution_count": 99,
      "outputs": []
    },
    {
      "cell_type": "code",
      "source": [
        "#x_train= scaler.fit_transform(x_train)"
      ],
      "metadata": {
        "id": "Y7cukgk_Bfxk"
      },
      "execution_count": 100,
      "outputs": []
    },
    {
      "cell_type": "code",
      "source": [
        "#x_test= scaler.transform(x_test)"
      ],
      "metadata": {
        "id": "7TJLpoejkOxx"
      },
      "execution_count": 101,
      "outputs": []
    },
    {
      "cell_type": "code",
      "source": [
        "#from sklearn.linear_model import LinearRegression\n",
        "## cross validation\n",
        "#from sklearn.model_selection import cross_val_score"
      ],
      "metadata": {
        "id": "8dLOO4GyTQk2"
      },
      "execution_count": 102,
      "outputs": []
    },
    {
      "cell_type": "code",
      "source": [
        "#regression = LinearRegression()\n",
        "#regression.fit(x_train,y_train)"
      ],
      "metadata": {
        "id": "La6Gxq9UT89H"
      },
      "execution_count": 103,
      "outputs": []
    },
    {
      "cell_type": "code",
      "source": [
        "#score( regression , x_train, y_train, scoring='neg_mean_squared_error' , cv=5 )"
      ],
      "metadata": {
        "id": "zrnXKH-oUBwK"
      },
      "execution_count": 104,
      "outputs": []
    },
    {
      "cell_type": "code",
      "source": [
        "#reg_pred= regression.predict(x_test)"
      ],
      "metadata": {
        "id": "Jr9CIgsxUyFV"
      },
      "execution_count": 105,
      "outputs": []
    },
    {
      "cell_type": "code",
      "source": [
        "#reg_pred"
      ],
      "metadata": {
        "id": "_TZQPQDOVTlW"
      },
      "execution_count": 106,
      "outputs": []
    },
    {
      "cell_type": "code",
      "source": [
        "from sklearn.linear_model import Ridge, Lasso"
      ],
      "metadata": {
        "id": "4EZmTqT0X76w"
      },
      "execution_count": 108,
      "outputs": []
    },
    {
      "cell_type": "code",
      "source": [
        "lass = Lasso(alpha = 0.1, max_iter = 2000)"
      ],
      "metadata": {
        "id": "1syUMIanVV1y"
      },
      "execution_count": 109,
      "outputs": []
    },
    {
      "cell_type": "code",
      "source": [
        "lass.fit(x_train,y_train)"
      ],
      "metadata": {
        "colab": {
          "base_uri": "https://localhost:8080/"
        },
        "id": "5XIGJSibXqEz",
        "outputId": "a7e1de42-5975-496f-8c5e-5bb9201e4700"
      },
      "execution_count": 110,
      "outputs": [
        {
          "output_type": "execute_result",
          "data": {
            "text/plain": [
              "Lasso(alpha=0.1, max_iter=2000)"
            ]
          },
          "metadata": {},
          "execution_count": 110
        }
      ]
    },
    {
      "cell_type": "code",
      "source": [
        "prediction_lasso = lass.predict(x_test)"
      ],
      "metadata": {
        "id": "ExuGCqZfXq1K"
      },
      "execution_count": 111,
      "outputs": []
    },
    {
      "cell_type": "code",
      "source": [
        "r2_score(y_test,prediction_lasso)"
      ],
      "metadata": {
        "colab": {
          "base_uri": "https://localhost:8080/"
        },
        "id": "qiF9COBeXtPa",
        "outputId": "4e5e94fe-0889-4bf0-f2ee-294103a48380"
      },
      "execution_count": 112,
      "outputs": [
        {
          "output_type": "execute_result",
          "data": {
            "text/plain": [
              "0.8684761773691394"
            ]
          },
          "metadata": {},
          "execution_count": 112
        }
      ]
    },
    {
      "cell_type": "code",
      "source": [
        "from sklearn.tree import DecisionTreeRegressor\n"
      ],
      "metadata": {
        "id": "2ZBAtOm4Yme1"
      },
      "execution_count": 113,
      "outputs": []
    },
    {
      "cell_type": "code",
      "source": [
        "from sklearn.model_selection import cross_val_score"
      ],
      "metadata": {
        "id": "UfMnVb-lYMrq"
      },
      "execution_count": 114,
      "outputs": []
    },
    {
      "cell_type": "code",
      "source": [
        "des_regressor = DecisionTreeRegressor(random_state=10)\n",
        "cross_val_score(des_regressor, x_train, y_train, cv=10).mean()"
      ],
      "metadata": {
        "colab": {
          "base_uri": "https://localhost:8080/"
        },
        "id": "rEfoRQlxYnlY",
        "outputId": "074861f5-e726-4a98-dffd-9efcc2b07a46"
      },
      "execution_count": 115,
      "outputs": [
        {
          "output_type": "execute_result",
          "data": {
            "text/plain": [
              "0.9722182474203022"
            ]
          },
          "metadata": {},
          "execution_count": 115
        }
      ]
    },
    {
      "cell_type": "code",
      "source": [
        "des_regressor.fit(x_train,y_train)"
      ],
      "metadata": {
        "colab": {
          "base_uri": "https://localhost:8080/"
        },
        "id": "6xfj2YtmYwST",
        "outputId": "d834e156-8d80-4c46-ecd9-8e60fd33796e"
      },
      "execution_count": 116,
      "outputs": [
        {
          "output_type": "execute_result",
          "data": {
            "text/plain": [
              "DecisionTreeRegressor(random_state=10)"
            ]
          },
          "metadata": {},
          "execution_count": 116
        }
      ]
    },
    {
      "cell_type": "code",
      "source": [
        "y_pred_des = des_regressor.predict(x_test)"
      ],
      "metadata": {
        "id": "6D4Fl72NYysm"
      },
      "execution_count": 117,
      "outputs": []
    },
    {
      "cell_type": "code",
      "source": [
        "r2_score(y_pred_des, y_test)"
      ],
      "metadata": {
        "colab": {
          "base_uri": "https://localhost:8080/"
        },
        "id": "_r-XS3R0Y1O2",
        "outputId": "8d3d0fda-81c8-4ba9-8e29-0c06c2f6c88f"
      },
      "execution_count": 118,
      "outputs": [
        {
          "output_type": "execute_result",
          "data": {
            "text/plain": [
              "0.9720080820504533"
            ]
          },
          "metadata": {},
          "execution_count": 118
        }
      ]
    }
  ],
  "metadata": {
    "colab": {
      "collapsed_sections": [],
      "provenance": [],
      "include_colab_link": true
    },
    "kernelspec": {
      "display_name": "Python 3",
      "language": "python",
      "name": "python3"
    },
    "language_info": {
      "codemirror_mode": {
        "name": "ipython",
        "version": 3
      },
      "file_extension": ".py",
      "mimetype": "text/x-python",
      "name": "python",
      "nbconvert_exporter": "python",
      "pygments_lexer": "ipython3",
      "version": "3.6.6"
    }
  },
  "nbformat": 4,
  "nbformat_minor": 0
}