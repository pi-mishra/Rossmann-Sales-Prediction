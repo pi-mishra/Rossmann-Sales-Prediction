{
  "cells": [
    {
      "cell_type": "markdown",
      "metadata": {
        "id": "view-in-github",
        "colab_type": "text"
      },
      "source": [
        "<a href=\"https://colab.research.google.com/github/pi-mishra/Rossmann-Sales-Prediction/blob/main/Rossmann_Sales_Prediction_(Piyush)_Capstone_Project.ipynb\" target=\"_parent\"><img src=\"https://colab.research.google.com/assets/colab-badge.svg\" alt=\"Open In Colab\"/></a>"
      ]
    },
    {
      "cell_type": "markdown",
      "metadata": {
        "id": "tOGC-qoyhJeX"
      },
      "source": [
        "# <b><u> Project Title : Sales Prediction : Predicting sales of a major store chain Rossmann</u></b>"
      ]
    },
    {
      "cell_type": "markdown",
      "metadata": {
        "id": "Y06xIdG26kRF"
      },
      "source": [
        "## <b> Problem Description </b>\n",
        "\n",
        "### Rossmann operates over 3,000 drug stores in 7 European countries. Currently, Rossmann store managers are tasked with predicting their daily sales for up to six weeks in advance. Store sales are influenced by many factors, including promotions, competition, school and state holidays, seasonality, and locality. With thousands of individual managers predicting sales based on their unique circumstances, the accuracy of results can be quite varied.\n",
        "\n",
        "### You are provided with historical sales data for 1,115 Rossmann stores. The task is to forecast the \"Sales\" column for the test set. Note that some stores in the dataset were temporarily closed for refurbishment."
      ]
    },
    {
      "cell_type": "markdown",
      "metadata": {
        "id": "WWeU1f9bwqQq"
      },
      "source": [
        "## <b> Data Description </b>\n",
        "\n",
        "### <b>Rossmann Stores Data.csv </b> - historical data including Sales\n",
        "### <b>store.csv </b> - supplemental information about the stores\n",
        "\n",
        "\n",
        "### <b><u>Data fields</u></b>\n",
        "### Most of the fields are self-explanatory. The following are descriptions for those that aren't.\n",
        "\n",
        "* #### Id - an Id that represents a (Store, Date) duple within the test set\n",
        "* #### Store - a unique Id for each store\n",
        "* #### Sales - the turnover for any given day (this is what you are predicting)\n",
        "* #### Customers - the number of customers on a given day\n",
        "* #### Open - an indicator for whether the store was open: 0 = closed, 1 = open\n",
        "* #### StateHoliday - indicates a state holiday. Normally all stores, with few exceptions, are closed on state holidays. Note that all schools are closed on public holidays and weekends. a = public holiday, b = Easter holiday, c = Christmas, 0 = None\n",
        "* #### SchoolHoliday - indicates if the (Store, Date) was affected by the closure of public schools\n",
        "* #### StoreType - differentiates between 4 different store models: a, b, c, d\n",
        "* #### Assortment - describes an assortment level: a = basic, b = extra, c = extended\n",
        "* #### CompetitionDistance - distance in meters to the nearest competitor store\n",
        "* #### CompetitionOpenSince[Month/Year] - gives the approximate year and month of the time the nearest competitor was opened\n",
        "* #### Promo - indicates whether a store is running a promo on that day\n",
        "* #### Promo2 - Promo2 is a continuing and consecutive promotion for some stores: 0 = store is not participating, 1 = store is participating\n",
        "* #### Promo2Since[Year/Week] - describes the year and calendar week when the store started participating in Promo2\n",
        "* #### PromoInterval - describes the consecutive intervals Promo2 is started, naming the months the promotion is started anew. E.g. \"Feb,May,Aug,Nov\" means each round starts in February, May, August, November of any given year for that store"
      ]
    },
    {
      "cell_type": "markdown",
      "metadata": {
        "id": "lBgCrwTEYSZ9"
      },
      "source": [
        "**Table of content-**\n",
        "1. Importing packages"
      ]
    },
    {
      "cell_type": "markdown",
      "metadata": {
        "id": "FeiG9MANYsTI"
      },
      "source": [
        "# 1. Importing packages "
      ]
    },
    {
      "cell_type": "code",
      "execution_count": 1,
      "metadata": {
        "id": "vgHSoK_Gr7GK"
      },
      "outputs": [],
      "source": [
        "import numpy as np\n",
        "import pandas as pd\n",
        "from numpy import math\n",
        "\n",
        "from sklearn.preprocessing import MinMaxScaler\n",
        "from sklearn.model_selection import train_test_split\n",
        "from sklearn.linear_model import LinearRegression\n",
        "from sklearn.metrics import r2_score\n",
        "from sklearn.metrics import mean_squared_error\n",
        "from sklearn.linear_model import Ridge, Lasso\n",
        "from sklearn.tree import DecisionTreeRegressor\n",
        "from sklearn.model_selection import cross_val_score\n",
        "\n",
        "import matplotlib.pyplot as plt\n",
        "import seaborn as sns\n",
        "import warnings\n",
        "warnings.filterwarnings(\"ignore\")\n"
      ]
    },
    {
      "cell_type": "code",
      "execution_count": 2,
      "metadata": {
        "colab": {
          "base_uri": "https://localhost:8080/"
        },
        "id": "KgxUFLZIv7A2",
        "outputId": "baa39a9a-00be-4da1-bf1f-b23b33b13c30"
      },
      "outputs": [
        {
          "output_type": "stream",
          "name": "stdout",
          "text": [
            "Mounted at /content/drive\n"
          ]
        }
      ],
      "source": [
        "#mounting drive\n",
        "from google.colab import drive\n",
        "drive.mount('/content/drive')"
      ]
    },
    {
      "cell_type": "markdown",
      "metadata": {
        "id": "5MYPdME-apo6"
      },
      "source": [
        "# 2. Data preparation"
      ]
    },
    {
      "cell_type": "code",
      "execution_count": 3,
      "metadata": {
        "id": "2TJz--q0ZL_X"
      },
      "outputs": [],
      "source": [
        "#reading the datasets\n",
        "\n",
        "r_stores = pd.read_csv('/content/drive/MyDrive/Copy of Rossmann Stores Data.csv')"
      ]
    },
    {
      "cell_type": "code",
      "execution_count": 4,
      "metadata": {
        "id": "CFTyo9WrwdjH"
      },
      "outputs": [],
      "source": [
        "stores= pd.read_csv('/content/drive/MyDrive/Copy of store.csv')"
      ]
    },
    {
      "cell_type": "code",
      "execution_count": 5,
      "metadata": {
        "colab": {
          "base_uri": "https://localhost:8080/",
          "height": 206
        },
        "id": "WX2TdrY5wpgn",
        "outputId": "6d77391e-b83a-4af4-c242-e2cee9a9b617"
      },
      "outputs": [
        {
          "output_type": "execute_result",
          "data": {
            "text/plain": [
              "   Store  DayOfWeek        Date  Sales  Customers  Open  Promo StateHoliday  \\\n",
              "0      1          5  2015-07-31   5263        555     1      1            0   \n",
              "1      2          5  2015-07-31   6064        625     1      1            0   \n",
              "2      3          5  2015-07-31   8314        821     1      1            0   \n",
              "3      4          5  2015-07-31  13995       1498     1      1            0   \n",
              "4      5          5  2015-07-31   4822        559     1      1            0   \n",
              "\n",
              "   SchoolHoliday  \n",
              "0              1  \n",
              "1              1  \n",
              "2              1  \n",
              "3              1  \n",
              "4              1  "
            ],
            "text/html": [
              "\n",
              "  <div id=\"df-7812ce42-7fa6-413c-ae99-093b8f58e804\">\n",
              "    <div class=\"colab-df-container\">\n",
              "      <div>\n",
              "<style scoped>\n",
              "    .dataframe tbody tr th:only-of-type {\n",
              "        vertical-align: middle;\n",
              "    }\n",
              "\n",
              "    .dataframe tbody tr th {\n",
              "        vertical-align: top;\n",
              "    }\n",
              "\n",
              "    .dataframe thead th {\n",
              "        text-align: right;\n",
              "    }\n",
              "</style>\n",
              "<table border=\"1\" class=\"dataframe\">\n",
              "  <thead>\n",
              "    <tr style=\"text-align: right;\">\n",
              "      <th></th>\n",
              "      <th>Store</th>\n",
              "      <th>DayOfWeek</th>\n",
              "      <th>Date</th>\n",
              "      <th>Sales</th>\n",
              "      <th>Customers</th>\n",
              "      <th>Open</th>\n",
              "      <th>Promo</th>\n",
              "      <th>StateHoliday</th>\n",
              "      <th>SchoolHoliday</th>\n",
              "    </tr>\n",
              "  </thead>\n",
              "  <tbody>\n",
              "    <tr>\n",
              "      <th>0</th>\n",
              "      <td>1</td>\n",
              "      <td>5</td>\n",
              "      <td>2015-07-31</td>\n",
              "      <td>5263</td>\n",
              "      <td>555</td>\n",
              "      <td>1</td>\n",
              "      <td>1</td>\n",
              "      <td>0</td>\n",
              "      <td>1</td>\n",
              "    </tr>\n",
              "    <tr>\n",
              "      <th>1</th>\n",
              "      <td>2</td>\n",
              "      <td>5</td>\n",
              "      <td>2015-07-31</td>\n",
              "      <td>6064</td>\n",
              "      <td>625</td>\n",
              "      <td>1</td>\n",
              "      <td>1</td>\n",
              "      <td>0</td>\n",
              "      <td>1</td>\n",
              "    </tr>\n",
              "    <tr>\n",
              "      <th>2</th>\n",
              "      <td>3</td>\n",
              "      <td>5</td>\n",
              "      <td>2015-07-31</td>\n",
              "      <td>8314</td>\n",
              "      <td>821</td>\n",
              "      <td>1</td>\n",
              "      <td>1</td>\n",
              "      <td>0</td>\n",
              "      <td>1</td>\n",
              "    </tr>\n",
              "    <tr>\n",
              "      <th>3</th>\n",
              "      <td>4</td>\n",
              "      <td>5</td>\n",
              "      <td>2015-07-31</td>\n",
              "      <td>13995</td>\n",
              "      <td>1498</td>\n",
              "      <td>1</td>\n",
              "      <td>1</td>\n",
              "      <td>0</td>\n",
              "      <td>1</td>\n",
              "    </tr>\n",
              "    <tr>\n",
              "      <th>4</th>\n",
              "      <td>5</td>\n",
              "      <td>5</td>\n",
              "      <td>2015-07-31</td>\n",
              "      <td>4822</td>\n",
              "      <td>559</td>\n",
              "      <td>1</td>\n",
              "      <td>1</td>\n",
              "      <td>0</td>\n",
              "      <td>1</td>\n",
              "    </tr>\n",
              "  </tbody>\n",
              "</table>\n",
              "</div>\n",
              "      <button class=\"colab-df-convert\" onclick=\"convertToInteractive('df-7812ce42-7fa6-413c-ae99-093b8f58e804')\"\n",
              "              title=\"Convert this dataframe to an interactive table.\"\n",
              "              style=\"display:none;\">\n",
              "        \n",
              "  <svg xmlns=\"http://www.w3.org/2000/svg\" height=\"24px\"viewBox=\"0 0 24 24\"\n",
              "       width=\"24px\">\n",
              "    <path d=\"M0 0h24v24H0V0z\" fill=\"none\"/>\n",
              "    <path d=\"M18.56 5.44l.94 2.06.94-2.06 2.06-.94-2.06-.94-.94-2.06-.94 2.06-2.06.94zm-11 1L8.5 8.5l.94-2.06 2.06-.94-2.06-.94L8.5 2.5l-.94 2.06-2.06.94zm10 10l.94 2.06.94-2.06 2.06-.94-2.06-.94-.94-2.06-.94 2.06-2.06.94z\"/><path d=\"M17.41 7.96l-1.37-1.37c-.4-.4-.92-.59-1.43-.59-.52 0-1.04.2-1.43.59L10.3 9.45l-7.72 7.72c-.78.78-.78 2.05 0 2.83L4 21.41c.39.39.9.59 1.41.59.51 0 1.02-.2 1.41-.59l7.78-7.78 2.81-2.81c.8-.78.8-2.07 0-2.86zM5.41 20L4 18.59l7.72-7.72 1.47 1.35L5.41 20z\"/>\n",
              "  </svg>\n",
              "      </button>\n",
              "      \n",
              "  <style>\n",
              "    .colab-df-container {\n",
              "      display:flex;\n",
              "      flex-wrap:wrap;\n",
              "      gap: 12px;\n",
              "    }\n",
              "\n",
              "    .colab-df-convert {\n",
              "      background-color: #E8F0FE;\n",
              "      border: none;\n",
              "      border-radius: 50%;\n",
              "      cursor: pointer;\n",
              "      display: none;\n",
              "      fill: #1967D2;\n",
              "      height: 32px;\n",
              "      padding: 0 0 0 0;\n",
              "      width: 32px;\n",
              "    }\n",
              "\n",
              "    .colab-df-convert:hover {\n",
              "      background-color: #E2EBFA;\n",
              "      box-shadow: 0px 1px 2px rgba(60, 64, 67, 0.3), 0px 1px 3px 1px rgba(60, 64, 67, 0.15);\n",
              "      fill: #174EA6;\n",
              "    }\n",
              "\n",
              "    [theme=dark] .colab-df-convert {\n",
              "      background-color: #3B4455;\n",
              "      fill: #D2E3FC;\n",
              "    }\n",
              "\n",
              "    [theme=dark] .colab-df-convert:hover {\n",
              "      background-color: #434B5C;\n",
              "      box-shadow: 0px 1px 3px 1px rgba(0, 0, 0, 0.15);\n",
              "      filter: drop-shadow(0px 1px 2px rgba(0, 0, 0, 0.3));\n",
              "      fill: #FFFFFF;\n",
              "    }\n",
              "  </style>\n",
              "\n",
              "      <script>\n",
              "        const buttonEl =\n",
              "          document.querySelector('#df-7812ce42-7fa6-413c-ae99-093b8f58e804 button.colab-df-convert');\n",
              "        buttonEl.style.display =\n",
              "          google.colab.kernel.accessAllowed ? 'block' : 'none';\n",
              "\n",
              "        async function convertToInteractive(key) {\n",
              "          const element = document.querySelector('#df-7812ce42-7fa6-413c-ae99-093b8f58e804');\n",
              "          const dataTable =\n",
              "            await google.colab.kernel.invokeFunction('convertToInteractive',\n",
              "                                                     [key], {});\n",
              "          if (!dataTable) return;\n",
              "\n",
              "          const docLinkHtml = 'Like what you see? Visit the ' +\n",
              "            '<a target=\"_blank\" href=https://colab.research.google.com/notebooks/data_table.ipynb>data table notebook</a>'\n",
              "            + ' to learn more about interactive tables.';\n",
              "          element.innerHTML = '';\n",
              "          dataTable['output_type'] = 'display_data';\n",
              "          await google.colab.output.renderOutput(dataTable, element);\n",
              "          const docLink = document.createElement('div');\n",
              "          docLink.innerHTML = docLinkHtml;\n",
              "          element.appendChild(docLink);\n",
              "        }\n",
              "      </script>\n",
              "    </div>\n",
              "  </div>\n",
              "  "
            ]
          },
          "metadata": {},
          "execution_count": 5
        }
      ],
      "source": [
        "r_stores.head()"
      ]
    },
    {
      "cell_type": "code",
      "execution_count": 6,
      "metadata": {
        "colab": {
          "base_uri": "https://localhost:8080/",
          "height": 206
        },
        "id": "trIDQiJpwxr9",
        "outputId": "5ec91234-77ba-4198-be12-158702647110"
      },
      "outputs": [
        {
          "output_type": "execute_result",
          "data": {
            "text/plain": [
              "   Store StoreType Assortment  CompetitionDistance  CompetitionOpenSinceMonth  \\\n",
              "0      1         c          a               1270.0                        9.0   \n",
              "1      2         a          a                570.0                       11.0   \n",
              "2      3         a          a              14130.0                       12.0   \n",
              "3      4         c          c                620.0                        9.0   \n",
              "4      5         a          a              29910.0                        4.0   \n",
              "\n",
              "   CompetitionOpenSinceYear  Promo2  Promo2SinceWeek  Promo2SinceYear  \\\n",
              "0                    2008.0       0              NaN              NaN   \n",
              "1                    2007.0       1             13.0           2010.0   \n",
              "2                    2006.0       1             14.0           2011.0   \n",
              "3                    2009.0       0              NaN              NaN   \n",
              "4                    2015.0       0              NaN              NaN   \n",
              "\n",
              "     PromoInterval  \n",
              "0              NaN  \n",
              "1  Jan,Apr,Jul,Oct  \n",
              "2  Jan,Apr,Jul,Oct  \n",
              "3              NaN  \n",
              "4              NaN  "
            ],
            "text/html": [
              "\n",
              "  <div id=\"df-b26643f4-4b93-450f-aec4-4dd04f44467d\">\n",
              "    <div class=\"colab-df-container\">\n",
              "      <div>\n",
              "<style scoped>\n",
              "    .dataframe tbody tr th:only-of-type {\n",
              "        vertical-align: middle;\n",
              "    }\n",
              "\n",
              "    .dataframe tbody tr th {\n",
              "        vertical-align: top;\n",
              "    }\n",
              "\n",
              "    .dataframe thead th {\n",
              "        text-align: right;\n",
              "    }\n",
              "</style>\n",
              "<table border=\"1\" class=\"dataframe\">\n",
              "  <thead>\n",
              "    <tr style=\"text-align: right;\">\n",
              "      <th></th>\n",
              "      <th>Store</th>\n",
              "      <th>StoreType</th>\n",
              "      <th>Assortment</th>\n",
              "      <th>CompetitionDistance</th>\n",
              "      <th>CompetitionOpenSinceMonth</th>\n",
              "      <th>CompetitionOpenSinceYear</th>\n",
              "      <th>Promo2</th>\n",
              "      <th>Promo2SinceWeek</th>\n",
              "      <th>Promo2SinceYear</th>\n",
              "      <th>PromoInterval</th>\n",
              "    </tr>\n",
              "  </thead>\n",
              "  <tbody>\n",
              "    <tr>\n",
              "      <th>0</th>\n",
              "      <td>1</td>\n",
              "      <td>c</td>\n",
              "      <td>a</td>\n",
              "      <td>1270.0</td>\n",
              "      <td>9.0</td>\n",
              "      <td>2008.0</td>\n",
              "      <td>0</td>\n",
              "      <td>NaN</td>\n",
              "      <td>NaN</td>\n",
              "      <td>NaN</td>\n",
              "    </tr>\n",
              "    <tr>\n",
              "      <th>1</th>\n",
              "      <td>2</td>\n",
              "      <td>a</td>\n",
              "      <td>a</td>\n",
              "      <td>570.0</td>\n",
              "      <td>11.0</td>\n",
              "      <td>2007.0</td>\n",
              "      <td>1</td>\n",
              "      <td>13.0</td>\n",
              "      <td>2010.0</td>\n",
              "      <td>Jan,Apr,Jul,Oct</td>\n",
              "    </tr>\n",
              "    <tr>\n",
              "      <th>2</th>\n",
              "      <td>3</td>\n",
              "      <td>a</td>\n",
              "      <td>a</td>\n",
              "      <td>14130.0</td>\n",
              "      <td>12.0</td>\n",
              "      <td>2006.0</td>\n",
              "      <td>1</td>\n",
              "      <td>14.0</td>\n",
              "      <td>2011.0</td>\n",
              "      <td>Jan,Apr,Jul,Oct</td>\n",
              "    </tr>\n",
              "    <tr>\n",
              "      <th>3</th>\n",
              "      <td>4</td>\n",
              "      <td>c</td>\n",
              "      <td>c</td>\n",
              "      <td>620.0</td>\n",
              "      <td>9.0</td>\n",
              "      <td>2009.0</td>\n",
              "      <td>0</td>\n",
              "      <td>NaN</td>\n",
              "      <td>NaN</td>\n",
              "      <td>NaN</td>\n",
              "    </tr>\n",
              "    <tr>\n",
              "      <th>4</th>\n",
              "      <td>5</td>\n",
              "      <td>a</td>\n",
              "      <td>a</td>\n",
              "      <td>29910.0</td>\n",
              "      <td>4.0</td>\n",
              "      <td>2015.0</td>\n",
              "      <td>0</td>\n",
              "      <td>NaN</td>\n",
              "      <td>NaN</td>\n",
              "      <td>NaN</td>\n",
              "    </tr>\n",
              "  </tbody>\n",
              "</table>\n",
              "</div>\n",
              "      <button class=\"colab-df-convert\" onclick=\"convertToInteractive('df-b26643f4-4b93-450f-aec4-4dd04f44467d')\"\n",
              "              title=\"Convert this dataframe to an interactive table.\"\n",
              "              style=\"display:none;\">\n",
              "        \n",
              "  <svg xmlns=\"http://www.w3.org/2000/svg\" height=\"24px\"viewBox=\"0 0 24 24\"\n",
              "       width=\"24px\">\n",
              "    <path d=\"M0 0h24v24H0V0z\" fill=\"none\"/>\n",
              "    <path d=\"M18.56 5.44l.94 2.06.94-2.06 2.06-.94-2.06-.94-.94-2.06-.94 2.06-2.06.94zm-11 1L8.5 8.5l.94-2.06 2.06-.94-2.06-.94L8.5 2.5l-.94 2.06-2.06.94zm10 10l.94 2.06.94-2.06 2.06-.94-2.06-.94-.94-2.06-.94 2.06-2.06.94z\"/><path d=\"M17.41 7.96l-1.37-1.37c-.4-.4-.92-.59-1.43-.59-.52 0-1.04.2-1.43.59L10.3 9.45l-7.72 7.72c-.78.78-.78 2.05 0 2.83L4 21.41c.39.39.9.59 1.41.59.51 0 1.02-.2 1.41-.59l7.78-7.78 2.81-2.81c.8-.78.8-2.07 0-2.86zM5.41 20L4 18.59l7.72-7.72 1.47 1.35L5.41 20z\"/>\n",
              "  </svg>\n",
              "      </button>\n",
              "      \n",
              "  <style>\n",
              "    .colab-df-container {\n",
              "      display:flex;\n",
              "      flex-wrap:wrap;\n",
              "      gap: 12px;\n",
              "    }\n",
              "\n",
              "    .colab-df-convert {\n",
              "      background-color: #E8F0FE;\n",
              "      border: none;\n",
              "      border-radius: 50%;\n",
              "      cursor: pointer;\n",
              "      display: none;\n",
              "      fill: #1967D2;\n",
              "      height: 32px;\n",
              "      padding: 0 0 0 0;\n",
              "      width: 32px;\n",
              "    }\n",
              "\n",
              "    .colab-df-convert:hover {\n",
              "      background-color: #E2EBFA;\n",
              "      box-shadow: 0px 1px 2px rgba(60, 64, 67, 0.3), 0px 1px 3px 1px rgba(60, 64, 67, 0.15);\n",
              "      fill: #174EA6;\n",
              "    }\n",
              "\n",
              "    [theme=dark] .colab-df-convert {\n",
              "      background-color: #3B4455;\n",
              "      fill: #D2E3FC;\n",
              "    }\n",
              "\n",
              "    [theme=dark] .colab-df-convert:hover {\n",
              "      background-color: #434B5C;\n",
              "      box-shadow: 0px 1px 3px 1px rgba(0, 0, 0, 0.15);\n",
              "      filter: drop-shadow(0px 1px 2px rgba(0, 0, 0, 0.3));\n",
              "      fill: #FFFFFF;\n",
              "    }\n",
              "  </style>\n",
              "\n",
              "      <script>\n",
              "        const buttonEl =\n",
              "          document.querySelector('#df-b26643f4-4b93-450f-aec4-4dd04f44467d button.colab-df-convert');\n",
              "        buttonEl.style.display =\n",
              "          google.colab.kernel.accessAllowed ? 'block' : 'none';\n",
              "\n",
              "        async function convertToInteractive(key) {\n",
              "          const element = document.querySelector('#df-b26643f4-4b93-450f-aec4-4dd04f44467d');\n",
              "          const dataTable =\n",
              "            await google.colab.kernel.invokeFunction('convertToInteractive',\n",
              "                                                     [key], {});\n",
              "          if (!dataTable) return;\n",
              "\n",
              "          const docLinkHtml = 'Like what you see? Visit the ' +\n",
              "            '<a target=\"_blank\" href=https://colab.research.google.com/notebooks/data_table.ipynb>data table notebook</a>'\n",
              "            + ' to learn more about interactive tables.';\n",
              "          element.innerHTML = '';\n",
              "          dataTable['output_type'] = 'display_data';\n",
              "          await google.colab.output.renderOutput(dataTable, element);\n",
              "          const docLink = document.createElement('div');\n",
              "          docLink.innerHTML = docLinkHtml;\n",
              "          element.appendChild(docLink);\n",
              "        }\n",
              "      </script>\n",
              "    </div>\n",
              "  </div>\n",
              "  "
            ]
          },
          "metadata": {},
          "execution_count": 6
        }
      ],
      "source": [
        "stores.head()"
      ]
    },
    {
      "cell_type": "code",
      "execution_count": 7,
      "metadata": {
        "id": "0YRxPk0rxA3F"
      },
      "outputs": [],
      "source": [
        "#mearging the 2 data sets\n",
        "\n",
        "all_store = pd.merge(r_stores, stores, on ='Store')"
      ]
    },
    {
      "cell_type": "code",
      "execution_count": 8,
      "metadata": {
        "colab": {
          "base_uri": "https://localhost:8080/",
          "height": 357
        },
        "id": "-B50EsAwxvqt",
        "outputId": "ff5314f4-c41c-453e-ab8a-daf6085b70f5"
      },
      "outputs": [
        {
          "output_type": "execute_result",
          "data": {
            "text/plain": [
              "   Store  DayOfWeek        Date  Sales  Customers  Open  Promo StateHoliday  \\\n",
              "0      1          5  2015-07-31   5263        555     1      1            0   \n",
              "1      1          4  2015-07-30   5020        546     1      1            0   \n",
              "2      1          3  2015-07-29   4782        523     1      1            0   \n",
              "3      1          2  2015-07-28   5011        560     1      1            0   \n",
              "4      1          1  2015-07-27   6102        612     1      1            0   \n",
              "\n",
              "   SchoolHoliday StoreType Assortment  CompetitionDistance  \\\n",
              "0              1         c          a               1270.0   \n",
              "1              1         c          a               1270.0   \n",
              "2              1         c          a               1270.0   \n",
              "3              1         c          a               1270.0   \n",
              "4              1         c          a               1270.0   \n",
              "\n",
              "   CompetitionOpenSinceMonth  CompetitionOpenSinceYear  Promo2  \\\n",
              "0                        9.0                    2008.0       0   \n",
              "1                        9.0                    2008.0       0   \n",
              "2                        9.0                    2008.0       0   \n",
              "3                        9.0                    2008.0       0   \n",
              "4                        9.0                    2008.0       0   \n",
              "\n",
              "   Promo2SinceWeek  Promo2SinceYear PromoInterval  \n",
              "0              NaN              NaN           NaN  \n",
              "1              NaN              NaN           NaN  \n",
              "2              NaN              NaN           NaN  \n",
              "3              NaN              NaN           NaN  \n",
              "4              NaN              NaN           NaN  "
            ],
            "text/html": [
              "\n",
              "  <div id=\"df-f421cc8a-e2bb-4a59-af4f-8c64225cea52\">\n",
              "    <div class=\"colab-df-container\">\n",
              "      <div>\n",
              "<style scoped>\n",
              "    .dataframe tbody tr th:only-of-type {\n",
              "        vertical-align: middle;\n",
              "    }\n",
              "\n",
              "    .dataframe tbody tr th {\n",
              "        vertical-align: top;\n",
              "    }\n",
              "\n",
              "    .dataframe thead th {\n",
              "        text-align: right;\n",
              "    }\n",
              "</style>\n",
              "<table border=\"1\" class=\"dataframe\">\n",
              "  <thead>\n",
              "    <tr style=\"text-align: right;\">\n",
              "      <th></th>\n",
              "      <th>Store</th>\n",
              "      <th>DayOfWeek</th>\n",
              "      <th>Date</th>\n",
              "      <th>Sales</th>\n",
              "      <th>Customers</th>\n",
              "      <th>Open</th>\n",
              "      <th>Promo</th>\n",
              "      <th>StateHoliday</th>\n",
              "      <th>SchoolHoliday</th>\n",
              "      <th>StoreType</th>\n",
              "      <th>Assortment</th>\n",
              "      <th>CompetitionDistance</th>\n",
              "      <th>CompetitionOpenSinceMonth</th>\n",
              "      <th>CompetitionOpenSinceYear</th>\n",
              "      <th>Promo2</th>\n",
              "      <th>Promo2SinceWeek</th>\n",
              "      <th>Promo2SinceYear</th>\n",
              "      <th>PromoInterval</th>\n",
              "    </tr>\n",
              "  </thead>\n",
              "  <tbody>\n",
              "    <tr>\n",
              "      <th>0</th>\n",
              "      <td>1</td>\n",
              "      <td>5</td>\n",
              "      <td>2015-07-31</td>\n",
              "      <td>5263</td>\n",
              "      <td>555</td>\n",
              "      <td>1</td>\n",
              "      <td>1</td>\n",
              "      <td>0</td>\n",
              "      <td>1</td>\n",
              "      <td>c</td>\n",
              "      <td>a</td>\n",
              "      <td>1270.0</td>\n",
              "      <td>9.0</td>\n",
              "      <td>2008.0</td>\n",
              "      <td>0</td>\n",
              "      <td>NaN</td>\n",
              "      <td>NaN</td>\n",
              "      <td>NaN</td>\n",
              "    </tr>\n",
              "    <tr>\n",
              "      <th>1</th>\n",
              "      <td>1</td>\n",
              "      <td>4</td>\n",
              "      <td>2015-07-30</td>\n",
              "      <td>5020</td>\n",
              "      <td>546</td>\n",
              "      <td>1</td>\n",
              "      <td>1</td>\n",
              "      <td>0</td>\n",
              "      <td>1</td>\n",
              "      <td>c</td>\n",
              "      <td>a</td>\n",
              "      <td>1270.0</td>\n",
              "      <td>9.0</td>\n",
              "      <td>2008.0</td>\n",
              "      <td>0</td>\n",
              "      <td>NaN</td>\n",
              "      <td>NaN</td>\n",
              "      <td>NaN</td>\n",
              "    </tr>\n",
              "    <tr>\n",
              "      <th>2</th>\n",
              "      <td>1</td>\n",
              "      <td>3</td>\n",
              "      <td>2015-07-29</td>\n",
              "      <td>4782</td>\n",
              "      <td>523</td>\n",
              "      <td>1</td>\n",
              "      <td>1</td>\n",
              "      <td>0</td>\n",
              "      <td>1</td>\n",
              "      <td>c</td>\n",
              "      <td>a</td>\n",
              "      <td>1270.0</td>\n",
              "      <td>9.0</td>\n",
              "      <td>2008.0</td>\n",
              "      <td>0</td>\n",
              "      <td>NaN</td>\n",
              "      <td>NaN</td>\n",
              "      <td>NaN</td>\n",
              "    </tr>\n",
              "    <tr>\n",
              "      <th>3</th>\n",
              "      <td>1</td>\n",
              "      <td>2</td>\n",
              "      <td>2015-07-28</td>\n",
              "      <td>5011</td>\n",
              "      <td>560</td>\n",
              "      <td>1</td>\n",
              "      <td>1</td>\n",
              "      <td>0</td>\n",
              "      <td>1</td>\n",
              "      <td>c</td>\n",
              "      <td>a</td>\n",
              "      <td>1270.0</td>\n",
              "      <td>9.0</td>\n",
              "      <td>2008.0</td>\n",
              "      <td>0</td>\n",
              "      <td>NaN</td>\n",
              "      <td>NaN</td>\n",
              "      <td>NaN</td>\n",
              "    </tr>\n",
              "    <tr>\n",
              "      <th>4</th>\n",
              "      <td>1</td>\n",
              "      <td>1</td>\n",
              "      <td>2015-07-27</td>\n",
              "      <td>6102</td>\n",
              "      <td>612</td>\n",
              "      <td>1</td>\n",
              "      <td>1</td>\n",
              "      <td>0</td>\n",
              "      <td>1</td>\n",
              "      <td>c</td>\n",
              "      <td>a</td>\n",
              "      <td>1270.0</td>\n",
              "      <td>9.0</td>\n",
              "      <td>2008.0</td>\n",
              "      <td>0</td>\n",
              "      <td>NaN</td>\n",
              "      <td>NaN</td>\n",
              "      <td>NaN</td>\n",
              "    </tr>\n",
              "  </tbody>\n",
              "</table>\n",
              "</div>\n",
              "      <button class=\"colab-df-convert\" onclick=\"convertToInteractive('df-f421cc8a-e2bb-4a59-af4f-8c64225cea52')\"\n",
              "              title=\"Convert this dataframe to an interactive table.\"\n",
              "              style=\"display:none;\">\n",
              "        \n",
              "  <svg xmlns=\"http://www.w3.org/2000/svg\" height=\"24px\"viewBox=\"0 0 24 24\"\n",
              "       width=\"24px\">\n",
              "    <path d=\"M0 0h24v24H0V0z\" fill=\"none\"/>\n",
              "    <path d=\"M18.56 5.44l.94 2.06.94-2.06 2.06-.94-2.06-.94-.94-2.06-.94 2.06-2.06.94zm-11 1L8.5 8.5l.94-2.06 2.06-.94-2.06-.94L8.5 2.5l-.94 2.06-2.06.94zm10 10l.94 2.06.94-2.06 2.06-.94-2.06-.94-.94-2.06-.94 2.06-2.06.94z\"/><path d=\"M17.41 7.96l-1.37-1.37c-.4-.4-.92-.59-1.43-.59-.52 0-1.04.2-1.43.59L10.3 9.45l-7.72 7.72c-.78.78-.78 2.05 0 2.83L4 21.41c.39.39.9.59 1.41.59.51 0 1.02-.2 1.41-.59l7.78-7.78 2.81-2.81c.8-.78.8-2.07 0-2.86zM5.41 20L4 18.59l7.72-7.72 1.47 1.35L5.41 20z\"/>\n",
              "  </svg>\n",
              "      </button>\n",
              "      \n",
              "  <style>\n",
              "    .colab-df-container {\n",
              "      display:flex;\n",
              "      flex-wrap:wrap;\n",
              "      gap: 12px;\n",
              "    }\n",
              "\n",
              "    .colab-df-convert {\n",
              "      background-color: #E8F0FE;\n",
              "      border: none;\n",
              "      border-radius: 50%;\n",
              "      cursor: pointer;\n",
              "      display: none;\n",
              "      fill: #1967D2;\n",
              "      height: 32px;\n",
              "      padding: 0 0 0 0;\n",
              "      width: 32px;\n",
              "    }\n",
              "\n",
              "    .colab-df-convert:hover {\n",
              "      background-color: #E2EBFA;\n",
              "      box-shadow: 0px 1px 2px rgba(60, 64, 67, 0.3), 0px 1px 3px 1px rgba(60, 64, 67, 0.15);\n",
              "      fill: #174EA6;\n",
              "    }\n",
              "\n",
              "    [theme=dark] .colab-df-convert {\n",
              "      background-color: #3B4455;\n",
              "      fill: #D2E3FC;\n",
              "    }\n",
              "\n",
              "    [theme=dark] .colab-df-convert:hover {\n",
              "      background-color: #434B5C;\n",
              "      box-shadow: 0px 1px 3px 1px rgba(0, 0, 0, 0.15);\n",
              "      filter: drop-shadow(0px 1px 2px rgba(0, 0, 0, 0.3));\n",
              "      fill: #FFFFFF;\n",
              "    }\n",
              "  </style>\n",
              "\n",
              "      <script>\n",
              "        const buttonEl =\n",
              "          document.querySelector('#df-f421cc8a-e2bb-4a59-af4f-8c64225cea52 button.colab-df-convert');\n",
              "        buttonEl.style.display =\n",
              "          google.colab.kernel.accessAllowed ? 'block' : 'none';\n",
              "\n",
              "        async function convertToInteractive(key) {\n",
              "          const element = document.querySelector('#df-f421cc8a-e2bb-4a59-af4f-8c64225cea52');\n",
              "          const dataTable =\n",
              "            await google.colab.kernel.invokeFunction('convertToInteractive',\n",
              "                                                     [key], {});\n",
              "          if (!dataTable) return;\n",
              "\n",
              "          const docLinkHtml = 'Like what you see? Visit the ' +\n",
              "            '<a target=\"_blank\" href=https://colab.research.google.com/notebooks/data_table.ipynb>data table notebook</a>'\n",
              "            + ' to learn more about interactive tables.';\n",
              "          element.innerHTML = '';\n",
              "          dataTable['output_type'] = 'display_data';\n",
              "          await google.colab.output.renderOutput(dataTable, element);\n",
              "          const docLink = document.createElement('div');\n",
              "          docLink.innerHTML = docLinkHtml;\n",
              "          element.appendChild(docLink);\n",
              "        }\n",
              "      </script>\n",
              "    </div>\n",
              "  </div>\n",
              "  "
            ]
          },
          "metadata": {},
          "execution_count": 8
        }
      ],
      "source": [
        "all_store.head()"
      ]
    },
    {
      "cell_type": "code",
      "execution_count": 9,
      "metadata": {
        "colab": {
          "base_uri": "https://localhost:8080/"
        },
        "id": "9bI7CMuFx1v0",
        "outputId": "f911b448-ca36-4ac6-805f-eda264d80856"
      },
      "outputs": [
        {
          "output_type": "stream",
          "name": "stdout",
          "text": [
            "<class 'pandas.core.frame.DataFrame'>\n",
            "Int64Index: 1017209 entries, 0 to 1017208\n",
            "Data columns (total 18 columns):\n",
            " #   Column                     Non-Null Count    Dtype  \n",
            "---  ------                     --------------    -----  \n",
            " 0   Store                      1017209 non-null  int64  \n",
            " 1   DayOfWeek                  1017209 non-null  int64  \n",
            " 2   Date                       1017209 non-null  object \n",
            " 3   Sales                      1017209 non-null  int64  \n",
            " 4   Customers                  1017209 non-null  int64  \n",
            " 5   Open                       1017209 non-null  int64  \n",
            " 6   Promo                      1017209 non-null  int64  \n",
            " 7   StateHoliday               1017209 non-null  object \n",
            " 8   SchoolHoliday              1017209 non-null  int64  \n",
            " 9   StoreType                  1017209 non-null  object \n",
            " 10  Assortment                 1017209 non-null  object \n",
            " 11  CompetitionDistance        1014567 non-null  float64\n",
            " 12  CompetitionOpenSinceMonth  693861 non-null   float64\n",
            " 13  CompetitionOpenSinceYear   693861 non-null   float64\n",
            " 14  Promo2                     1017209 non-null  int64  \n",
            " 15  Promo2SinceWeek            509178 non-null   float64\n",
            " 16  Promo2SinceYear            509178 non-null   float64\n",
            " 17  PromoInterval              509178 non-null   object \n",
            "dtypes: float64(5), int64(8), object(5)\n",
            "memory usage: 147.5+ MB\n"
          ]
        }
      ],
      "source": [
        "all_store.info()"
      ]
    },
    {
      "cell_type": "markdown",
      "source": [
        "There are multiple object dtype we need to either remove or change it into int/float."
      ],
      "metadata": {
        "id": "mP31d6Bs1CEm"
      }
    },
    {
      "cell_type": "code",
      "source": [
        "#converting date coloumn to datetime to extract year, month and day\n",
        "all_store['Date']= pd.to_datetime(all_store['Date'])"
      ],
      "metadata": {
        "id": "wdoUu50IJQ4n"
      },
      "execution_count": 10,
      "outputs": []
    },
    {
      "cell_type": "code",
      "source": [
        "all_store['year'] = pd.DatetimeIndex(all_store['Date']).year\n",
        "\n",
        "all_store['month'] = pd.DatetimeIndex(all_store['Date']).month\n",
        "\n",
        "all_store['day'] = pd.DatetimeIndex(all_store['Date']).day"
      ],
      "metadata": {
        "id": "t3HtiZgFP6wB"
      },
      "execution_count": 11,
      "outputs": []
    },
    {
      "cell_type": "code",
      "source": [
        "#dropping date coloumn as we have extracted year , month and day\n",
        "all_store.drop(['Date'], axis=1, inplace = True)"
      ],
      "metadata": {
        "id": "Ipn8RISOReMv"
      },
      "execution_count": 12,
      "outputs": []
    },
    {
      "cell_type": "code",
      "source": [
        "#replcing all object to numerical values\n",
        "all_store['StoreType'].replace(['a', 'b', 'c','d'],[0, 1,2,3], inplace=True)"
      ],
      "metadata": {
        "id": "yDVvpK-Xv82H"
      },
      "execution_count": 13,
      "outputs": []
    },
    {
      "cell_type": "code",
      "source": [
        "all_store['Assortment'].replace(['a', 'b', 'c'],[0, 1,2], inplace=True)"
      ],
      "metadata": {
        "id": "V3SXasjxwPRA"
      },
      "execution_count": 14,
      "outputs": []
    },
    {
      "cell_type": "code",
      "source": [
        "all_store['StateHoliday'].replace(['0', 'a', 'b', 'c'],[0, 1,2,3], inplace=True)"
      ],
      "metadata": {
        "id": "18OzvA7LwY_H"
      },
      "execution_count": 15,
      "outputs": []
    },
    {
      "cell_type": "code",
      "source": [
        "all_store['PromoInterval'].replace(['Jan,Apr,Jul,Oct', 'Feb,May,Aug,Nov', 'Mar,Jun,Sept,Dec'],[1,2,3], inplace= True)"
      ],
      "metadata": {
        "id": "yxKa1XPEws_j"
      },
      "execution_count": 16,
      "outputs": []
    },
    {
      "cell_type": "code",
      "source": [
        "#checking if the all the columns are converted to int or float\n",
        "all_store.dtypes"
      ],
      "metadata": {
        "colab": {
          "base_uri": "https://localhost:8080/"
        },
        "id": "zA0db8XaRP0t",
        "outputId": "dc06058c-ad70-40aa-b832-cb5908b946dc"
      },
      "execution_count": 17,
      "outputs": [
        {
          "output_type": "execute_result",
          "data": {
            "text/plain": [
              "Store                          int64\n",
              "DayOfWeek                      int64\n",
              "Sales                          int64\n",
              "Customers                      int64\n",
              "Open                           int64\n",
              "Promo                          int64\n",
              "StateHoliday                   int64\n",
              "SchoolHoliday                  int64\n",
              "StoreType                      int64\n",
              "Assortment                     int64\n",
              "CompetitionDistance          float64\n",
              "CompetitionOpenSinceMonth    float64\n",
              "CompetitionOpenSinceYear     float64\n",
              "Promo2                         int64\n",
              "Promo2SinceWeek              float64\n",
              "Promo2SinceYear              float64\n",
              "PromoInterval                float64\n",
              "year                           int64\n",
              "month                          int64\n",
              "day                            int64\n",
              "dtype: object"
            ]
          },
          "metadata": {},
          "execution_count": 17
        }
      ]
    },
    {
      "cell_type": "code",
      "execution_count": 18,
      "metadata": {
        "colab": {
          "base_uri": "https://localhost:8080/"
        },
        "id": "sxVgiLVDDc2G",
        "outputId": "d8eb7d41-e0d0-44bd-f791-2cbe7d1110f4"
      },
      "outputs": [
        {
          "output_type": "execute_result",
          "data": {
            "text/plain": [
              "Store                         1115\n",
              "DayOfWeek                        7\n",
              "Sales                        21734\n",
              "Customers                     4086\n",
              "Open                             2\n",
              "Promo                            2\n",
              "StateHoliday                     4\n",
              "SchoolHoliday                    2\n",
              "StoreType                        4\n",
              "Assortment                       3\n",
              "CompetitionDistance            654\n",
              "CompetitionOpenSinceMonth       12\n",
              "CompetitionOpenSinceYear        23\n",
              "Promo2                           2\n",
              "Promo2SinceWeek                 24\n",
              "Promo2SinceYear                  7\n",
              "PromoInterval                    3\n",
              "year                             3\n",
              "month                           12\n",
              "day                             31\n",
              "dtype: int64"
            ]
          },
          "metadata": {},
          "execution_count": 18
        }
      ],
      "source": [
        "#checking for the unique values\n",
        "all_store.nunique()"
      ]
    },
    {
      "cell_type": "code",
      "execution_count": 19,
      "metadata": {
        "colab": {
          "base_uri": "https://localhost:8080/"
        },
        "id": "-xHLuYYkywS0",
        "outputId": "49be2c14-7689-43aa-b2e9-a3646df10381"
      },
      "outputs": [
        {
          "output_type": "execute_result",
          "data": {
            "text/plain": [
              "Store                             0\n",
              "DayOfWeek                         0\n",
              "Sales                             0\n",
              "Customers                         0\n",
              "Open                              0\n",
              "Promo                             0\n",
              "StateHoliday                      0\n",
              "SchoolHoliday                     0\n",
              "StoreType                         0\n",
              "Assortment                        0\n",
              "CompetitionDistance            2642\n",
              "CompetitionOpenSinceMonth    323348\n",
              "CompetitionOpenSinceYear     323348\n",
              "Promo2                            0\n",
              "Promo2SinceWeek              508031\n",
              "Promo2SinceYear              508031\n",
              "PromoInterval                508031\n",
              "year                              0\n",
              "month                             0\n",
              "day                               0\n",
              "dtype: int64"
            ]
          },
          "metadata": {},
          "execution_count": 19
        }
      ],
      "source": [
        "#checking for null values\n",
        "all_store.isnull().sum()"
      ]
    },
    {
      "cell_type": "code",
      "execution_count": 20,
      "metadata": {
        "colab": {
          "base_uri": "https://localhost:8080/"
        },
        "id": "ZN5IRvXAzAL9",
        "outputId": "55729c68-be1a-4d56-ff0b-e25ab9f5c5e8"
      },
      "outputs": [
        {
          "output_type": "execute_result",
          "data": {
            "text/plain": [
              "Store                        0.000000\n",
              "DayOfWeek                    0.000000\n",
              "Sales                        0.000000\n",
              "Customers                    0.000000\n",
              "Open                         0.000000\n",
              "Promo                        0.000000\n",
              "StateHoliday                 0.000000\n",
              "SchoolHoliday                0.000000\n",
              "StoreType                    0.000000\n",
              "Assortment                   0.000000\n",
              "CompetitionDistance          0.002597\n",
              "CompetitionOpenSinceMonth    0.317878\n",
              "CompetitionOpenSinceYear     0.317878\n",
              "Promo2                       0.000000\n",
              "Promo2SinceWeek              0.499436\n",
              "Promo2SinceYear              0.499436\n",
              "PromoInterval                0.499436\n",
              "year                         0.000000\n",
              "month                        0.000000\n",
              "day                          0.000000\n",
              "dtype: float64"
            ]
          },
          "metadata": {},
          "execution_count": 20
        }
      ],
      "source": [
        "#percentage of null values\n",
        "all_store.isnull().mean()"
      ]
    },
    {
      "cell_type": "code",
      "execution_count": 21,
      "metadata": {
        "id": "vMGMwtjMz5mP"
      },
      "outputs": [],
      "source": [
        "#considering there is not competation in the null areas, so adding 0 to the null values\n",
        "all_store['CompetitionDistance'] = all_store['CompetitionDistance'].fillna(0)\n"
      ]
    },
    {
      "cell_type": "code",
      "execution_count": 22,
      "metadata": {
        "colab": {
          "base_uri": "https://localhost:8080/"
        },
        "id": "7Cx1J3757g6F",
        "outputId": "c625ff86-c795-48fc-8742-1142323aa721"
      },
      "outputs": [
        {
          "output_type": "execute_result",
          "data": {
            "text/plain": [
              "0"
            ]
          },
          "metadata": {},
          "execution_count": 22
        }
      ],
      "source": [
        "pd.isnull(all_store[\"CompetitionDistance\"]).sum()"
      ]
    },
    {
      "cell_type": "code",
      "execution_count": 23,
      "metadata": {
        "id": "BZT8PLHH1bHv"
      },
      "outputs": [],
      "source": [
        "all_store['CompetitionOpenSinceMonth'] = all_store['CompetitionOpenSinceMonth'].fillna(all_store['CompetitionOpenSinceMonth'].mean())"
      ]
    },
    {
      "cell_type": "code",
      "execution_count": 24,
      "metadata": {
        "id": "klZ08bQT_6rx"
      },
      "outputs": [],
      "source": [
        "all_store['CompetitionOpenSinceYear'] = all_store['CompetitionOpenSinceYear'].fillna(all_store['CompetitionOpenSinceYear'].mean())"
      ]
    },
    {
      "cell_type": "code",
      "execution_count": 25,
      "metadata": {
        "id": "-bLj6ZdcARp5"
      },
      "outputs": [],
      "source": [
        "#the cloumns in which promo2 was not done so their date and year is not available so filling the null values with 0\n",
        "all_store['Promo2SinceWeek'] = all_store['Promo2SinceWeek'].fillna(0)\n",
        "all_store['Promo2SinceYear'] = all_store['Promo2SinceYear'].fillna(0)\n",
        "all_store['PromoInterval'] = all_store['PromoInterval'].fillna(0)\n"
      ]
    },
    {
      "cell_type": "code",
      "execution_count": 26,
      "metadata": {
        "colab": {
          "base_uri": "https://localhost:8080/"
        },
        "id": "bpxBpHMQAFdM",
        "outputId": "b2fe0dcb-9656-4c15-9caf-ab83361bc306"
      },
      "outputs": [
        {
          "output_type": "execute_result",
          "data": {
            "text/plain": [
              "Store                        0.0\n",
              "DayOfWeek                    0.0\n",
              "Sales                        0.0\n",
              "Customers                    0.0\n",
              "Open                         0.0\n",
              "Promo                        0.0\n",
              "StateHoliday                 0.0\n",
              "SchoolHoliday                0.0\n",
              "StoreType                    0.0\n",
              "Assortment                   0.0\n",
              "CompetitionDistance          0.0\n",
              "CompetitionOpenSinceMonth    0.0\n",
              "CompetitionOpenSinceYear     0.0\n",
              "Promo2                       0.0\n",
              "Promo2SinceWeek              0.0\n",
              "Promo2SinceYear              0.0\n",
              "PromoInterval                0.0\n",
              "year                         0.0\n",
              "month                        0.0\n",
              "day                          0.0\n",
              "dtype: float64"
            ]
          },
          "metadata": {},
          "execution_count": 26
        }
      ],
      "source": [
        "#checking if all the null values are filled\n",
        "all_store.isnull().mean()"
      ]
    },
    {
      "cell_type": "code",
      "execution_count": 27,
      "metadata": {
        "colab": {
          "base_uri": "https://localhost:8080/",
          "height": 364
        },
        "id": "lCGbTPOaCZuj",
        "outputId": "f924a0be-47d0-449d-ef81-213d873138f2"
      },
      "outputs": [
        {
          "output_type": "execute_result",
          "data": {
            "text/plain": [
              "            Store  DayOfWeek       Sales   Customers        Open       Promo  \\\n",
              "count  1017209.00  1017209.0  1017209.00  1017209.00  1017209.00  1017209.00   \n",
              "mean       558.43        4.0     5773.82      633.15        0.83        0.38   \n",
              "std        321.91        2.0     3849.93      464.41        0.38        0.49   \n",
              "min          1.00        1.0        0.00        0.00        0.00        0.00   \n",
              "25%        280.00        2.0     3727.00      405.00        1.00        0.00   \n",
              "50%        558.00        4.0     5744.00      609.00        1.00        0.00   \n",
              "75%        838.00        6.0     7856.00      837.00        1.00        1.00   \n",
              "max       1115.00        7.0    41551.00     7388.00        1.00        1.00   \n",
              "\n",
              "       StateHoliday  SchoolHoliday   StoreType  Assortment  \\\n",
              "count    1017209.00     1017209.00  1017209.00  1017209.00   \n",
              "mean           0.05           0.18        1.21        0.94   \n",
              "std            0.28           0.38        1.37        0.99   \n",
              "min            0.00           0.00        0.00        0.00   \n",
              "25%            0.00           0.00        0.00        0.00   \n",
              "50%            0.00           0.00        0.00        0.00   \n",
              "75%            0.00           0.00        3.00        2.00   \n",
              "max            3.00           1.00        3.00        2.00   \n",
              "\n",
              "       CompetitionDistance  CompetitionOpenSinceMonth  \\\n",
              "count           1017209.00                 1017209.00   \n",
              "mean               5415.98                       7.22   \n",
              "std                7710.25                       2.65   \n",
              "min                   0.00                       1.00   \n",
              "25%                 700.00                       6.00   \n",
              "50%                2320.00                       7.22   \n",
              "75%                6880.00                       9.00   \n",
              "max               75860.00                      12.00   \n",
              "\n",
              "       CompetitionOpenSinceYear     Promo2  Promo2SinceWeek  Promo2SinceYear  \\\n",
              "count                1017209.00  1017209.0       1017209.00       1017209.00   \n",
              "mean                    2008.69        0.5            11.65          1007.01   \n",
              "std                        4.95        0.5            15.32          1005.88   \n",
              "min                     1900.00        0.0             0.00             0.00   \n",
              "25%                     2008.00        0.0             0.00             0.00   \n",
              "50%                     2008.69        1.0             1.00          2009.00   \n",
              "75%                     2011.00        1.0            22.00          2012.00   \n",
              "max                     2015.00        1.0            50.00          2015.00   \n",
              "\n",
              "       PromoInterval        year       month         day  \n",
              "count     1017209.00  1017209.00  1017209.00  1017209.00  \n",
              "mean            0.81     2013.83        5.85       15.70  \n",
              "std             0.98        0.78        3.33        8.79  \n",
              "min             0.00     2013.00        1.00        1.00  \n",
              "25%             0.00     2013.00        3.00        8.00  \n",
              "50%             1.00     2014.00        6.00       16.00  \n",
              "75%             1.00     2014.00        8.00       23.00  \n",
              "max             3.00     2015.00       12.00       31.00  "
            ],
            "text/html": [
              "\n",
              "  <div id=\"df-62c58ef8-ced3-4223-bccc-2360e706f422\">\n",
              "    <div class=\"colab-df-container\">\n",
              "      <div>\n",
              "<style scoped>\n",
              "    .dataframe tbody tr th:only-of-type {\n",
              "        vertical-align: middle;\n",
              "    }\n",
              "\n",
              "    .dataframe tbody tr th {\n",
              "        vertical-align: top;\n",
              "    }\n",
              "\n",
              "    .dataframe thead th {\n",
              "        text-align: right;\n",
              "    }\n",
              "</style>\n",
              "<table border=\"1\" class=\"dataframe\">\n",
              "  <thead>\n",
              "    <tr style=\"text-align: right;\">\n",
              "      <th></th>\n",
              "      <th>Store</th>\n",
              "      <th>DayOfWeek</th>\n",
              "      <th>Sales</th>\n",
              "      <th>Customers</th>\n",
              "      <th>Open</th>\n",
              "      <th>Promo</th>\n",
              "      <th>StateHoliday</th>\n",
              "      <th>SchoolHoliday</th>\n",
              "      <th>StoreType</th>\n",
              "      <th>Assortment</th>\n",
              "      <th>CompetitionDistance</th>\n",
              "      <th>CompetitionOpenSinceMonth</th>\n",
              "      <th>CompetitionOpenSinceYear</th>\n",
              "      <th>Promo2</th>\n",
              "      <th>Promo2SinceWeek</th>\n",
              "      <th>Promo2SinceYear</th>\n",
              "      <th>PromoInterval</th>\n",
              "      <th>year</th>\n",
              "      <th>month</th>\n",
              "      <th>day</th>\n",
              "    </tr>\n",
              "  </thead>\n",
              "  <tbody>\n",
              "    <tr>\n",
              "      <th>count</th>\n",
              "      <td>1017209.00</td>\n",
              "      <td>1017209.0</td>\n",
              "      <td>1017209.00</td>\n",
              "      <td>1017209.00</td>\n",
              "      <td>1017209.00</td>\n",
              "      <td>1017209.00</td>\n",
              "      <td>1017209.00</td>\n",
              "      <td>1017209.00</td>\n",
              "      <td>1017209.00</td>\n",
              "      <td>1017209.00</td>\n",
              "      <td>1017209.00</td>\n",
              "      <td>1017209.00</td>\n",
              "      <td>1017209.00</td>\n",
              "      <td>1017209.0</td>\n",
              "      <td>1017209.00</td>\n",
              "      <td>1017209.00</td>\n",
              "      <td>1017209.00</td>\n",
              "      <td>1017209.00</td>\n",
              "      <td>1017209.00</td>\n",
              "      <td>1017209.00</td>\n",
              "    </tr>\n",
              "    <tr>\n",
              "      <th>mean</th>\n",
              "      <td>558.43</td>\n",
              "      <td>4.0</td>\n",
              "      <td>5773.82</td>\n",
              "      <td>633.15</td>\n",
              "      <td>0.83</td>\n",
              "      <td>0.38</td>\n",
              "      <td>0.05</td>\n",
              "      <td>0.18</td>\n",
              "      <td>1.21</td>\n",
              "      <td>0.94</td>\n",
              "      <td>5415.98</td>\n",
              "      <td>7.22</td>\n",
              "      <td>2008.69</td>\n",
              "      <td>0.5</td>\n",
              "      <td>11.65</td>\n",
              "      <td>1007.01</td>\n",
              "      <td>0.81</td>\n",
              "      <td>2013.83</td>\n",
              "      <td>5.85</td>\n",
              "      <td>15.70</td>\n",
              "    </tr>\n",
              "    <tr>\n",
              "      <th>std</th>\n",
              "      <td>321.91</td>\n",
              "      <td>2.0</td>\n",
              "      <td>3849.93</td>\n",
              "      <td>464.41</td>\n",
              "      <td>0.38</td>\n",
              "      <td>0.49</td>\n",
              "      <td>0.28</td>\n",
              "      <td>0.38</td>\n",
              "      <td>1.37</td>\n",
              "      <td>0.99</td>\n",
              "      <td>7710.25</td>\n",
              "      <td>2.65</td>\n",
              "      <td>4.95</td>\n",
              "      <td>0.5</td>\n",
              "      <td>15.32</td>\n",
              "      <td>1005.88</td>\n",
              "      <td>0.98</td>\n",
              "      <td>0.78</td>\n",
              "      <td>3.33</td>\n",
              "      <td>8.79</td>\n",
              "    </tr>\n",
              "    <tr>\n",
              "      <th>min</th>\n",
              "      <td>1.00</td>\n",
              "      <td>1.0</td>\n",
              "      <td>0.00</td>\n",
              "      <td>0.00</td>\n",
              "      <td>0.00</td>\n",
              "      <td>0.00</td>\n",
              "      <td>0.00</td>\n",
              "      <td>0.00</td>\n",
              "      <td>0.00</td>\n",
              "      <td>0.00</td>\n",
              "      <td>0.00</td>\n",
              "      <td>1.00</td>\n",
              "      <td>1900.00</td>\n",
              "      <td>0.0</td>\n",
              "      <td>0.00</td>\n",
              "      <td>0.00</td>\n",
              "      <td>0.00</td>\n",
              "      <td>2013.00</td>\n",
              "      <td>1.00</td>\n",
              "      <td>1.00</td>\n",
              "    </tr>\n",
              "    <tr>\n",
              "      <th>25%</th>\n",
              "      <td>280.00</td>\n",
              "      <td>2.0</td>\n",
              "      <td>3727.00</td>\n",
              "      <td>405.00</td>\n",
              "      <td>1.00</td>\n",
              "      <td>0.00</td>\n",
              "      <td>0.00</td>\n",
              "      <td>0.00</td>\n",
              "      <td>0.00</td>\n",
              "      <td>0.00</td>\n",
              "      <td>700.00</td>\n",
              "      <td>6.00</td>\n",
              "      <td>2008.00</td>\n",
              "      <td>0.0</td>\n",
              "      <td>0.00</td>\n",
              "      <td>0.00</td>\n",
              "      <td>0.00</td>\n",
              "      <td>2013.00</td>\n",
              "      <td>3.00</td>\n",
              "      <td>8.00</td>\n",
              "    </tr>\n",
              "    <tr>\n",
              "      <th>50%</th>\n",
              "      <td>558.00</td>\n",
              "      <td>4.0</td>\n",
              "      <td>5744.00</td>\n",
              "      <td>609.00</td>\n",
              "      <td>1.00</td>\n",
              "      <td>0.00</td>\n",
              "      <td>0.00</td>\n",
              "      <td>0.00</td>\n",
              "      <td>0.00</td>\n",
              "      <td>0.00</td>\n",
              "      <td>2320.00</td>\n",
              "      <td>7.22</td>\n",
              "      <td>2008.69</td>\n",
              "      <td>1.0</td>\n",
              "      <td>1.00</td>\n",
              "      <td>2009.00</td>\n",
              "      <td>1.00</td>\n",
              "      <td>2014.00</td>\n",
              "      <td>6.00</td>\n",
              "      <td>16.00</td>\n",
              "    </tr>\n",
              "    <tr>\n",
              "      <th>75%</th>\n",
              "      <td>838.00</td>\n",
              "      <td>6.0</td>\n",
              "      <td>7856.00</td>\n",
              "      <td>837.00</td>\n",
              "      <td>1.00</td>\n",
              "      <td>1.00</td>\n",
              "      <td>0.00</td>\n",
              "      <td>0.00</td>\n",
              "      <td>3.00</td>\n",
              "      <td>2.00</td>\n",
              "      <td>6880.00</td>\n",
              "      <td>9.00</td>\n",
              "      <td>2011.00</td>\n",
              "      <td>1.0</td>\n",
              "      <td>22.00</td>\n",
              "      <td>2012.00</td>\n",
              "      <td>1.00</td>\n",
              "      <td>2014.00</td>\n",
              "      <td>8.00</td>\n",
              "      <td>23.00</td>\n",
              "    </tr>\n",
              "    <tr>\n",
              "      <th>max</th>\n",
              "      <td>1115.00</td>\n",
              "      <td>7.0</td>\n",
              "      <td>41551.00</td>\n",
              "      <td>7388.00</td>\n",
              "      <td>1.00</td>\n",
              "      <td>1.00</td>\n",
              "      <td>3.00</td>\n",
              "      <td>1.00</td>\n",
              "      <td>3.00</td>\n",
              "      <td>2.00</td>\n",
              "      <td>75860.00</td>\n",
              "      <td>12.00</td>\n",
              "      <td>2015.00</td>\n",
              "      <td>1.0</td>\n",
              "      <td>50.00</td>\n",
              "      <td>2015.00</td>\n",
              "      <td>3.00</td>\n",
              "      <td>2015.00</td>\n",
              "      <td>12.00</td>\n",
              "      <td>31.00</td>\n",
              "    </tr>\n",
              "  </tbody>\n",
              "</table>\n",
              "</div>\n",
              "      <button class=\"colab-df-convert\" onclick=\"convertToInteractive('df-62c58ef8-ced3-4223-bccc-2360e706f422')\"\n",
              "              title=\"Convert this dataframe to an interactive table.\"\n",
              "              style=\"display:none;\">\n",
              "        \n",
              "  <svg xmlns=\"http://www.w3.org/2000/svg\" height=\"24px\"viewBox=\"0 0 24 24\"\n",
              "       width=\"24px\">\n",
              "    <path d=\"M0 0h24v24H0V0z\" fill=\"none\"/>\n",
              "    <path d=\"M18.56 5.44l.94 2.06.94-2.06 2.06-.94-2.06-.94-.94-2.06-.94 2.06-2.06.94zm-11 1L8.5 8.5l.94-2.06 2.06-.94-2.06-.94L8.5 2.5l-.94 2.06-2.06.94zm10 10l.94 2.06.94-2.06 2.06-.94-2.06-.94-.94-2.06-.94 2.06-2.06.94z\"/><path d=\"M17.41 7.96l-1.37-1.37c-.4-.4-.92-.59-1.43-.59-.52 0-1.04.2-1.43.59L10.3 9.45l-7.72 7.72c-.78.78-.78 2.05 0 2.83L4 21.41c.39.39.9.59 1.41.59.51 0 1.02-.2 1.41-.59l7.78-7.78 2.81-2.81c.8-.78.8-2.07 0-2.86zM5.41 20L4 18.59l7.72-7.72 1.47 1.35L5.41 20z\"/>\n",
              "  </svg>\n",
              "      </button>\n",
              "      \n",
              "  <style>\n",
              "    .colab-df-container {\n",
              "      display:flex;\n",
              "      flex-wrap:wrap;\n",
              "      gap: 12px;\n",
              "    }\n",
              "\n",
              "    .colab-df-convert {\n",
              "      background-color: #E8F0FE;\n",
              "      border: none;\n",
              "      border-radius: 50%;\n",
              "      cursor: pointer;\n",
              "      display: none;\n",
              "      fill: #1967D2;\n",
              "      height: 32px;\n",
              "      padding: 0 0 0 0;\n",
              "      width: 32px;\n",
              "    }\n",
              "\n",
              "    .colab-df-convert:hover {\n",
              "      background-color: #E2EBFA;\n",
              "      box-shadow: 0px 1px 2px rgba(60, 64, 67, 0.3), 0px 1px 3px 1px rgba(60, 64, 67, 0.15);\n",
              "      fill: #174EA6;\n",
              "    }\n",
              "\n",
              "    [theme=dark] .colab-df-convert {\n",
              "      background-color: #3B4455;\n",
              "      fill: #D2E3FC;\n",
              "    }\n",
              "\n",
              "    [theme=dark] .colab-df-convert:hover {\n",
              "      background-color: #434B5C;\n",
              "      box-shadow: 0px 1px 3px 1px rgba(0, 0, 0, 0.15);\n",
              "      filter: drop-shadow(0px 1px 2px rgba(0, 0, 0, 0.3));\n",
              "      fill: #FFFFFF;\n",
              "    }\n",
              "  </style>\n",
              "\n",
              "      <script>\n",
              "        const buttonEl =\n",
              "          document.querySelector('#df-62c58ef8-ced3-4223-bccc-2360e706f422 button.colab-df-convert');\n",
              "        buttonEl.style.display =\n",
              "          google.colab.kernel.accessAllowed ? 'block' : 'none';\n",
              "\n",
              "        async function convertToInteractive(key) {\n",
              "          const element = document.querySelector('#df-62c58ef8-ced3-4223-bccc-2360e706f422');\n",
              "          const dataTable =\n",
              "            await google.colab.kernel.invokeFunction('convertToInteractive',\n",
              "                                                     [key], {});\n",
              "          if (!dataTable) return;\n",
              "\n",
              "          const docLinkHtml = 'Like what you see? Visit the ' +\n",
              "            '<a target=\"_blank\" href=https://colab.research.google.com/notebooks/data_table.ipynb>data table notebook</a>'\n",
              "            + ' to learn more about interactive tables.';\n",
              "          element.innerHTML = '';\n",
              "          dataTable['output_type'] = 'display_data';\n",
              "          await google.colab.output.renderOutput(dataTable, element);\n",
              "          const docLink = document.createElement('div');\n",
              "          docLink.innerHTML = docLinkHtml;\n",
              "          element.appendChild(docLink);\n",
              "        }\n",
              "      </script>\n",
              "    </div>\n",
              "  </div>\n",
              "  "
            ]
          },
          "metadata": {},
          "execution_count": 27
        }
      ],
      "source": [
        "round(all_store.describe(),2)"
      ]
    },
    {
      "cell_type": "code",
      "execution_count": 28,
      "metadata": {
        "colab": {
          "base_uri": "https://localhost:8080/",
          "height": 740
        },
        "id": "MDRwowJwy7mF",
        "outputId": "90e47dd1-7d57-4cf9-ecaa-a5b480690387"
      },
      "outputs": [
        {
          "output_type": "execute_result",
          "data": {
            "text/plain": [
              "                              Store  DayOfWeek     Sales  Customers      Open  \\\n",
              "Store                      1.000000  -0.000008  0.005126   0.024325 -0.000047   \n",
              "DayOfWeek                 -0.000008   1.000000 -0.462125  -0.386445 -0.528963   \n",
              "Sales                      0.005126  -0.462125  1.000000   0.894711  0.678472   \n",
              "Customers                  0.024325  -0.386445  0.894711   1.000000  0.616768   \n",
              "Open                      -0.000047  -0.528963  0.678472   0.616768  1.000000   \n",
              "Promo                      0.000058  -0.392925  0.452345   0.316169  0.295042   \n",
              "StateHoliday               0.000362  -0.044265 -0.229029  -0.204295 -0.340893   \n",
              "SchoolHoliday              0.000641  -0.205388  0.085124   0.071568  0.086171   \n",
              "StoreType                 -0.021604   0.000051 -0.013057  -0.141423 -0.003325   \n",
              "Assortment                 0.004419  -0.000052  0.074941   0.007044  0.002972   \n",
              "CompetitionDistance       -0.026486  -0.000025 -0.018609  -0.102022  0.007989   \n",
              "CompetitionOpenSinceMonth -0.041990   0.000005 -0.023489  -0.025098  0.001144   \n",
              "CompetitionOpenSinceYear  -0.003800  -0.000021  0.010523   0.007241  0.002290   \n",
              "Promo2                     0.008488   0.000168 -0.091040  -0.150159 -0.008309   \n",
              "Promo2SinceWeek            0.011053   0.000208 -0.044143  -0.098323 -0.007436   \n",
              "Promo2SinceYear            0.008520   0.000168 -0.091056  -0.150138 -0.008308   \n",
              "PromoInterval             -0.000898   0.000074 -0.092635  -0.135765 -0.006659   \n",
              "year                       0.000290   0.001937  0.023519  -0.001212 -0.001009   \n",
              "month                      0.001467  -0.005362  0.048768   0.038179 -0.000681   \n",
              "day                        0.000023   0.005136 -0.011612  -0.004473  0.033428   \n",
              "\n",
              "                              Promo  StateHoliday  SchoolHoliday  StoreType  \\\n",
              "Store                      0.000058      0.000362       0.000641  -0.021604   \n",
              "DayOfWeek                 -0.392925     -0.044265      -0.205388   0.000051   \n",
              "Sales                      0.452345     -0.229029       0.085124  -0.013057   \n",
              "Customers                  0.316169     -0.204295       0.071568  -0.141423   \n",
              "Open                       0.295042     -0.340893       0.086171  -0.003325   \n",
              "Promo                      1.000000     -0.024157       0.067483  -0.000299   \n",
              "StateHoliday              -0.024157      1.000000       0.196424   0.001360   \n",
              "SchoolHoliday              0.067483      0.196424       1.000000   0.000032   \n",
              "StoreType                 -0.000299      0.001360       0.000032   1.000000   \n",
              "Assortment                 0.000294     -0.001497      -0.002530   0.232862   \n",
              "CompetitionDistance        0.000141     -0.000400      -0.003651   0.077056   \n",
              "CompetitionOpenSinceMonth -0.000019      0.000428      -0.000434   0.021974   \n",
              "CompetitionOpenSinceYear   0.000126     -0.002025       0.001254   0.020492   \n",
              "Promo2                    -0.000983      0.004839      -0.006909   0.088922   \n",
              "Promo2SinceWeek           -0.001210      0.004622      -0.006679   0.059704   \n",
              "Promo2SinceYear           -0.000983      0.004839      -0.006912   0.088865   \n",
              "PromoInterval             -0.000437      0.002981      -0.005785   0.092566   \n",
              "year                       0.024300     -0.005067      -0.036535  -0.001514   \n",
              "month                     -0.011747      0.038058       0.103282  -0.007692   \n",
              "day                       -0.108325     -0.015652       0.030538  -0.000109   \n",
              "\n",
              "                           Assortment  CompetitionDistance  \\\n",
              "Store                        0.004419            -0.026486   \n",
              "DayOfWeek                   -0.000052            -0.000025   \n",
              "Sales                        0.074941            -0.018609   \n",
              "Customers                    0.007044            -0.102022   \n",
              "Open                         0.002972             0.007989   \n",
              "Promo                        0.000294             0.000141   \n",
              "StateHoliday                -0.001497            -0.000400   \n",
              "SchoolHoliday               -0.002530            -0.003651   \n",
              "StoreType                    0.232862             0.077056   \n",
              "Assortment                   1.000000             0.146695   \n",
              "CompetitionDistance          0.146695             1.000000   \n",
              "CompetitionOpenSinceMonth   -0.000528            -0.051704   \n",
              "CompetitionOpenSinceYear     0.050380             0.021309   \n",
              "Promo2                       0.008220            -0.138832   \n",
              "Promo2SinceWeek             -0.030182            -0.122348   \n",
              "Promo2SinceYear              0.008267            -0.138896   \n",
              "PromoInterval                0.043246            -0.120211   \n",
              "year                         0.001494             0.000716   \n",
              "month                        0.007601             0.003643   \n",
              "day                          0.000104             0.000050   \n",
              "\n",
              "                           CompetitionOpenSinceMonth  \\\n",
              "Store                                      -0.041990   \n",
              "DayOfWeek                                   0.000005   \n",
              "Sales                                      -0.023489   \n",
              "Customers                                  -0.025098   \n",
              "Open                                        0.001144   \n",
              "Promo                                      -0.000019   \n",
              "StateHoliday                                0.000428   \n",
              "SchoolHoliday                              -0.000434   \n",
              "StoreType                                   0.021974   \n",
              "Assortment                                 -0.000528   \n",
              "CompetitionDistance                        -0.051704   \n",
              "CompetitionOpenSinceMonth                   1.000000   \n",
              "CompetitionOpenSinceYear                   -0.060594   \n",
              "Promo2                                     -0.007733   \n",
              "Promo2SinceWeek                            -0.018114   \n",
              "Promo2SinceYear                            -0.007701   \n",
              "PromoInterval                               0.040857   \n",
              "year                                       -0.000100   \n",
              "month                                      -0.000515   \n",
              "day                                        -0.000005   \n",
              "\n",
              "                           CompetitionOpenSinceYear    Promo2  \\\n",
              "Store                                     -0.003800  0.008488   \n",
              "DayOfWeek                                 -0.000021  0.000168   \n",
              "Sales                                      0.010523 -0.091040   \n",
              "Customers                                  0.007241 -0.150159   \n",
              "Open                                       0.002290 -0.008309   \n",
              "Promo                                      0.000126 -0.000983   \n",
              "StateHoliday                              -0.002025  0.004839   \n",
              "SchoolHoliday                              0.001254 -0.006909   \n",
              "StoreType                                  0.020492  0.088922   \n",
              "Assortment                                 0.050380  0.008220   \n",
              "CompetitionDistance                        0.021309 -0.138832   \n",
              "CompetitionOpenSinceMonth                 -0.060594 -0.007733   \n",
              "CompetitionOpenSinceYear                   1.000000 -0.063737   \n",
              "Promo2                                    -0.063737  1.000000   \n",
              "Promo2SinceWeek                           -0.079797  0.759240   \n",
              "Promo2SinceYear                           -0.063730  0.999999   \n",
              "PromoInterval                             -0.036252  0.823364   \n",
              "year                                       0.000637 -0.004982   \n",
              "month                                      0.003234 -0.025323   \n",
              "day                                        0.000046 -0.000354   \n",
              "\n",
              "                           Promo2SinceWeek  Promo2SinceYear  PromoInterval  \\\n",
              "Store                             0.011053         0.008520      -0.000898   \n",
              "DayOfWeek                         0.000208         0.000168       0.000074   \n",
              "Sales                            -0.044143        -0.091056      -0.092635   \n",
              "Customers                        -0.098323        -0.150138      -0.135765   \n",
              "Open                             -0.007436        -0.008308      -0.006659   \n",
              "Promo                            -0.001210        -0.000983      -0.000437   \n",
              "StateHoliday                      0.004622         0.004839       0.002981   \n",
              "SchoolHoliday                    -0.006679        -0.006912      -0.005785   \n",
              "StoreType                         0.059704         0.088865       0.092566   \n",
              "Assortment                       -0.030182         0.008267       0.043246   \n",
              "CompetitionDistance              -0.122348        -0.138896      -0.120211   \n",
              "CompetitionOpenSinceMonth        -0.018114        -0.007701       0.040857   \n",
              "CompetitionOpenSinceYear         -0.079797        -0.063730      -0.036252   \n",
              "Promo2                            0.759240         0.999999       0.823364   \n",
              "Promo2SinceWeek                   1.000000         0.759054       0.625796   \n",
              "Promo2SinceYear                   0.759054         1.000000       0.823434   \n",
              "PromoInterval                     0.625796         0.823434       1.000000   \n",
              "year                             -0.006135        -0.004983      -0.002213   \n",
              "month                            -0.031188        -0.025329      -0.011245   \n",
              "day                              -0.000435        -0.000354      -0.000158   \n",
              "\n",
              "                               year     month       day  \n",
              "Store                      0.000290  0.001467  0.000023  \n",
              "DayOfWeek                  0.001937 -0.005362  0.005136  \n",
              "Sales                      0.023519  0.048768 -0.011612  \n",
              "Customers                 -0.001212  0.038179 -0.004473  \n",
              "Open                      -0.001009 -0.000681  0.033428  \n",
              "Promo                      0.024300 -0.011747 -0.108325  \n",
              "StateHoliday              -0.005067  0.038058 -0.015652  \n",
              "SchoolHoliday             -0.036535  0.103282  0.030538  \n",
              "StoreType                 -0.001514 -0.007692 -0.000109  \n",
              "Assortment                 0.001494  0.007601  0.000104  \n",
              "CompetitionDistance        0.000716  0.003643  0.000050  \n",
              "CompetitionOpenSinceMonth -0.000100 -0.000515 -0.000005  \n",
              "CompetitionOpenSinceYear   0.000637  0.003234  0.000046  \n",
              "Promo2                    -0.004982 -0.025323 -0.000354  \n",
              "Promo2SinceWeek           -0.006135 -0.031188 -0.000435  \n",
              "Promo2SinceYear           -0.004983 -0.025329 -0.000354  \n",
              "PromoInterval             -0.002213 -0.011245 -0.000158  \n",
              "year                       1.000000 -0.269382 -0.002485  \n",
              "month                     -0.269382  1.000000  0.012442  \n",
              "day                       -0.002485  0.012442  1.000000  "
            ],
            "text/html": [
              "\n",
              "  <div id=\"df-f45cff03-bd5d-4282-a256-08fc302f4cf9\">\n",
              "    <div class=\"colab-df-container\">\n",
              "      <div>\n",
              "<style scoped>\n",
              "    .dataframe tbody tr th:only-of-type {\n",
              "        vertical-align: middle;\n",
              "    }\n",
              "\n",
              "    .dataframe tbody tr th {\n",
              "        vertical-align: top;\n",
              "    }\n",
              "\n",
              "    .dataframe thead th {\n",
              "        text-align: right;\n",
              "    }\n",
              "</style>\n",
              "<table border=\"1\" class=\"dataframe\">\n",
              "  <thead>\n",
              "    <tr style=\"text-align: right;\">\n",
              "      <th></th>\n",
              "      <th>Store</th>\n",
              "      <th>DayOfWeek</th>\n",
              "      <th>Sales</th>\n",
              "      <th>Customers</th>\n",
              "      <th>Open</th>\n",
              "      <th>Promo</th>\n",
              "      <th>StateHoliday</th>\n",
              "      <th>SchoolHoliday</th>\n",
              "      <th>StoreType</th>\n",
              "      <th>Assortment</th>\n",
              "      <th>CompetitionDistance</th>\n",
              "      <th>CompetitionOpenSinceMonth</th>\n",
              "      <th>CompetitionOpenSinceYear</th>\n",
              "      <th>Promo2</th>\n",
              "      <th>Promo2SinceWeek</th>\n",
              "      <th>Promo2SinceYear</th>\n",
              "      <th>PromoInterval</th>\n",
              "      <th>year</th>\n",
              "      <th>month</th>\n",
              "      <th>day</th>\n",
              "    </tr>\n",
              "  </thead>\n",
              "  <tbody>\n",
              "    <tr>\n",
              "      <th>Store</th>\n",
              "      <td>1.000000</td>\n",
              "      <td>-0.000008</td>\n",
              "      <td>0.005126</td>\n",
              "      <td>0.024325</td>\n",
              "      <td>-0.000047</td>\n",
              "      <td>0.000058</td>\n",
              "      <td>0.000362</td>\n",
              "      <td>0.000641</td>\n",
              "      <td>-0.021604</td>\n",
              "      <td>0.004419</td>\n",
              "      <td>-0.026486</td>\n",
              "      <td>-0.041990</td>\n",
              "      <td>-0.003800</td>\n",
              "      <td>0.008488</td>\n",
              "      <td>0.011053</td>\n",
              "      <td>0.008520</td>\n",
              "      <td>-0.000898</td>\n",
              "      <td>0.000290</td>\n",
              "      <td>0.001467</td>\n",
              "      <td>0.000023</td>\n",
              "    </tr>\n",
              "    <tr>\n",
              "      <th>DayOfWeek</th>\n",
              "      <td>-0.000008</td>\n",
              "      <td>1.000000</td>\n",
              "      <td>-0.462125</td>\n",
              "      <td>-0.386445</td>\n",
              "      <td>-0.528963</td>\n",
              "      <td>-0.392925</td>\n",
              "      <td>-0.044265</td>\n",
              "      <td>-0.205388</td>\n",
              "      <td>0.000051</td>\n",
              "      <td>-0.000052</td>\n",
              "      <td>-0.000025</td>\n",
              "      <td>0.000005</td>\n",
              "      <td>-0.000021</td>\n",
              "      <td>0.000168</td>\n",
              "      <td>0.000208</td>\n",
              "      <td>0.000168</td>\n",
              "      <td>0.000074</td>\n",
              "      <td>0.001937</td>\n",
              "      <td>-0.005362</td>\n",
              "      <td>0.005136</td>\n",
              "    </tr>\n",
              "    <tr>\n",
              "      <th>Sales</th>\n",
              "      <td>0.005126</td>\n",
              "      <td>-0.462125</td>\n",
              "      <td>1.000000</td>\n",
              "      <td>0.894711</td>\n",
              "      <td>0.678472</td>\n",
              "      <td>0.452345</td>\n",
              "      <td>-0.229029</td>\n",
              "      <td>0.085124</td>\n",
              "      <td>-0.013057</td>\n",
              "      <td>0.074941</td>\n",
              "      <td>-0.018609</td>\n",
              "      <td>-0.023489</td>\n",
              "      <td>0.010523</td>\n",
              "      <td>-0.091040</td>\n",
              "      <td>-0.044143</td>\n",
              "      <td>-0.091056</td>\n",
              "      <td>-0.092635</td>\n",
              "      <td>0.023519</td>\n",
              "      <td>0.048768</td>\n",
              "      <td>-0.011612</td>\n",
              "    </tr>\n",
              "    <tr>\n",
              "      <th>Customers</th>\n",
              "      <td>0.024325</td>\n",
              "      <td>-0.386445</td>\n",
              "      <td>0.894711</td>\n",
              "      <td>1.000000</td>\n",
              "      <td>0.616768</td>\n",
              "      <td>0.316169</td>\n",
              "      <td>-0.204295</td>\n",
              "      <td>0.071568</td>\n",
              "      <td>-0.141423</td>\n",
              "      <td>0.007044</td>\n",
              "      <td>-0.102022</td>\n",
              "      <td>-0.025098</td>\n",
              "      <td>0.007241</td>\n",
              "      <td>-0.150159</td>\n",
              "      <td>-0.098323</td>\n",
              "      <td>-0.150138</td>\n",
              "      <td>-0.135765</td>\n",
              "      <td>-0.001212</td>\n",
              "      <td>0.038179</td>\n",
              "      <td>-0.004473</td>\n",
              "    </tr>\n",
              "    <tr>\n",
              "      <th>Open</th>\n",
              "      <td>-0.000047</td>\n",
              "      <td>-0.528963</td>\n",
              "      <td>0.678472</td>\n",
              "      <td>0.616768</td>\n",
              "      <td>1.000000</td>\n",
              "      <td>0.295042</td>\n",
              "      <td>-0.340893</td>\n",
              "      <td>0.086171</td>\n",
              "      <td>-0.003325</td>\n",
              "      <td>0.002972</td>\n",
              "      <td>0.007989</td>\n",
              "      <td>0.001144</td>\n",
              "      <td>0.002290</td>\n",
              "      <td>-0.008309</td>\n",
              "      <td>-0.007436</td>\n",
              "      <td>-0.008308</td>\n",
              "      <td>-0.006659</td>\n",
              "      <td>-0.001009</td>\n",
              "      <td>-0.000681</td>\n",
              "      <td>0.033428</td>\n",
              "    </tr>\n",
              "    <tr>\n",
              "      <th>Promo</th>\n",
              "      <td>0.000058</td>\n",
              "      <td>-0.392925</td>\n",
              "      <td>0.452345</td>\n",
              "      <td>0.316169</td>\n",
              "      <td>0.295042</td>\n",
              "      <td>1.000000</td>\n",
              "      <td>-0.024157</td>\n",
              "      <td>0.067483</td>\n",
              "      <td>-0.000299</td>\n",
              "      <td>0.000294</td>\n",
              "      <td>0.000141</td>\n",
              "      <td>-0.000019</td>\n",
              "      <td>0.000126</td>\n",
              "      <td>-0.000983</td>\n",
              "      <td>-0.001210</td>\n",
              "      <td>-0.000983</td>\n",
              "      <td>-0.000437</td>\n",
              "      <td>0.024300</td>\n",
              "      <td>-0.011747</td>\n",
              "      <td>-0.108325</td>\n",
              "    </tr>\n",
              "    <tr>\n",
              "      <th>StateHoliday</th>\n",
              "      <td>0.000362</td>\n",
              "      <td>-0.044265</td>\n",
              "      <td>-0.229029</td>\n",
              "      <td>-0.204295</td>\n",
              "      <td>-0.340893</td>\n",
              "      <td>-0.024157</td>\n",
              "      <td>1.000000</td>\n",
              "      <td>0.196424</td>\n",
              "      <td>0.001360</td>\n",
              "      <td>-0.001497</td>\n",
              "      <td>-0.000400</td>\n",
              "      <td>0.000428</td>\n",
              "      <td>-0.002025</td>\n",
              "      <td>0.004839</td>\n",
              "      <td>0.004622</td>\n",
              "      <td>0.004839</td>\n",
              "      <td>0.002981</td>\n",
              "      <td>-0.005067</td>\n",
              "      <td>0.038058</td>\n",
              "      <td>-0.015652</td>\n",
              "    </tr>\n",
              "    <tr>\n",
              "      <th>SchoolHoliday</th>\n",
              "      <td>0.000641</td>\n",
              "      <td>-0.205388</td>\n",
              "      <td>0.085124</td>\n",
              "      <td>0.071568</td>\n",
              "      <td>0.086171</td>\n",
              "      <td>0.067483</td>\n",
              "      <td>0.196424</td>\n",
              "      <td>1.000000</td>\n",
              "      <td>0.000032</td>\n",
              "      <td>-0.002530</td>\n",
              "      <td>-0.003651</td>\n",
              "      <td>-0.000434</td>\n",
              "      <td>0.001254</td>\n",
              "      <td>-0.006909</td>\n",
              "      <td>-0.006679</td>\n",
              "      <td>-0.006912</td>\n",
              "      <td>-0.005785</td>\n",
              "      <td>-0.036535</td>\n",
              "      <td>0.103282</td>\n",
              "      <td>0.030538</td>\n",
              "    </tr>\n",
              "    <tr>\n",
              "      <th>StoreType</th>\n",
              "      <td>-0.021604</td>\n",
              "      <td>0.000051</td>\n",
              "      <td>-0.013057</td>\n",
              "      <td>-0.141423</td>\n",
              "      <td>-0.003325</td>\n",
              "      <td>-0.000299</td>\n",
              "      <td>0.001360</td>\n",
              "      <td>0.000032</td>\n",
              "      <td>1.000000</td>\n",
              "      <td>0.232862</td>\n",
              "      <td>0.077056</td>\n",
              "      <td>0.021974</td>\n",
              "      <td>0.020492</td>\n",
              "      <td>0.088922</td>\n",
              "      <td>0.059704</td>\n",
              "      <td>0.088865</td>\n",
              "      <td>0.092566</td>\n",
              "      <td>-0.001514</td>\n",
              "      <td>-0.007692</td>\n",
              "      <td>-0.000109</td>\n",
              "    </tr>\n",
              "    <tr>\n",
              "      <th>Assortment</th>\n",
              "      <td>0.004419</td>\n",
              "      <td>-0.000052</td>\n",
              "      <td>0.074941</td>\n",
              "      <td>0.007044</td>\n",
              "      <td>0.002972</td>\n",
              "      <td>0.000294</td>\n",
              "      <td>-0.001497</td>\n",
              "      <td>-0.002530</td>\n",
              "      <td>0.232862</td>\n",
              "      <td>1.000000</td>\n",
              "      <td>0.146695</td>\n",
              "      <td>-0.000528</td>\n",
              "      <td>0.050380</td>\n",
              "      <td>0.008220</td>\n",
              "      <td>-0.030182</td>\n",
              "      <td>0.008267</td>\n",
              "      <td>0.043246</td>\n",
              "      <td>0.001494</td>\n",
              "      <td>0.007601</td>\n",
              "      <td>0.000104</td>\n",
              "    </tr>\n",
              "    <tr>\n",
              "      <th>CompetitionDistance</th>\n",
              "      <td>-0.026486</td>\n",
              "      <td>-0.000025</td>\n",
              "      <td>-0.018609</td>\n",
              "      <td>-0.102022</td>\n",
              "      <td>0.007989</td>\n",
              "      <td>0.000141</td>\n",
              "      <td>-0.000400</td>\n",
              "      <td>-0.003651</td>\n",
              "      <td>0.077056</td>\n",
              "      <td>0.146695</td>\n",
              "      <td>1.000000</td>\n",
              "      <td>-0.051704</td>\n",
              "      <td>0.021309</td>\n",
              "      <td>-0.138832</td>\n",
              "      <td>-0.122348</td>\n",
              "      <td>-0.138896</td>\n",
              "      <td>-0.120211</td>\n",
              "      <td>0.000716</td>\n",
              "      <td>0.003643</td>\n",
              "      <td>0.000050</td>\n",
              "    </tr>\n",
              "    <tr>\n",
              "      <th>CompetitionOpenSinceMonth</th>\n",
              "      <td>-0.041990</td>\n",
              "      <td>0.000005</td>\n",
              "      <td>-0.023489</td>\n",
              "      <td>-0.025098</td>\n",
              "      <td>0.001144</td>\n",
              "      <td>-0.000019</td>\n",
              "      <td>0.000428</td>\n",
              "      <td>-0.000434</td>\n",
              "      <td>0.021974</td>\n",
              "      <td>-0.000528</td>\n",
              "      <td>-0.051704</td>\n",
              "      <td>1.000000</td>\n",
              "      <td>-0.060594</td>\n",
              "      <td>-0.007733</td>\n",
              "      <td>-0.018114</td>\n",
              "      <td>-0.007701</td>\n",
              "      <td>0.040857</td>\n",
              "      <td>-0.000100</td>\n",
              "      <td>-0.000515</td>\n",
              "      <td>-0.000005</td>\n",
              "    </tr>\n",
              "    <tr>\n",
              "      <th>CompetitionOpenSinceYear</th>\n",
              "      <td>-0.003800</td>\n",
              "      <td>-0.000021</td>\n",
              "      <td>0.010523</td>\n",
              "      <td>0.007241</td>\n",
              "      <td>0.002290</td>\n",
              "      <td>0.000126</td>\n",
              "      <td>-0.002025</td>\n",
              "      <td>0.001254</td>\n",
              "      <td>0.020492</td>\n",
              "      <td>0.050380</td>\n",
              "      <td>0.021309</td>\n",
              "      <td>-0.060594</td>\n",
              "      <td>1.000000</td>\n",
              "      <td>-0.063737</td>\n",
              "      <td>-0.079797</td>\n",
              "      <td>-0.063730</td>\n",
              "      <td>-0.036252</td>\n",
              "      <td>0.000637</td>\n",
              "      <td>0.003234</td>\n",
              "      <td>0.000046</td>\n",
              "    </tr>\n",
              "    <tr>\n",
              "      <th>Promo2</th>\n",
              "      <td>0.008488</td>\n",
              "      <td>0.000168</td>\n",
              "      <td>-0.091040</td>\n",
              "      <td>-0.150159</td>\n",
              "      <td>-0.008309</td>\n",
              "      <td>-0.000983</td>\n",
              "      <td>0.004839</td>\n",
              "      <td>-0.006909</td>\n",
              "      <td>0.088922</td>\n",
              "      <td>0.008220</td>\n",
              "      <td>-0.138832</td>\n",
              "      <td>-0.007733</td>\n",
              "      <td>-0.063737</td>\n",
              "      <td>1.000000</td>\n",
              "      <td>0.759240</td>\n",
              "      <td>0.999999</td>\n",
              "      <td>0.823364</td>\n",
              "      <td>-0.004982</td>\n",
              "      <td>-0.025323</td>\n",
              "      <td>-0.000354</td>\n",
              "    </tr>\n",
              "    <tr>\n",
              "      <th>Promo2SinceWeek</th>\n",
              "      <td>0.011053</td>\n",
              "      <td>0.000208</td>\n",
              "      <td>-0.044143</td>\n",
              "      <td>-0.098323</td>\n",
              "      <td>-0.007436</td>\n",
              "      <td>-0.001210</td>\n",
              "      <td>0.004622</td>\n",
              "      <td>-0.006679</td>\n",
              "      <td>0.059704</td>\n",
              "      <td>-0.030182</td>\n",
              "      <td>-0.122348</td>\n",
              "      <td>-0.018114</td>\n",
              "      <td>-0.079797</td>\n",
              "      <td>0.759240</td>\n",
              "      <td>1.000000</td>\n",
              "      <td>0.759054</td>\n",
              "      <td>0.625796</td>\n",
              "      <td>-0.006135</td>\n",
              "      <td>-0.031188</td>\n",
              "      <td>-0.000435</td>\n",
              "    </tr>\n",
              "    <tr>\n",
              "      <th>Promo2SinceYear</th>\n",
              "      <td>0.008520</td>\n",
              "      <td>0.000168</td>\n",
              "      <td>-0.091056</td>\n",
              "      <td>-0.150138</td>\n",
              "      <td>-0.008308</td>\n",
              "      <td>-0.000983</td>\n",
              "      <td>0.004839</td>\n",
              "      <td>-0.006912</td>\n",
              "      <td>0.088865</td>\n",
              "      <td>0.008267</td>\n",
              "      <td>-0.138896</td>\n",
              "      <td>-0.007701</td>\n",
              "      <td>-0.063730</td>\n",
              "      <td>0.999999</td>\n",
              "      <td>0.759054</td>\n",
              "      <td>1.000000</td>\n",
              "      <td>0.823434</td>\n",
              "      <td>-0.004983</td>\n",
              "      <td>-0.025329</td>\n",
              "      <td>-0.000354</td>\n",
              "    </tr>\n",
              "    <tr>\n",
              "      <th>PromoInterval</th>\n",
              "      <td>-0.000898</td>\n",
              "      <td>0.000074</td>\n",
              "      <td>-0.092635</td>\n",
              "      <td>-0.135765</td>\n",
              "      <td>-0.006659</td>\n",
              "      <td>-0.000437</td>\n",
              "      <td>0.002981</td>\n",
              "      <td>-0.005785</td>\n",
              "      <td>0.092566</td>\n",
              "      <td>0.043246</td>\n",
              "      <td>-0.120211</td>\n",
              "      <td>0.040857</td>\n",
              "      <td>-0.036252</td>\n",
              "      <td>0.823364</td>\n",
              "      <td>0.625796</td>\n",
              "      <td>0.823434</td>\n",
              "      <td>1.000000</td>\n",
              "      <td>-0.002213</td>\n",
              "      <td>-0.011245</td>\n",
              "      <td>-0.000158</td>\n",
              "    </tr>\n",
              "    <tr>\n",
              "      <th>year</th>\n",
              "      <td>0.000290</td>\n",
              "      <td>0.001937</td>\n",
              "      <td>0.023519</td>\n",
              "      <td>-0.001212</td>\n",
              "      <td>-0.001009</td>\n",
              "      <td>0.024300</td>\n",
              "      <td>-0.005067</td>\n",
              "      <td>-0.036535</td>\n",
              "      <td>-0.001514</td>\n",
              "      <td>0.001494</td>\n",
              "      <td>0.000716</td>\n",
              "      <td>-0.000100</td>\n",
              "      <td>0.000637</td>\n",
              "      <td>-0.004982</td>\n",
              "      <td>-0.006135</td>\n",
              "      <td>-0.004983</td>\n",
              "      <td>-0.002213</td>\n",
              "      <td>1.000000</td>\n",
              "      <td>-0.269382</td>\n",
              "      <td>-0.002485</td>\n",
              "    </tr>\n",
              "    <tr>\n",
              "      <th>month</th>\n",
              "      <td>0.001467</td>\n",
              "      <td>-0.005362</td>\n",
              "      <td>0.048768</td>\n",
              "      <td>0.038179</td>\n",
              "      <td>-0.000681</td>\n",
              "      <td>-0.011747</td>\n",
              "      <td>0.038058</td>\n",
              "      <td>0.103282</td>\n",
              "      <td>-0.007692</td>\n",
              "      <td>0.007601</td>\n",
              "      <td>0.003643</td>\n",
              "      <td>-0.000515</td>\n",
              "      <td>0.003234</td>\n",
              "      <td>-0.025323</td>\n",
              "      <td>-0.031188</td>\n",
              "      <td>-0.025329</td>\n",
              "      <td>-0.011245</td>\n",
              "      <td>-0.269382</td>\n",
              "      <td>1.000000</td>\n",
              "      <td>0.012442</td>\n",
              "    </tr>\n",
              "    <tr>\n",
              "      <th>day</th>\n",
              "      <td>0.000023</td>\n",
              "      <td>0.005136</td>\n",
              "      <td>-0.011612</td>\n",
              "      <td>-0.004473</td>\n",
              "      <td>0.033428</td>\n",
              "      <td>-0.108325</td>\n",
              "      <td>-0.015652</td>\n",
              "      <td>0.030538</td>\n",
              "      <td>-0.000109</td>\n",
              "      <td>0.000104</td>\n",
              "      <td>0.000050</td>\n",
              "      <td>-0.000005</td>\n",
              "      <td>0.000046</td>\n",
              "      <td>-0.000354</td>\n",
              "      <td>-0.000435</td>\n",
              "      <td>-0.000354</td>\n",
              "      <td>-0.000158</td>\n",
              "      <td>-0.002485</td>\n",
              "      <td>0.012442</td>\n",
              "      <td>1.000000</td>\n",
              "    </tr>\n",
              "  </tbody>\n",
              "</table>\n",
              "</div>\n",
              "      <button class=\"colab-df-convert\" onclick=\"convertToInteractive('df-f45cff03-bd5d-4282-a256-08fc302f4cf9')\"\n",
              "              title=\"Convert this dataframe to an interactive table.\"\n",
              "              style=\"display:none;\">\n",
              "        \n",
              "  <svg xmlns=\"http://www.w3.org/2000/svg\" height=\"24px\"viewBox=\"0 0 24 24\"\n",
              "       width=\"24px\">\n",
              "    <path d=\"M0 0h24v24H0V0z\" fill=\"none\"/>\n",
              "    <path d=\"M18.56 5.44l.94 2.06.94-2.06 2.06-.94-2.06-.94-.94-2.06-.94 2.06-2.06.94zm-11 1L8.5 8.5l.94-2.06 2.06-.94-2.06-.94L8.5 2.5l-.94 2.06-2.06.94zm10 10l.94 2.06.94-2.06 2.06-.94-2.06-.94-.94-2.06-.94 2.06-2.06.94z\"/><path d=\"M17.41 7.96l-1.37-1.37c-.4-.4-.92-.59-1.43-.59-.52 0-1.04.2-1.43.59L10.3 9.45l-7.72 7.72c-.78.78-.78 2.05 0 2.83L4 21.41c.39.39.9.59 1.41.59.51 0 1.02-.2 1.41-.59l7.78-7.78 2.81-2.81c.8-.78.8-2.07 0-2.86zM5.41 20L4 18.59l7.72-7.72 1.47 1.35L5.41 20z\"/>\n",
              "  </svg>\n",
              "      </button>\n",
              "      \n",
              "  <style>\n",
              "    .colab-df-container {\n",
              "      display:flex;\n",
              "      flex-wrap:wrap;\n",
              "      gap: 12px;\n",
              "    }\n",
              "\n",
              "    .colab-df-convert {\n",
              "      background-color: #E8F0FE;\n",
              "      border: none;\n",
              "      border-radius: 50%;\n",
              "      cursor: pointer;\n",
              "      display: none;\n",
              "      fill: #1967D2;\n",
              "      height: 32px;\n",
              "      padding: 0 0 0 0;\n",
              "      width: 32px;\n",
              "    }\n",
              "\n",
              "    .colab-df-convert:hover {\n",
              "      background-color: #E2EBFA;\n",
              "      box-shadow: 0px 1px 2px rgba(60, 64, 67, 0.3), 0px 1px 3px 1px rgba(60, 64, 67, 0.15);\n",
              "      fill: #174EA6;\n",
              "    }\n",
              "\n",
              "    [theme=dark] .colab-df-convert {\n",
              "      background-color: #3B4455;\n",
              "      fill: #D2E3FC;\n",
              "    }\n",
              "\n",
              "    [theme=dark] .colab-df-convert:hover {\n",
              "      background-color: #434B5C;\n",
              "      box-shadow: 0px 1px 3px 1px rgba(0, 0, 0, 0.15);\n",
              "      filter: drop-shadow(0px 1px 2px rgba(0, 0, 0, 0.3));\n",
              "      fill: #FFFFFF;\n",
              "    }\n",
              "  </style>\n",
              "\n",
              "      <script>\n",
              "        const buttonEl =\n",
              "          document.querySelector('#df-f45cff03-bd5d-4282-a256-08fc302f4cf9 button.colab-df-convert');\n",
              "        buttonEl.style.display =\n",
              "          google.colab.kernel.accessAllowed ? 'block' : 'none';\n",
              "\n",
              "        async function convertToInteractive(key) {\n",
              "          const element = document.querySelector('#df-f45cff03-bd5d-4282-a256-08fc302f4cf9');\n",
              "          const dataTable =\n",
              "            await google.colab.kernel.invokeFunction('convertToInteractive',\n",
              "                                                     [key], {});\n",
              "          if (!dataTable) return;\n",
              "\n",
              "          const docLinkHtml = 'Like what you see? Visit the ' +\n",
              "            '<a target=\"_blank\" href=https://colab.research.google.com/notebooks/data_table.ipynb>data table notebook</a>'\n",
              "            + ' to learn more about interactive tables.';\n",
              "          element.innerHTML = '';\n",
              "          dataTable['output_type'] = 'display_data';\n",
              "          await google.colab.output.renderOutput(dataTable, element);\n",
              "          const docLink = document.createElement('div');\n",
              "          docLink.innerHTML = docLinkHtml;\n",
              "          element.appendChild(docLink);\n",
              "        }\n",
              "      </script>\n",
              "    </div>\n",
              "  </div>\n",
              "  "
            ]
          },
          "metadata": {},
          "execution_count": 28
        }
      ],
      "source": [
        "all_store.corr()\n"
      ]
    },
    {
      "cell_type": "markdown",
      "source": [
        "# EDA"
      ],
      "metadata": {
        "id": "Uhr3Mo5zHUZP"
      }
    },
    {
      "cell_type": "code",
      "execution_count": 29,
      "metadata": {
        "colab": {
          "base_uri": "https://localhost:8080/",
          "height": 422
        },
        "id": "rmxkipdM-uTe",
        "outputId": "0a6c7a8e-8940-47db-e1cf-b277056a28f3"
      },
      "outputs": [
        {
          "output_type": "execute_result",
          "data": {
            "text/plain": [
              "<matplotlib.axes._subplots.AxesSubplot at 0x7efd673a66d0>"
            ]
          },
          "metadata": {},
          "execution_count": 29
        },
        {
          "output_type": "display_data",
          "data": {
            "text/plain": [
              "<Figure size 432x288 with 2 Axes>"
            ],
            "image/png": "[encoded data removed]"
          },
          "metadata": {
            "needs_background": "light"
          }
        }
      ],
      "source": [
        "sns.heatmap(all_store.corr())"
      ]
    },
    {
      "cell_type": "code",
      "source": [
        "plt.figure(figsize=(17,8))\n",
        "correlation=all_store.corr()\n",
        "sns.heatmap(abs(correlation), annot=True, cmap='coolwarm')"
      ],
      "metadata": {
        "colab": {
          "base_uri": "https://localhost:8080/",
          "height": 639
        },
        "id": "ZQZLIFF20O6d",
        "outputId": "5beff700-4327-4f9f-febd-ff281d26eda9"
      },
      "execution_count": 30,
      "outputs": [
        {
          "output_type": "execute_result",
          "data": {
            "text/plain": [
              "<matplotlib.axes._subplots.AxesSubplot at 0x7efd64a48ed0>"
            ]
          },
          "metadata": {},
          "execution_count": 30
        },
        {
          "output_type": "display_data",
          "data": {
            "text/plain": [
              "<Figure size 1224x576 with 2 Axes>"
            ],
            "image/png": "[encoded data removed]"
          },
          "metadata": {
            "needs_background": "light"
          }
        }
      ]
    },
    {
      "cell_type": "code",
      "execution_count": 31,
      "metadata": {
        "colab": {
          "base_uri": "https://localhost:8080/",
          "height": 279
        },
        "id": "uDVZKbhv4raU",
        "outputId": "113196d9-265b-4594-e98e-4d16463eb410"
      },
      "outputs": [
        {
          "output_type": "display_data",
          "data": {
            "text/plain": [
              "<Figure size 432x288 with 1 Axes>"
            ],
            "image/png": "[encoded data removed]"
          },
          "metadata": {
            "needs_background": "light"
          }
        }
      ],
      "source": [
        "ax = sns.countplot(x='Open', hue='DayOfWeek', data=all_store, palette='Set1')\n"
      ]
    },
    {
      "cell_type": "code",
      "execution_count": 32,
      "metadata": {
        "colab": {
          "base_uri": "https://localhost:8080/",
          "height": 376
        },
        "id": "YEdnwiY1Fimi",
        "outputId": "057666ba-69d4-4937-a96c-0ebf6ae77c11"
      },
      "outputs": [
        {
          "output_type": "execute_result",
          "data": {
            "text/plain": [
              "Text(0, 0.5, 'Sales')"
            ]
          },
          "metadata": {},
          "execution_count": 32
        },
        {
          "output_type": "display_data",
          "data": {
            "text/plain": [
              "<Figure size 720x360 with 1 Axes>"
            ],
            "image/png": "[encoded data removed]"
          },
          "metadata": {
            "needs_background": "light"
          }
        }
      ],
      "source": [
        "# Create the figure object \n",
        "ax = all_store.groupby(['StoreType'])['Sales'].mean().plot.bar(\n",
        "    figsize = (10,5),\n",
        "    fontsize = 14\n",
        ")\n",
        "\n",
        "# Set the title\n",
        "ax.set_title(\"Average sales for different store types\", fontsize = 20)\n",
        "\n",
        "# Set x and y-labels\n",
        "ax.set_xlabel(\"Store type\", fontsize = 15)\n",
        "ax.set_ylabel(\"Sales\", fontsize = 15)"
      ]
    },
    {
      "cell_type": "code",
      "execution_count": 33,
      "metadata": {
        "colab": {
          "base_uri": "https://localhost:8080/"
        },
        "id": "rvuAJ7shyPym",
        "outputId": "d7c7ec44-a3a6-4d30-d095-32ca12ca7141"
      },
      "outputs": [
        {
          "output_type": "execute_result",
          "data": {
            "text/plain": [
              "0    551627\n",
              "3    312912\n",
              "2    136840\n",
              "1     15830\n",
              "Name: StoreType, dtype: int64"
            ]
          },
          "metadata": {},
          "execution_count": 33
        }
      ],
      "source": [
        "all_store.StoreType.value_counts()"
      ]
    },
    {
      "cell_type": "code",
      "source": [
        "boxplot= all_store.boxplot(figsize=(45,20))"
      ],
      "metadata": {
        "colab": {
          "base_uri": "https://localhost:8080/",
          "height": 634
        },
        "id": "PMMUvRLIzyZS",
        "outputId": "8a8a6f11-87a8-46df-9364-3db3bd7558c5"
      },
      "execution_count": 34,
      "outputs": [
        {
          "output_type": "display_data",
          "data": {
            "text/plain": [
              "<Figure size 3240x1440 with 1 Axes>"
            ],
            "image/png": "[encoded data removed]"
          },
          "metadata": {
            "needs_background": "light"
          }
        }
      ]
    },
    {
      "cell_type": "code",
      "source": [
        "sns.distplot(all_store['Sales'])"
      ],
      "metadata": {
        "colab": {
          "base_uri": "https://localhost:8080/",
          "height": 296
        },
        "id": "J0PRjo-f9cRK",
        "outputId": "3b164843-7427-4793-8fbc-9e41ec88c325"
      },
      "execution_count": 35,
      "outputs": [
        {
          "output_type": "execute_result",
          "data": {
            "text/plain": [
              "<matplotlib.axes._subplots.AxesSubplot at 0x7efd59a35790>"
            ]
          },
          "metadata": {},
          "execution_count": 35
        },
        {
          "output_type": "display_data",
          "data": {
            "text/plain": [
              "<Figure size 432x288 with 1 Axes>"
            ],
            "image/png": "[encoded data removed]"
          },
          "metadata": {
            "needs_background": "light"
          }
        }
      ]
    },
    {
      "cell_type": "markdown",
      "source": [
        "# Regression"
      ],
      "metadata": {
        "id": "7URIPU5TJCr6"
      }
    },
    {
      "cell_type": "code",
      "source": [
        "#defining x and y axis\n",
        "x= all_store.drop(['Sales'],axis=1).values"
      ],
      "metadata": {
        "id": "tUlA14EQqwE4"
      },
      "execution_count": 36,
      "outputs": []
    },
    {
      "cell_type": "code",
      "source": [
        "y= all_store['Sales'].values"
      ],
      "metadata": {
        "id": "XENjqrfk_hrL"
      },
      "execution_count": 37,
      "outputs": []
    },
    {
      "cell_type": "code",
      "source": [
        "#splitting the data into train and test\n",
        "from sklearn.model_selection import train_test_split\n",
        "x_train, x_test, y_train, y_test = train_test_split(\n",
        "  x, y, test_size= 0.30, random_state=42)"
      ],
      "metadata": {
        "id": "R7snfnsGBcas"
      },
      "execution_count": 38,
      "outputs": []
    },
    {
      "cell_type": "markdown",
      "source": [
        "Liner regression"
      ],
      "metadata": {
        "id": "Umoal0h8NyM3"
      }
    },
    {
      "cell_type": "code",
      "source": [
        "reg = LinearRegression()\n",
        "reg.fit(x_train,y_train)"
      ],
      "metadata": {
        "colab": {
          "base_uri": "https://localhost:8080/"
        },
        "id": "Sju4JYw-V7dO",
        "outputId": "90872e7a-3b58-4be7-ce66-876b2b0991e0"
      },
      "execution_count": 39,
      "outputs": [
        {
          "output_type": "execute_result",
          "data": {
            "text/plain": [
              "LinearRegression()"
            ]
          },
          "metadata": {},
          "execution_count": 39
        }
      ]
    },
    {
      "cell_type": "code",
      "source": [
        "y_pred = reg.predict(x_test)"
      ],
      "metadata": {
        "id": "UfQfEaLzV-cj"
      },
      "execution_count": 40,
      "outputs": []
    },
    {
      "cell_type": "code",
      "source": [
        "from sklearn.metrics import r2_score"
      ],
      "metadata": {
        "id": "Ee0zSI-_WB33"
      },
      "execution_count": 41,
      "outputs": []
    },
    {
      "cell_type": "code",
      "source": [
        "r2_score(y_pred,y_test)"
      ],
      "metadata": {
        "colab": {
          "base_uri": "https://localhost:8080/"
        },
        "id": "TNYuIMYFWFfN",
        "outputId": "0f327f70-177e-457d-eb69-5416408ff9f8"
      },
      "execution_count": 42,
      "outputs": [
        {
          "output_type": "execute_result",
          "data": {
            "text/plain": [
              "0.8493885806989396"
            ]
          },
          "metadata": {},
          "execution_count": 42
        }
      ]
    },
    {
      "cell_type": "markdown",
      "source": [
        "Ridge and lasso regression"
      ],
      "metadata": {
        "id": "ml2QiBGnN3Jg"
      }
    },
    {
      "cell_type": "code",
      "source": [
        "from sklearn.linear_model import Ridge, Lasso"
      ],
      "metadata": {
        "id": "4EZmTqT0X76w"
      },
      "execution_count": 43,
      "outputs": []
    },
    {
      "cell_type": "code",
      "source": [
        "lass = Lasso(alpha = 0.1, max_iter = 2000)"
      ],
      "metadata": {
        "id": "1syUMIanVV1y"
      },
      "execution_count": 44,
      "outputs": []
    },
    {
      "cell_type": "code",
      "source": [
        "lass.fit(x_train,y_train)"
      ],
      "metadata": {
        "colab": {
          "base_uri": "https://localhost:8080/"
        },
        "id": "5XIGJSibXqEz",
        "outputId": "ba1305fe-1b01-457c-dbce-49b3ef4663ac"
      },
      "execution_count": 45,
      "outputs": [
        {
          "output_type": "execute_result",
          "data": {
            "text/plain": [
              "Lasso(alpha=0.1, max_iter=2000)"
            ]
          },
          "metadata": {},
          "execution_count": 45
        }
      ]
    },
    {
      "cell_type": "code",
      "source": [
        "prediction_lasso = lass.predict(x_test)"
      ],
      "metadata": {
        "id": "ExuGCqZfXq1K"
      },
      "execution_count": 46,
      "outputs": []
    },
    {
      "cell_type": "code",
      "source": [
        "r2_score(y_test,prediction_lasso)"
      ],
      "metadata": {
        "colab": {
          "base_uri": "https://localhost:8080/"
        },
        "id": "qiF9COBeXtPa",
        "outputId": "bfcfc45a-a0f8-47cf-a785-0a505e34e4c3"
      },
      "execution_count": 47,
      "outputs": [
        {
          "output_type": "execute_result",
          "data": {
            "text/plain": [
              "0.8684761773691394"
            ]
          },
          "metadata": {},
          "execution_count": 47
        }
      ]
    },
    {
      "cell_type": "markdown",
      "source": [
        "# Decision Tree"
      ],
      "metadata": {
        "id": "EP4fosEvOIo8"
      }
    },
    {
      "cell_type": "code",
      "source": [
        "from sklearn.tree import DecisionTreeRegressor\n"
      ],
      "metadata": {
        "id": "2ZBAtOm4Yme1"
      },
      "execution_count": 48,
      "outputs": []
    },
    {
      "cell_type": "code",
      "source": [
        "from sklearn.model_selection import cross_val_score"
      ],
      "metadata": {
        "id": "UfMnVb-lYMrq"
      },
      "execution_count": 49,
      "outputs": []
    },
    {
      "cell_type": "code",
      "source": [
        "des_regressor = DecisionTreeRegressor(random_state=10)\n",
        "cross_val_score(des_regressor, x_train, y_train, cv=10).mean()"
      ],
      "metadata": {
        "colab": {
          "base_uri": "https://localhost:8080/"
        },
        "id": "rEfoRQlxYnlY",
        "outputId": "b3be8cd5-5e03-49ae-80c1-f7a8caa45561"
      },
      "execution_count": 50,
      "outputs": [
        {
          "output_type": "execute_result",
          "data": {
            "text/plain": [
              "0.9722182474203022"
            ]
          },
          "metadata": {},
          "execution_count": 50
        }
      ]
    },
    {
      "cell_type": "code",
      "source": [
        "des_regressor.fit(x_train,y_train)"
      ],
      "metadata": {
        "colab": {
          "base_uri": "https://localhost:8080/"
        },
        "id": "6xfj2YtmYwST",
        "outputId": "eb67e5ac-bfcc-4762-b345-b534177645b5"
      },
      "execution_count": 51,
      "outputs": [
        {
          "output_type": "execute_result",
          "data": {
            "text/plain": [
              "DecisionTreeRegressor(random_state=10)"
            ]
          },
          "metadata": {},
          "execution_count": 51
        }
      ]
    },
    {
      "cell_type": "code",
      "source": [
        "y_pred_des = des_regressor.predict(x_test)"
      ],
      "metadata": {
        "id": "6D4Fl72NYysm"
      },
      "execution_count": 52,
      "outputs": []
    },
    {
      "cell_type": "code",
      "source": [
        "r2_score(y_pred_des, y_test)"
      ],
      "metadata": {
        "colab": {
          "base_uri": "https://localhost:8080/"
        },
        "id": "_r-XS3R0Y1O2",
        "outputId": "2b3e5c5f-4a32-4fab-e2ba-c20f29b697c2"
      },
      "execution_count": 53,
      "outputs": [
        {
          "output_type": "execute_result",
          "data": {
            "text/plain": [
              "0.9720080820504533"
            ]
          },
          "metadata": {},
          "execution_count": 53
        }
      ]
    },
    {
      "cell_type": "markdown",
      "source": [
        "# Conclusion\n",
        "We can conclude that decision tree gives the best result in regression analysis."
      ],
      "metadata": {
        "id": "gNNLn_7syXiJ"
      }
    }
  ],
  "metadata": {
    "colab": {
      "collapsed_sections": [],
      "provenance": [],
      "include_colab_link": true
    },
    "kernelspec": {
      "display_name": "Python 3",
      "language": "python",
      "name": "python3"
    },
    "language_info": {
      "codemirror_mode": {
        "name": "ipython",
        "version": 3
      },
      "file_extension": ".py",
      "mimetype": "text/x-python",
      "name": "python",
      "nbconvert_exporter": "python",
      "pygments_lexer": "ipython3",
      "version": "3.6.6"
    }
  },
  "nbformat": 4,
  "nbformat_minor": 0
}